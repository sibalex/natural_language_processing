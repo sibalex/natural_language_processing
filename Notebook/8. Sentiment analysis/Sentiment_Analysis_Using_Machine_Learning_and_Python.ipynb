{
  "nbformat": 4,
  "nbformat_minor": 0,
  "metadata": {
    "colab": {
      "name": "Sentiment Analysis Using Machine Learning and Python",
      "provenance": [],
      "collapsed_sections": []
    },
    "kernelspec": {
      "name": "python3",
      "display_name": "Python 3"
    }
  },
  "cells": [
    {
      "cell_type": "markdown",
      "metadata": {
        "id": "yQDf99T7CezD",
        "colab_type": "text"
      },
      "source": [
        "## polarity"
      ]
    },
    {
      "cell_type": "code",
      "metadata": {
        "id": "ERUeZmqM1tWj",
        "colab_type": "code",
        "colab": {}
      },
      "source": [
        "# !pip install newspaper3k\n",
        "from textblob import TextBlob\n",
        "import nltk\n",
        "from newspaper import Article"
      ],
      "execution_count": 47,
      "outputs": []
    },
    {
      "cell_type": "code",
      "metadata": {
        "id": "R5hwVhqp1ytA",
        "colab_type": "code",
        "colab": {}
      },
      "source": [
        "url = 'https://everythingcomputerscience.com'\n",
        "article = Article(url)"
      ],
      "execution_count": 48,
      "outputs": []
    },
    {
      "cell_type": "code",
      "metadata": {
        "id": "tcJSq5Rm2Yib",
        "colab_type": "code",
        "colab": {
          "base_uri": "https://localhost:8080/",
          "height": 52
        },
        "outputId": "9788a8cb-37c3-403a-ef01-510c09e3ee23"
      },
      "source": [
        "article.download()\n",
        "article.parse()\n",
        "nltk.download('punkt')\n",
        "article.nlp()"
      ],
      "execution_count": 50,
      "outputs": [
        {
          "output_type": "stream",
          "text": [
            "[nltk_data] Downloading package punkt to /root/nltk_data...\n",
            "[nltk_data]   Package punkt is already up-to-date!\n"
          ],
          "name": "stdout"
        }
      ]
    },
    {
      "cell_type": "code",
      "metadata": {
        "id": "S2pdJrB72iLF",
        "colab_type": "code",
        "colab": {
          "base_uri": "https://localhost:8080/",
          "height": 106
        },
        "outputId": "42e80656-a021-4f7b-ece1-5007b838c698"
      },
      "source": [
        "text = article.summary\n",
        "print(text)\n"
      ],
      "execution_count": 51,
      "outputs": [
        {
          "output_type": "stream",
          "text": [
            "Computer Science (CS)Computer Science (CS) is the study of the principles and use of computers.\n",
            "Simply put it's the science that deals with the theory and methods of processing information in digital computers, the design of computer hardware and software, and the applications of computers.\n",
            "A computer is simply a tool for a computer scientist, like a telescope for an astronomer.\n",
            "Teach yourself !\n"
          ],
          "name": "stdout"
        }
      ]
    },
    {
      "cell_type": "code",
      "metadata": {
        "id": "a_jgv8mC2zgz",
        "colab_type": "code",
        "colab": {
          "base_uri": "https://localhost:8080/",
          "height": 35
        },
        "outputId": "6ef264e5-7a76-4c16-cbd9-000160a2e3d9"
      },
      "source": [
        "obj = TextBlob(text)\n",
        "sentiment = obj.sentiment.polarity\n",
        "print(sentiment)"
      ],
      "execution_count": 52,
      "outputs": [
        {
          "output_type": "stream",
          "text": [
            "0.0\n"
          ],
          "name": "stdout"
        }
      ]
    },
    {
      "cell_type": "code",
      "metadata": {
        "id": "QZ-nINOW3Ggj",
        "colab_type": "code",
        "colab": {
          "base_uri": "https://localhost:8080/",
          "height": 35
        },
        "outputId": "c72aaa76-f05c-4b2e-86df-02d42db3877d"
      },
      "source": [
        "if sentiment == 0:\n",
        "  print('The text is neutral')\n",
        "elif sentiment > 0:\n",
        "  print('The text is positive')\n",
        "else:\n",
        "  print('The text is neutral')"
      ],
      "execution_count": 54,
      "outputs": [
        {
          "output_type": "stream",
          "text": [
            "The text is neutral\n"
          ],
          "name": "stdout"
        }
      ]
    },
    {
      "cell_type": "markdown",
      "metadata": {
        "id": "j9-_DpLY3yxY",
        "colab_type": "text"
      },
      "source": [
        "## liu_hu_lexicon"
      ]
    },
    {
      "cell_type": "code",
      "metadata": {
        "id": "yswELTq63eqt",
        "colab_type": "code",
        "colab": {
          "base_uri": "https://localhost:8080/",
          "height": 52
        },
        "outputId": "9a463dda-836a-4ea8-d218-bc9a7919519b"
      },
      "source": [
        "import nltk\n",
        "nltk.download('opinion_lexicon')\n",
        "\n",
        "# def demo_liu_hu_lexicon(sentence, plot=False): <-- OLD!\n",
        "def demo_liu_hu_lexicon(sentence, plot=False, pred_print=False):\n",
        "    \"\"\"\n",
        "    Basic example of sentiment classification using Liu and Hu opinion lexicon.\n",
        "    This function simply counts the number of positive, negative and neutral words\n",
        "    in the sentence and classifies it depending on which polarity is more represented.\n",
        "    Words that do not appear in the lexicon are considered as neutral.\n",
        "\n",
        "    :param sentence: a sentence whose polarity has to be classified.\n",
        "    :param plot: if True, plot a visual representation of the sentence polarity.\n",
        "    \"\"\"\n",
        "    from nltk.corpus import opinion_lexicon\n",
        "    from nltk.tokenize import treebank\n",
        "\n",
        "    # import nltk\n",
        "    # nltk.download('opinion_lexicon')\n",
        "\n",
        "    tokenizer = treebank.TreebankWordTokenizer()\n",
        "    pos_words = 0\n",
        "    neg_words = 0\n",
        "    tokenized_sent = [word.lower() for word in tokenizer.tokenize(sentence)]\n",
        "\n",
        "    x = list(range(len(tokenized_sent)))  # x axis for the plot\n",
        "    y = []\n",
        "\n",
        "    for word in tokenized_sent:\n",
        "        if word in opinion_lexicon.positive():\n",
        "            pos_words += 1\n",
        "            y.append(1)  # positive\n",
        "        elif word in opinion_lexicon.negative():\n",
        "            neg_words += 1\n",
        "            y.append(-1)  # negative\n",
        "        else:\n",
        "            y.append(0)  # neutral\n",
        "\n",
        "    if pred_print != False: # <-- New 'IF'\n",
        "      if pos_words > neg_words:\n",
        "          print(\"Positive\")\n",
        "      elif pos_words < neg_words:\n",
        "          print(\"Negative\")\n",
        "      elif pos_words == neg_words:\n",
        "          print(\"Neutral\")\n",
        "    else:\n",
        "      pred = []\n",
        "      if pos_words > neg_words:\n",
        "          pred.append(\"Positive\")\n",
        "      elif pos_words < neg_words:\n",
        "          pred.append(\"Negative\")\n",
        "      elif pos_words == neg_words:\n",
        "          pred.append(\"Neutral\")\n",
        "      return pred\n",
        "\n",
        "    if plot == True:\n",
        "        _show_plot(\n",
        "            x, y, x_labels=tokenized_sent, y_labels=[\"Negative\", \"Neutral\", \"Positive\"]\n",
        "        )"
      ],
      "execution_count": 91,
      "outputs": [
        {
          "output_type": "stream",
          "text": [
            "[nltk_data] Downloading package opinion_lexicon to /root/nltk_data...\n",
            "[nltk_data]   Package opinion_lexicon is already up-to-date!\n"
          ],
          "name": "stdout"
        }
      ]
    },
    {
      "cell_type": "code",
      "metadata": {
        "id": "M0Ytm7rJ4fwZ",
        "colab_type": "code",
        "colab": {
          "base_uri": "https://localhost:8080/",
          "height": 168
        },
        "outputId": "78f195bc-911e-4877-e892-fba11067fb5d"
      },
      "source": [
        "df = pd.DataFrame({'author':['test0','test1','test2','test3'],\n",
        "                   'text':['Bad, awful, disgusting, disliked',\n",
        "                           'Basic example of sentiment classification using Liu and Hu opinion lexicon.', \n",
        "                           'Words that do not appear in the lexicon are considered as neutral.', \n",
        "                           'Love, perfectly, excellent, love']})\n",
        "\n",
        "df.head()"
      ],
      "execution_count": 89,
      "outputs": [
        {
          "output_type": "execute_result",
          "data": {
            "text/html": [
              "<div>\n",
              "<style scoped>\n",
              "    .dataframe tbody tr th:only-of-type {\n",
              "        vertical-align: middle;\n",
              "    }\n",
              "\n",
              "    .dataframe tbody tr th {\n",
              "        vertical-align: top;\n",
              "    }\n",
              "\n",
              "    .dataframe thead th {\n",
              "        text-align: right;\n",
              "    }\n",
              "</style>\n",
              "<table border=\"1\" class=\"dataframe\">\n",
              "  <thead>\n",
              "    <tr style=\"text-align: right;\">\n",
              "      <th></th>\n",
              "      <th>author</th>\n",
              "      <th>text</th>\n",
              "    </tr>\n",
              "  </thead>\n",
              "  <tbody>\n",
              "    <tr>\n",
              "      <th>0</th>\n",
              "      <td>test0</td>\n",
              "      <td>Bad, awful, disgusting, disliked</td>\n",
              "    </tr>\n",
              "    <tr>\n",
              "      <th>1</th>\n",
              "      <td>test1</td>\n",
              "      <td>Basic example of sentiment classification usin...</td>\n",
              "    </tr>\n",
              "    <tr>\n",
              "      <th>2</th>\n",
              "      <td>test2</td>\n",
              "      <td>Words that do not appear in the lexicon are co...</td>\n",
              "    </tr>\n",
              "    <tr>\n",
              "      <th>3</th>\n",
              "      <td>test3</td>\n",
              "      <td>Love, perfectly, excellent, love</td>\n",
              "    </tr>\n",
              "  </tbody>\n",
              "</table>\n",
              "</div>"
            ],
            "text/plain": [
              "  author                                               text\n",
              "0  test0                   Bad, awful, disgusting, disliked\n",
              "1  test1  Basic example of sentiment classification usin...\n",
              "2  test2  Words that do not appear in the lexicon are co...\n",
              "3  test3                   Love, perfectly, excellent, love"
            ]
          },
          "metadata": {
            "tags": []
          },
          "execution_count": 89
        }
      ]
    },
    {
      "cell_type": "code",
      "metadata": {
        "id": "wlkJIyqK8yuL",
        "colab_type": "code",
        "colab": {
          "base_uri": "https://localhost:8080/",
          "height": 35
        },
        "outputId": "ea938774-fda1-40a6-ea72-f4ddd33bdd95"
      },
      "source": [
        "# b = []\n",
        "# for i in df.text:\n",
        "#   b.append(demo_liu_hu_lexicon(i, plot=False, pred_print=False)[0])\n",
        "\n",
        "import numpy as np\n",
        "from collections import Counter\n",
        "\n",
        "pred = np.array([demo_liu_hu_lexicon(i, plot=False, pred_print=False) for i in df.text]).reshape(-1).tolist()\n",
        "Counter(pred)"
      ],
      "execution_count": 104,
      "outputs": [
        {
          "output_type": "execute_result",
          "data": {
            "text/plain": [
              "Counter({'Negative': 1, 'Neutral': 2, 'Positive': 1})"
            ]
          },
          "metadata": {
            "tags": []
          },
          "execution_count": 104
        }
      ]
    },
    {
      "cell_type": "code",
      "metadata": {
        "id": "fRSqOx3g7Drv",
        "colab_type": "code",
        "colab": {}
      },
      "source": [
        "pass"
      ],
      "execution_count": null,
      "outputs": []
    }
  ]
}