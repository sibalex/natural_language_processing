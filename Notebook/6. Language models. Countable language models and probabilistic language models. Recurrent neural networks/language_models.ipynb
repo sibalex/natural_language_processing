{
 "cells": [
  {
   "cell_type": "markdown",
   "metadata": {},
   "source": [
    "# Language modelling"
   ]
  },
  {
   "cell_type": "markdown",
   "metadata": {},
   "source": [
    "\n",
    "Обучим две различные символьные модели для генерации динозавров:\n",
    "* модель на символьных биграмах\n",
    "* ***RNN***-модель.\n"
   ]
  },
  {
   "cell_type": "markdown",
   "metadata": {},
   "source": [
    "## Bigram model\n"
   ]
  },
  {
   "cell_type": "code",
   "execution_count": 2,
   "metadata": {},
   "outputs": [
    {
     "name": "stdout",
     "output_type": "stream",
     "text": [
      "Zhuchengtyrannus\r\n",
      "Ziapelta\r\n",
      "Zigongosaurus\r\n",
      "Zizhongosaurus\r\n",
      "Zuniceratops\r\n",
      "Zunityrannus\r\n",
      "Zuolong\r\n",
      "Zuoyunlong\r\n",
      "Zupaysaurus\r\n",
      "Zuul"
     ]
    }
   ],
   "source": [
    "!cat dinos.txt | tail"
   ]
  },
  {
   "cell_type": "code",
   "execution_count": 3,
   "metadata": {},
   "outputs": [
    {
     "name": "stdout",
     "output_type": "stream",
     "text": [
      "['<aachenosaurus>', '<aardonyx>', '<abdallahsaurus>', '<abelisaurus>', '<abrictosaurus>', '<abrosaurus>', '<abydosaurus>', '<acanthopholis>', '<achelousaurus>', '<acheroraptor>']\n"
     ]
    }
   ],
   "source": [
    "names = ['<' + name.strip().lower() + '>' for name in open('dinos.txt').readlines()]\n",
    "print(names[:10])"
   ]
  },
  {
   "cell_type": "code",
   "execution_count": 4,
   "metadata": {},
   "outputs": [],
   "source": [
    "import nltk"
   ]
  },
  {
   "cell_type": "markdown",
   "metadata": {},
   "source": [
    "Вычислим частоту каждого символа в корпусе имен динозавров"
   ]
  },
  {
   "cell_type": "code",
   "execution_count": 5,
   "metadata": {},
   "outputs": [],
   "source": [
    "chars = [char for name in names for char in name]\n",
    "freq = nltk.FreqDist(chars)"
   ]
  },
  {
   "cell_type": "code",
   "execution_count": 6,
   "metadata": {},
   "outputs": [
    {
     "data": {
      "text/plain": [
       "FreqDist({'a': 2487, 's': 2285, 'u': 2123, 'o': 1710, 'r': 1704, '>': 1536, '<': 1536, 'n': 1081, 'i': 944, 'e': 913, ...})"
      ]
     },
     "execution_count": 6,
     "metadata": {},
     "output_type": "execute_result"
    }
   ],
   "source": [
    "freq"
   ]
  },
  {
   "cell_type": "code",
   "execution_count": 5,
   "metadata": {},
   "outputs": [
    {
     "name": "stdout",
     "output_type": "stream",
     "text": [
      "['h', 'p', 'i', 'u', 'q', '<', 'b', 'a', 'r', 'x', 'g', 'e', 'o', 'l', 'c', 'j', 'z', 's', 'd', 'f', 'y', 'm', 'v', 'n', 'w', '>', 'k', 't']\n"
     ]
    }
   ],
   "source": [
    "print(list(freq.keys()))"
   ]
  },
  {
   "cell_type": "code",
   "execution_count": 7,
   "metadata": {},
   "outputs": [
    {
     "data": {
      "text/plain": [
       "[('a', 2487),\n",
       " ('s', 2285),\n",
       " ('u', 2123),\n",
       " ('o', 1710),\n",
       " ('r', 1704),\n",
       " ('>', 1536),\n",
       " ('<', 1536),\n",
       " ('n', 1081),\n",
       " ('i', 944),\n",
       " ('e', 913)]"
      ]
     },
     "execution_count": 7,
     "metadata": {},
     "output_type": "execute_result"
    }
   ],
   "source": [
    "freq.most_common(10)"
   ]
  },
  {
   "cell_type": "markdown",
   "metadata": {},
   "source": [
    "Define a function to estimate probabilty of character"
   ]
  },
  {
   "cell_type": "code",
   "execution_count": 8,
   "metadata": {},
   "outputs": [],
   "source": [
    "l = sum([freq[char] for char in freq])\n",
    "def unigram_prob(char):\n",
    "    return freq[char] / l"
   ]
  },
  {
   "cell_type": "code",
   "execution_count": 9,
   "metadata": {},
   "outputs": [
    {
     "name": "stdout",
     "output_type": "stream",
     "text": [
      "p(a) = 0.1160\n"
     ]
    }
   ],
   "source": [
    "print('p(a) = %1.4f' %unigram_prob('a'))"
   ]
  },
  {
   "cell_type": "markdown",
   "metadata": {},
   "source": [
    "Вычислим условную вероятность каждого символа в зависимости от того, какой символ стоял на предыдущей позиции."
   ]
  },
  {
   "cell_type": "code",
   "execution_count": 10,
   "metadata": {},
   "outputs": [],
   "source": [
    "cfreq = nltk.ConditionalFreqDist(nltk.bigrams(chars))"
   ]
  },
  {
   "cell_type": "code",
   "execution_count": 11,
   "metadata": {},
   "outputs": [
    {
     "data": {
      "text/plain": [
       "FreqDist({'u': 791, 'n': 347, 't': 204, 's': 171, 'l': 138, '>': 138, 'r': 124, 'c': 100, 'p': 89, 'm': 68, ...})"
      ]
     },
     "execution_count": 11,
     "metadata": {},
     "output_type": "execute_result"
    }
   ],
   "source": [
    "cfreq['a']"
   ]
  },
  {
   "cell_type": "markdown",
   "metadata": {},
   "source": [
    "Оценим условные вероятности с помощью MLE."
   ]
  },
  {
   "cell_type": "code",
   "execution_count": 12,
   "metadata": {},
   "outputs": [],
   "source": [
    "cprob = nltk.ConditionalProbDist(cfreq, nltk.MLEProbDist)"
   ]
  },
  {
   "cell_type": "code",
   "execution_count": 13,
   "metadata": {},
   "outputs": [
    {
     "name": "stdout",
     "output_type": "stream",
     "text": [
      "p(a a) = 0.0044\n",
      "p(a b) = 0.0097\n",
      "p(a u) = 0.3181\n"
     ]
    }
   ],
   "source": [
    "print('p(a a) = %1.4f' %cprob['a'].prob('a'))\n",
    "print('p(a b) = %1.4f' %cprob['a'].prob('b'))\n",
    "print('p(a u) = %1.4f' %cprob['a'].prob('u'))"
   ]
  },
  {
   "cell_type": "code",
   "execution_count": 14,
   "metadata": {},
   "outputs": [
    {
     "data": {
      "text/plain": [
       "'>'"
      ]
     },
     "execution_count": 14,
     "metadata": {},
     "output_type": "execute_result"
    }
   ],
   "source": [
    "cprob['a'].generate()"
   ]
  },
  {
   "cell_type": "code",
   "execution_count": null,
   "metadata": {},
   "outputs": [],
   "source": [
    "import numpy an np"
   ]
  },
  {
   "cell_type": "markdown",
   "metadata": {},
   "source": [
    "### Задание 1.\n",
    "\n",
    "1) Напишите функцию, которая генерирует имя динозавра **фиксированной** длины. Используйте '<' как начальный символ.\n",
    "\n",
    "2) Напишите функцию, которая генерирует имя динозавра любой дины."
   ]
  },
  {
   "cell_type": "code",
   "execution_count": null,
   "metadata": {},
   "outputs": [],
   "source": [
    "def generate_n_chars(cprob, n):\n",
    "    name = '<'\n",
    "    for i in range(n):\n",
    "        name += cprob[name[-1]].generate()\n",
    "        \n",
    "        if name[-1] == '>':\n",
    "            break\n",
    "    \n",
    "    if name[-1] != '>':\n",
    "        name += '>'\n",
    "        return name"
   ]
  },
  {
   "cell_type": "markdown",
   "metadata": {},
   "source": [
    "## Реккурентные нейронные сети (RNN)\n",
    "\n",
    "Исходная последовательность:\n",
    "\n",
    "$x_{1:n} = x_1, x_2, \\ldots, x_n$, $x_i \\in \\mathbb{R}^{d_{in}}$\n",
    "\n",
    "Для каждого входного значения $x_{1:i}$ получаем на выходе $y_i$:\n",
    "\n",
    "$y_i = RNN(x_{1:i})$, $y_i \\in \\mathbb{R}^{d_{out}}$\n",
    "\n",
    "Для всей последовательности $x_{1:n}$:\n",
    "\n",
    "$y_{1:n} = RNN^{*}(x_{1:n})$, $y_i \\in \\mathbb{R}^{d_{out}}$"
   ]
  },
  {
   "cell_type": "markdown",
   "metadata": {},
   "source": [
    "$R$ - рекурсивная функция активации, зависящая от двух параметров: $x_i$ и $s_{i-1}$ (вектор предыдущего состояния)\n",
    "\n",
    "$RNN^{*}(x_{1:n}, s_0) = y_{1:n}$\n",
    "\n",
    "$y_i = O(s_i) = g(W^{out}[s_{i} ,x_i] +b)$\n",
    "\n",
    "$s_i = R(s_{i-1}, x_i)$\n",
    "\n",
    "$s_i = R(s_{i-1}, x_i) = g(W^{hid}[s_{i-1} ,x_i] +b)$  -- конкатенация $[s_{i-1}, x]$\n",
    "\n",
    "$x_i \\in \\mathbb{R}^{d_{in}}$, $y_i \\in \\mathbb{R}^{ d_{out}}$, $s_i \\in \\mathbb{R}^{d_{hid}}$\n",
    "\n",
    "$W^{hid} \\in \\mathbb{R}^{(d_{in}+d_{out}) \\times d_{hid}}$, $W^{out} \\in \\mathbb{R}^{d_{hid} \\times d_{out}}$"
   ]
  },
  {
   "cell_type": "markdown",
   "metadata": {},
   "source": [
    "Построим языковую модель на основе RNN с помощью pytorch"
   ]
  },
  {
   "cell_type": "code",
   "execution_count": 29,
   "metadata": {},
   "outputs": [
    {
     "name": "stdout",
     "output_type": "stream",
     "text": [
      "The autoreload extension is already loaded. To reload it, use:\n",
      "  %reload_ext autoreload\n"
     ]
    }
   ],
   "source": [
    "import numpy as np\n",
    "import random\n",
    "import torch\n",
    "import torch.nn as nn\n",
    "import torch.optim as optim\n",
    "import pdb\n",
    "from torch.utils.data import Dataset, DataLoader\n",
    "\n",
    "%load_ext autoreload\n",
    "%autoreload 2\n",
    "\n",
    "torch.set_printoptions(linewidth=200)"
   ]
  },
  {
   "cell_type": "code",
   "execution_count": 30,
   "metadata": {},
   "outputs": [],
   "source": [
    "device = torch.device(\"cuda:0\" if torch.cuda.is_available() else \"cpu\")\n",
    "hidden_size = 50"
   ]
  },
  {
   "cell_type": "markdown",
   "metadata": {},
   "source": [
    "Подготовим данные"
   ]
  },
  {
   "cell_type": "code",
   "execution_count": 31,
   "metadata": {
    "code_folding": [
     0
    ]
   },
   "outputs": [],
   "source": [
    "class DinosDataset(Dataset):\n",
    "    def __init__(self):\n",
    "        super().__init__()\n",
    "        with open('dinos.txt') as f:\n",
    "            content = f.read().lower()\n",
    "            self.vocab = sorted(set(content)) + ['<', '>']\n",
    "            self.vocab_size = len(self.vocab)\n",
    "            self.lines = content.splitlines()\n",
    "        self.ch_to_idx = {c:i for i, c in enumerate(self.vocab)}\n",
    "        self.idx_to_ch = {i:c for i, c in enumerate(self.vocab)}\n",
    "    \n",
    "    def __getitem__(self, index):\n",
    "        line = self.lines[index]\n",
    "        #teacher forcing\n",
    "        x_str = '<' + line \n",
    "        y_str = line + '>' \n",
    "        x = torch.zeros([len(x_str), self.vocab_size], dtype=torch.float)\n",
    "        y = torch.empty(len(x_str), dtype=torch.long)\n",
    "#         y = torch.empty(len(x_str), dtype=torch.int) # не будет работать т.к. pytorch ожидает .long\n",
    "#         print('x', x)\n",
    "#         print('y', y)\n",
    "        for i, (x_ch, y_ch) in enumerate(zip(x_str, y_str)):\n",
    "            x[i][self.ch_to_idx[x_ch]] = 1\n",
    "            y[i] = self.ch_to_idx[y_ch]\n",
    "#         print('x', x)\n",
    "#         print('y', y)        \n",
    "        return x, y\n",
    "    \n",
    "    def __len__(self):\n",
    "        return len(self.lines)"
   ]
  },
  {
   "cell_type": "code",
   "execution_count": 10,
   "metadata": {
    "ExecuteTime": {
     "end_time": "2019-12-29T10:21:22.377973Z",
     "start_time": "2019-12-29T10:21:22.373808Z"
    }
   },
   "outputs": [],
   "source": [
    "trn_ds = DinosDataset()\n",
    "# trn_dl = DataLoader(trn_ds, shuffle=True)"
   ]
  },
  {
   "cell_type": "code",
   "execution_count": 33,
   "metadata": {},
   "outputs": [
    {
     "data": {
      "text/plain": [
       "'aardonyx'"
      ]
     },
     "execution_count": 33,
     "metadata": {},
     "output_type": "execute_result"
    }
   ],
   "source": [
    "trn_ds.lines[1]"
   ]
  },
  {
   "cell_type": "code",
   "execution_count": 34,
   "metadata": {},
   "outputs": [
    {
     "name": "stdout",
     "output_type": "stream",
     "text": [
      "{0: '\\n', 1: 'a', 2: 'b', 3: 'c', 4: 'd', 5: 'e', 6: 'f', 7: 'g', 8: 'h', 9: 'i', 10: 'j', 11: 'k', 12: 'l', 13: 'm', 14: 'n', 15: 'o', 16: 'p', 17: 'q', 18: 'r', 19: 's', 20: 't', 21: 'u', 22: 'v', 23: 'w', 24: 'x', 25: 'y', 26: 'z', 27: '<', 28: '>'}\n"
     ]
    }
   ],
   "source": [
    "print(trn_ds.idx_to_ch)"
   ]
  },
  {
   "cell_type": "code",
   "execution_count": 35,
   "metadata": {},
   "outputs": [
    {
     "data": {
      "text/plain": [
       "29"
      ]
     },
     "execution_count": 35,
     "metadata": {},
     "output_type": "execute_result"
    }
   ],
   "source": [
    "trn_ds.vocab_size"
   ]
  },
  {
   "cell_type": "code",
   "execution_count": 36,
   "metadata": {},
   "outputs": [],
   "source": [
    "x, y = trn_ds[1]"
   ]
  },
  {
   "cell_type": "code",
   "execution_count": 37,
   "metadata": {
    "scrolled": true
   },
   "outputs": [
    {
     "data": {
      "text/plain": [
       "torch.Size([9, 29])"
      ]
     },
     "execution_count": 37,
     "metadata": {},
     "output_type": "execute_result"
    }
   ],
   "source": [
    "x.shape"
   ]
  },
  {
   "cell_type": "code",
   "execution_count": 39,
   "metadata": {},
   "outputs": [
    {
     "data": {
      "text/plain": [
       "torch.Size([9])"
      ]
     },
     "execution_count": 39,
     "metadata": {},
     "output_type": "execute_result"
    }
   ],
   "source": [
    "y.shape"
   ]
  },
  {
   "cell_type": "code",
   "execution_count": null,
   "metadata": {},
   "outputs": [],
   "source": [
    "[trn_ds.idx_to_ch[i.item()] for i in y]"
   ]
  },
  {
   "cell_type": "markdown",
   "metadata": {},
   "source": [
    "Опишем модель, функцию потерь и алгоритм оптимизации"
   ]
  },
  {
   "cell_type": "code",
   "execution_count": 42,
   "metadata": {
    "code_folding": []
   },
   "outputs": [],
   "source": [
    "class RNN(nn.Module):\n",
    "    def __init__(self, input_size, hidden_size, output_size):\n",
    "        super().__init__()\n",
    "        self.i2h = nn.Linear(input_size + hidden_size, hidden_size)\n",
    "        self.dropout = nn.Dropout(0.3)\n",
    "        self.i2o = nn.Linear(hidden_size, output_size)\n",
    "    \n",
    "    def forward(self, h_prev, x):\n",
    "        combined = torch.cat([h_prev, x], dim = 1) # concatenate x and h\n",
    "        h = torch.tanh(self.dropout(self.i2h(combined)))\n",
    "        y = self.i2o(h)\n",
    "        return h, y"
   ]
  },
  {
   "cell_type": "code",
   "execution_count": 44,
   "metadata": {},
   "outputs": [],
   "source": [
    "model = RNN(trn_ds.vocab_size, hidden_size, trn_ds.vocab_size).to(device)\n",
    "loss_fn = nn.CrossEntropyLoss()\n",
    "optimizer = optim.SGD(model.parameters(), lr=1e-2)"
   ]
  },
  {
   "cell_type": "markdown",
   "metadata": {},
   "source": [
    "![rnn](images/dinos3.png)"
   ]
  },
  {
   "cell_type": "code",
   "execution_count": 55,
   "metadata": {
    "code_folding": []
   },
   "outputs": [],
   "source": [
    "def sample(model): # функция пораждает список индексов символов\n",
    "    model.eval()\n",
    "    word_size=0\n",
    "    end_char_idx = trn_ds.ch_to_idx['>'] # чтобы понимать, когда слово кончилось (индекс последнего символа)\n",
    "    start_char_idx = trn_ds.ch_to_idx['<'] # seed для начала слова (индекс начального символа)\n",
    "    with torch.no_grad():\n",
    "        h_prev = torch.zeros([1, hidden_size], dtype=torch.float, device=device) # первый вектор скрытого состояния\n",
    "        x = h_prev.new_zeros([1, trn_ds.vocab_size])\n",
    "        \n",
    "        # \"сгенерирвали\" начало слова\n",
    "        indices = [start_char_idx]\n",
    "        x[0, start_char_idx] = 1 # one-hot вектор для начаьного символа\n",
    "        predicted_char_idx = start_char_idx\n",
    "        \n",
    "        while predicted_char_idx != end_char_idx and word_size != 50:\n",
    "            h_prev, y_pred = model(h_prev, x)\n",
    "            y_softmax_scores = torch.softmax(y_pred, dim=1)\n",
    "            \n",
    "            np.random.seed(np.random.randint(1, 5000)) # для увеливичения случайностей\n",
    "            # .cpu().numpy() перевод на процессор потому-что np работает с числами на процессоре | .ravel() убрать измерение\n",
    "            idx = np.random.choice(np.arange(trn_ds.vocab_size), p=y_softmax_scores.cpu().numpy().ravel()) # список символов и их вероятности\n",
    "            indices.append(idx)\n",
    "            \n",
    "            # нули все кроме самого вероятного. Подаем самое лучшее, чтобы избежать шаблонов\n",
    "            x = (y_pred == y_pred.max(1)[0]).float() # нетривиальное решение: подаём не всегда то же, что выдали\n",
    "            \n",
    "            predicted_char_idx = idx\n",
    "            \n",
    "            word_size += 1\n",
    "        \n",
    "        if word_size == 50:\n",
    "            indices.append(newline_idx) # если 50 то добавляем символ конца строки\n",
    "    return indices"
   ]
  },
  {
   "cell_type": "code",
   "execution_count": 56,
   "metadata": {
    "code_folding": []
   },
   "outputs": [],
   "source": [
    "def print_sample(sample_idxs):\n",
    "#     [print(trn_ds.idx_to_ch[x], end ='') for x in sample_idxs]\n",
    "#     print()\n",
    "    print(''.join([idx_to_ch[x] for x in sample_idxs])) # принимаем индексы(словарь) и в цикле возвращием символы в одной строке"
   ]
  },
  {
   "cell_type": "markdown",
   "metadata": {},
   "source": [
    "Обучим получившуюся модель"
   ]
  },
  {
   "cell_type": "code",
   "execution_count": 57,
   "metadata": {
    "code_folding": []
   },
   "outputs": [],
   "source": [
    "def train_one_epoch(model, loss_fn, optimizer):\n",
    "    model.train()\n",
    "    for line_num, (x, y) in enumerate(trn_dl):\n",
    "        loss = 0\n",
    "        optimizer.zero_grad()\n",
    "        h_prev = torch.zeros([1, hidden_size], dtype=torch.float, device=device)\n",
    "        x, y = x.to(device), y.to(device)\n",
    "        for i in range(x.shape[1]):\n",
    "            h_prev, y_pred = model(h_prev, x[:, i])\n",
    "            loss += loss_fn(y_pred, y[:, i])\n",
    "            \n",
    "        if (line_num+1) % 100 == 0: # можно печтать реже заменить на 200\n",
    "#         if (line_num) % 100 == 0:\n",
    "#             print('loss', loss.item() / y.size()[0])\n",
    "            print_sample(sample(model))\n",
    "#         optimizer.zero_grad()           \n",
    "        loss.backward()\n",
    "        optimizer.step()"
   ]
  },
  {
   "cell_type": "code",
   "execution_count": 95,
   "metadata": {
    "code_folding": []
   },
   "outputs": [],
   "source": [
    "def train(model, loss_fn, optimizer, dataset='dinos', epochs=1):\n",
    "    for e in range(1, epochs+1):\n",
    "        print('Epoch:{}'.format(e))\n",
    "        train_one_epoch(model, loss_fn, optimizer)\n",
    "        print()"
   ]
  },
  {
   "cell_type": "code",
   "execution_count": 96,
   "metadata": {
    "scrolled": false
   },
   "outputs": [
    {
     "name": "stdout",
     "output_type": "stream",
     "text": [
      "Epoch:1\n",
      "<ig>\n",
      "<qzorep>\n",
      "<drrui>\n",
      "<saurus>\n",
      "<iaqnosaisus>\n",
      "<namrus>\n",
      "<haurhscunur>\n",
      "<yrsasturus>\n",
      "<kyrippsaliamobtesaftoa>\n",
      "<dinrasausus>\n",
      "<turklour>\n",
      "<saurucaurus>\n",
      "<slsah>\n",
      "<mannupalros>\n",
      "<oudutsneuss>\n",
      "\n",
      "Epoch:2\n",
      "<shrotapasrus>\n",
      "<euaasabrus>\n",
      "<iaucmtaurus>\n",
      "<klrur>\n",
      "<sprusaures>\n",
      "<aurucauras>\n",
      "<telaoaaurus>\n",
      "<tnnnuseurus>\n",
      "<tanras>\n",
      "<aulucauras>\n",
      "<smlataitaurus>\n",
      "<llronuonoosaurus>\n",
      "<aulucaurds>\n",
      "<sanaucaurus>\n",
      "<trndsausus>\n",
      "\n",
      "Epoch:3\n",
      "<srbrom>\n",
      "<scohsanruk>\n",
      "<cunibilrus>\n",
      "<cpronhsaurus>\n",
      "<sparhansdaurus>\n",
      "<laresgpaurus>\n",
      "<ugsstlkaurus>\n",
      "<pttbgkcaurus>\n",
      "<ahonaoneurus>\n",
      "<hvrugrsiurus>\n",
      "<yonotrcaurus>\n",
      "<slsactocaurus>\n",
      "<samtssurus>\n",
      "<doriyrlsaurus>\n",
      "<duasmkorusnur>\n",
      "\n",
      "Epoch:4\n",
      "<hacsas>\n",
      "<puasstsaurus>\n",
      "<ltrucaurus>\n",
      "<sltalpurus>\n",
      "<gacrasuurus>\n",
      "<snerop>\n",
      "<spostarmdoon>\n",
      "<duaatnaoltos>\n",
      "<tciuosaurus>\n",
      "<qrhxsosaurus>\n",
      "<fuashrdauras>\n",
      "<slgasaptptius>\n",
      "<mcurizturus>\n",
      "<ihcgtcsaurus>\n",
      "<aelrcnaurus>\n",
      "\n",
      "Epoch:5\n",
      "<uisus>\n",
      "<diurysaurus>\n",
      "<laltbsg>\n",
      "<aaurapaurus>\n",
      "<antusaurus>\n",
      "<sortusaures>\n",
      "<amsarnsaurur>\n",
      "<crmgcourus>\n",
      "<cotopaurus>\n",
      "<lrrtasarrus>\n",
      "<gtcroraurus>\n",
      "<asapuntasaurus>\n",
      "<hxtnrtsauris>\n",
      "<auhucauras>\n",
      "<slicscrus>\n",
      "\n",
      "Epoch:6\n",
      "<couosaurus>\n",
      "<lrtrapaurus>\n",
      "<guaaribops>\n",
      "<gcpantouaurus>\n",
      "<rsexriostcaurus>\n",
      "<slsaasaprus>\n",
      "<gcsantusas>\n",
      "<snbposuurus>\n",
      "<anianocaurus>\n",
      "<lbihsgoa>\n",
      "<aiuruktoryhtoo>\n",
      "<siurocaurus>\n",
      "<shsaetsaurus>\n",
      "<auanturas>\n",
      "<snatoryttos>\n",
      "\n",
      "Epoch:7\n",
      "<aeoces>\n",
      "<smtaluurus>\n",
      "<gmasdaurus>\n",
      "<ttiesaurus>\n",
      "<suaenameurus>\n",
      "<cpnanaurus>\n",
      "<ahupslaurus>\n",
      "<rewtosoteor>\n",
      "<gpcplisrus>\n",
      "<llsinatcaurus>\n",
      "<ttnctopuurus>\n",
      "<amianoctor>\n",
      "<aukbiesaurus>\n",
      "<wrtcruaurus>\n",
      "<ytrrosaoraurus>\n",
      "\n",
      "Epoch:8\n",
      "<tcaosaurus>\n",
      "<aubhyrtdourus>\n",
      "<pnvtiseurus>\n",
      "<euapnscauras>\n",
      "<selaohiuoss>\n",
      "<tunhrop>\n",
      "<snrotaurus>\n",
      "<asctaesaurus>\n",
      "<hapamtiurus>\n",
      "<llnonuurus>\n",
      "<ahnalocauros>\n",
      "<mandungatnr>\n",
      "<ouborsaurus>\n",
      "<tinosaurus>\n",
      "<atetadaurus>\n",
      "\n",
      "Epoch:9\n",
      "<gacras>\n",
      "<ptcpotaurus>\n",
      "<sitruaaurus>\n",
      "<sauaosalrus>\n",
      "<haschyr>\n",
      "<bttiicaurus>\n",
      "<pttainaisaurus>\n",
      "<snaiisihnsaus>\n",
      "<uerttonaurus>\n",
      "<pttamiaurus>\n",
      "<tacrobaurus>\n",
      "<tansoshyutor>\n",
      "<roytors>\n",
      "<anhcgsdaurus>\n",
      "<manatisasioutun>\n",
      "\n",
      "Epoch:10\n",
      "<srncosg>\n",
      "<shorsanaurus>\n",
      "<euaasocaurus>\n",
      "<tcivouicurus>\n",
      "<snutiosaurus>\n",
      "<tctgsaurus>\n",
      "<dtgecscaurus>\n",
      "<stjesaurus>\n",
      "<ruamnasaurus>\n",
      "<btianaurus>\n",
      "<anuptdaurus>\n",
      "<smusir>\n",
      "<tbinblmurus>\n",
      "<briaonaurus>\n",
      "<kuusatiurus>\n",
      "\n"
     ]
    }
   ],
   "source": [
    "train(model, loss_fn, optimizer, epochs = 10)"
   ]
  },
  {
   "cell_type": "markdown",
   "metadata": {},
   "source": [
    "**Перепешите функцию сэмплирования так, чтобы она порождала панграмы (слова, в которых каждая буква встречается только 1-ин раз)**"
   ]
  },
  {
   "cell_type": "code",
   "execution_count": 7,
   "metadata": {
    "ExecuteTime": {
     "end_time": "2019-12-29T10:20:28.618783Z",
     "start_time": "2019-12-29T10:20:28.613810Z"
    }
   },
   "outputs": [],
   "source": [
    "def get_mask(indices):\n",
    "    mask = []\n",
    "    for i in np.arange(trn_ds.vocab_size):\n",
    "        if i in indices and i != trn_ds.ch_to_idx['u']:\n",
    "            mask.append(0)\n",
    "        else:\n",
    "            mask.append(1)\n",
    "    return np.array(mask)"
   ]
  },
  {
   "cell_type": "code",
   "execution_count": 6,
   "metadata": {
    "ExecuteTime": {
     "end_time": "2019-12-29T10:20:25.331689Z",
     "start_time": "2019-12-29T10:20:25.322558Z"
    }
   },
   "outputs": [],
   "source": [
    "def sample(model):\n",
    "    model.eval()\n",
    "    word_size=0\n",
    "    end_char_idx = trn_ds.ch_to_idx['>']\n",
    "    start_char_idx = trn_ds.ch_to_idx['<']\n",
    "    with torch.no_grad():\n",
    "        h_prev = torch.zeros([1, hidden_size], dtype=torch.float, device=device)\n",
    "        x = h_prev.new_zeros([1, trn_ds.vocab_size])\n",
    "        \n",
    "        indices = [start_char_idx]\n",
    "        x[0, start_char_idx] = 1\n",
    "        predicted_char_idx = start_char_idx\n",
    "        \n",
    "        while predicted_char_idx != end_char_idx and word_size != 50:\n",
    "            h_prev, y_pred = model(h_prev, x)\n",
    "            y_softmax_scores = torch.softmax(y_pred, dim=1)\n",
    "            \n",
    "            np.random.seed(np.random.randint(1, 5000))\n",
    "            probas = y_softmax_scores.cpu().numpy().ravel() #1\n",
    "            probas *= get_mask(indices) #2\n",
    "            sum_probas = sum(probas) #3\n",
    "            idx = np.random.choice(np.arange(trn_ds.vocab_size), p=[el / sum_probas for el in probas]) #4\n",
    "            indices.append(idx)\n",
    "            \n",
    "            x = (y_pred == y_pred.max(1)[0]).float()\n",
    "            \n",
    "            predicted_char_idx = idx\n",
    "            \n",
    "            word_size += 1\n",
    "        \n",
    "        if word_size == 50:\n",
    "            indices.append(newline_idx)\n",
    "    return indices"
   ]
  },
  {
   "cell_type": "code",
   "execution_count": null,
   "metadata": {
    "ExecuteTime": {
     "end_time": "2019-12-29T10:20:29.481176Z",
     "start_time": "2019-12-29T10:20:29.468053Z"
    }
   },
   "outputs": [],
   "source": [
    "def print_sample(sample_idxs):\n",
    "    print(''.join([idx_to_ch[x] for x in sample_idxs]))"
   ]
  },
  {
   "cell_type": "code",
   "execution_count": null,
   "metadata": {},
   "outputs": [],
   "source": [
    "for i in range(10):\n",
    "    print_sample(sample(model))"
   ]
  },
  {
   "cell_type": "markdown",
   "metadata": {},
   "source": [
    "**Перепешите функцию сэмплирования так, чтобы было возможно менять температуру сэмплирования**"
   ]
  },
  {
   "cell_type": "code",
   "execution_count": null,
   "metadata": {},
   "outputs": [],
   "source": [
    "def sample(model):\n",
    "    model.eval()\n",
    "    word_size=0\n",
    "    end_char_idx = trn_ds.ch_to_idx['>']\n",
    "    start_char_idx = trn_ds.ch_to_idx['<']\n",
    "    \n",
    "    with torch.no_grad():\n",
    "        h_prev = torch.zeros([1, hidden_size], dtype=torch.float, device=device)\n",
    "        x = h_prev.new_zeros([1, trn_ds.vocab_size])\n",
    "        \n",
    "        indices = [start_char_idx]\n",
    "        x[0, start_char_idx] = 1\n",
    "        predicted_char_idx = start_char_idx\n",
    "        \n",
    "        while predicted_char_idx != end_char_idx and word_size != 50:\n",
    "            h_prev, y_pred = model(h_prev, x)\n",
    "            y_softmax_scores = torch.softmax(y_pred, dim=1)\n",
    "            \n",
    "            np.random.seed(np.random.randint(1, 5000))\n",
    "            probas = y_softmax_scores.cpu().numpy().ravel() #1\n",
    "            probas = probas ** (1/T) #2 меняем вероятности в соответствии с температурой\n",
    "            sum_probas = sum(probas) #3\n",
    "            idx = np.random.choice(np.arange(trn_ds.vocab_size), p=[el / sum_probas for el in probas]) #4\n",
    "            indices.append(idx)\n",
    "            \n",
    "            x = (y_pred == y_pred.max(1)[0]).float()\n",
    "            predicted_char_idx = idx\n",
    "            word_size += 1\n",
    "        \n",
    "        if word_size == 50:\n",
    "            indices.append(newline_idx)\n",
    "    return indices"
   ]
  },
  {
   "cell_type": "code",
   "execution_count": null,
   "metadata": {},
   "outputs": [],
   "source": [
    "# температура = 1 значит без изменений, но чем выше температура тем больше изменений\n",
    "for i in range(10):\n",
    "    print_sample(sample(model, 1))"
   ]
  },
  {
   "cell_type": "markdown",
   "metadata": {},
   "source": [
    "# Reference\n",
    "\n",
    "1. Sampling in  RNN: https://nlp.stanford.edu/blog/maximum-likelihood-decoding-with-rnns-the-good-the-bad-and-the-ugly/\n",
    "2. Coursera course (main source): https://github.com/furkanu/deeplearning.ai-pytorch/tree/master/5-%20Sequence%20Models\n",
    "3. Coursera course (main source): https://github.com/Kulbear/deep-learning-coursera/blob/master/Sequence%20Models/Dinosaurus%20Island%20--%20Character%20level%20language%20model%20final%20-%20v3.ipynb\n",
    "4. LSTM: http://colah.github.io/posts/2015-08-Understanding-LSTMs/\n",
    "5. Туториал по модулю LSTM в pytorch: https://pytorch.org/tutorials/beginner/nlp/sequence_models_tutorial.html"
   ]
  }
 ],
 "metadata": {
  "hide_input": false,
  "kernelspec": {
   "display_name": "Python 3",
   "language": "python",
   "name": "python3"
  },
  "language_info": {
   "codemirror_mode": {
    "name": "ipython",
    "version": 3
   },
   "file_extension": ".py",
   "mimetype": "text/x-python",
   "name": "python",
   "nbconvert_exporter": "python",
   "pygments_lexer": "ipython3",
   "version": "3.7.3"
  },
  "toc": {
   "base_numbering": 1,
   "nav_menu": {},
   "number_sections": true,
   "sideBar": true,
   "skip_h1_title": false,
   "title_cell": "Table of Contents",
   "title_sidebar": "Contents",
   "toc_cell": false,
   "toc_position": {},
   "toc_section_display": true,
   "toc_window_display": false
  }
 },
 "nbformat": 4,
 "nbformat_minor": 2
}
