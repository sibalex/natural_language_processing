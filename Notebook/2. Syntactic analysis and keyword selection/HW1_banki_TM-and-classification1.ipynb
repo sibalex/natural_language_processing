{
 "cells": [
  {
   "cell_type": "code",
   "execution_count": 1,
   "metadata": {},
   "outputs": [
    {
     "name": "stdout",
     "output_type": "stream",
     "text": [
      "Populating the interactive namespace from numpy and matplotlib\n"
     ]
    }
   ],
   "source": [
    "import json\n",
    "import bz2\n",
    "import regex\n",
    "import pandas as pd\n",
    "import numpy as np\n",
    "import nltk\n",
    "import matplotlib.pyplot as plt\n",
    "import seaborn as sns\n",
    "import re\n",
    "# import pprint\n",
    "\n",
    "from tqdm import tqdm\n",
    "from scipy import sparse\n",
    "# from collections import Counter\n",
    "\n",
    "import warnings\n",
    "warnings.filterwarnings('ignore')\n",
    "\n",
    "import matplotlib\n",
    "matplotlib.style.use('ggplot')\n",
    "\n",
    "from pylab import rcParams\n",
    "rcParams['figure.figsize'] = 10, 8\n",
    "\n",
    "from nltk.corpus import stopwords\n",
    "# import nltk\n",
    "# nltk.download('stopwords')\n",
    "\n",
    "# from natasha import *\n",
    "from natasha import LocationExtractor\n",
    "\n",
    "%matplotlib inline\n",
    "%pylab inline\n",
    "%config InlineBackend.figure_format = 'retina'"
   ]
  },
  {
   "cell_type": "code",
   "execution_count": 13,
   "metadata": {
    "scrolled": true
   },
   "outputs": [
    {
     "name": "stderr",
     "output_type": "stream",
     "text": [
      "201030it [01:45, 1912.94it/s]\n"
     ]
    }
   ],
   "source": [
    "responses = []\n",
    "with bz2.BZ2File('/Users/aleksandr/Downloads/nlp-netology-master/2/banki_responses.json.bz2', 'r') as thefile:\n",
    "    for row in tqdm(thefile):\n",
    "        resp = json.loads(row)\n",
    "        if not resp['rating_not_checked'] and (len(resp['text'].split()) > 0):\n",
    "            responses.append(resp)"
   ]
  },
  {
   "cell_type": "markdown",
   "metadata": {},
   "source": [
    "#  Домашнее задание по NLP # 1 [100 баллов]\n",
    "## Классификация по тональности \n",
    "\n",
    "В этом домашнем задании вам предстоит классифицировать по тональности отзывы на банки с сайта banki.ru. [Ссылка на данные](https://drive.google.com/open?id=1CPKtX5HcgGWRpzbWZ2fMCyqgHGgk21l2).\n",
    "\n",
    "Данные содержат непосредственно тексты отзывов, некоторую дополнительную информацию, а также оценку по шкале от 1 до 5. \n",
    "\n",
    "Тексты хранятся в json-ах в массиве responses.\n",
    "\n",
    "Посмотрим на пример отзыва:"
   ]
  },
  {
   "cell_type": "code",
   "execution_count": 14,
   "metadata": {},
   "outputs": [
    {
     "data": {
      "text/plain": [
       "{'city': 'г. Саратов',\n",
       " 'rating_not_checked': False,\n",
       " 'title': 'Карта ко вкладу',\n",
       " 'num_comments': 0,\n",
       " 'bank_license': 'лицензия № 880',\n",
       " 'author': 'ronnichka',\n",
       " 'bank_name': 'Югра',\n",
       " 'datetime': '2015-06-03 20:56:57',\n",
       " 'text': 'Здравствуйте! Хотела написать, что мне месяц не выдают карту ко вкладу, ссылаясь на \"нам же их из Самары везут\" (на секундочку 5 часов езды от нашего города). Но! Прочитала, что людям 3,5 месяцев не выдают карту, и поняла, что у меня все хорошо, пока что. И подарок мне дали, и кулер в отделении есть. Так что я, конечно, готова ждать. Правда хотелось бы не очень долго.',\n",
       " 'rating_grade': 3}"
      ]
     },
     "execution_count": 14,
     "metadata": {},
     "output_type": "execute_result"
    }
   ],
   "source": [
    "responses[99]"
   ]
  },
  {
   "cell_type": "markdown",
   "metadata": {},
   "source": [
    "## Часть 1. Анализ текстов [40/100]\n",
    "\n",
    "1. Посчитайте количество отзывов в разных городах и на разные банки\n",
    "2. Постройте гистограмы длин слов в символах и в словах (не обязательно)\n",
    "3. Найдите 10 самых частых:\n",
    "    * слов\n",
    "    * слов без стоп-слов\n",
    "    * лемм \n",
    "* существительных\n",
    "4. Постройте кривую Ципфа\n",
    "5. Ответьте на следующие вопросы:\n",
    "    * какое слово встречается чаще, \"сотрудник\" или \"клиент\"?\n",
    "    * сколько раз встречается слова \"мошенничество\" и \"доверие\"?\n",
    "6. В поле \"rating_grade\" записана оценка отзыва по шкале от 1 до 5. Используйте меру $tf-idf$, для того, чтобы найти ключевые слова и биграмы для положительных отзывов (с оценкой 5) и отрицательных отзывов (с оценкой 1)"
   ]
  },
  {
   "cell_type": "code",
   "execution_count": 15,
   "metadata": {},
   "outputs": [
    {
     "data": {
      "text/html": [
       "<div>\n",
       "<style scoped>\n",
       "    .dataframe tbody tr th:only-of-type {\n",
       "        vertical-align: middle;\n",
       "    }\n",
       "\n",
       "    .dataframe tbody tr th {\n",
       "        vertical-align: top;\n",
       "    }\n",
       "\n",
       "    .dataframe thead th {\n",
       "        text-align: right;\n",
       "    }\n",
       "</style>\n",
       "<table border=\"1\" class=\"dataframe\">\n",
       "  <thead>\n",
       "    <tr style=\"text-align: right;\">\n",
       "      <th></th>\n",
       "      <th>author</th>\n",
       "      <th>bank_license</th>\n",
       "      <th>bank_name</th>\n",
       "      <th>city</th>\n",
       "      <th>datetime</th>\n",
       "      <th>num_comments</th>\n",
       "      <th>rating_grade</th>\n",
       "      <th>rating_not_checked</th>\n",
       "      <th>text</th>\n",
       "      <th>title</th>\n",
       "    </tr>\n",
       "  </thead>\n",
       "  <tbody>\n",
       "    <tr>\n",
       "      <th>0</th>\n",
       "      <td>uhnov1</td>\n",
       "      <td>лицензия № 2562</td>\n",
       "      <td>Бинбанк</td>\n",
       "      <td>г. Москва</td>\n",
       "      <td>2015-06-08 12:50:54</td>\n",
       "      <td>0</td>\n",
       "      <td>NaN</td>\n",
       "      <td>False</td>\n",
       "      <td>Добрый день! Я не являюсь клиентом банка и пор...</td>\n",
       "      <td>Жалоба</td>\n",
       "    </tr>\n",
       "    <tr>\n",
       "      <th>1</th>\n",
       "      <td>Foryou</td>\n",
       "      <td>лицензия № 1481</td>\n",
       "      <td>Сбербанк России</td>\n",
       "      <td>г. Новосибирск</td>\n",
       "      <td>2015-06-08 11:09:57</td>\n",
       "      <td>0</td>\n",
       "      <td>NaN</td>\n",
       "      <td>False</td>\n",
       "      <td>Доброго дня! Являюсь держателем зарплатной кар...</td>\n",
       "      <td>Не могу пользоваться услугой Сбербанк он-лайн</td>\n",
       "    </tr>\n",
       "    <tr>\n",
       "      <th>2</th>\n",
       "      <td>Vladimir84</td>\n",
       "      <td>лицензия № 2562</td>\n",
       "      <td>Бинбанк</td>\n",
       "      <td>г. Москва</td>\n",
       "      <td>2015-06-05 20:14:28</td>\n",
       "      <td>1</td>\n",
       "      <td>NaN</td>\n",
       "      <td>False</td>\n",
       "      <td>Здравствуйте!  Дублирую свое заявление от 03.0...</td>\n",
       "      <td>Двойное списание за один товар.</td>\n",
       "    </tr>\n",
       "  </tbody>\n",
       "</table>\n",
       "</div>"
      ],
      "text/plain": [
       "       author     bank_license        bank_name            city  \\\n",
       "0      uhnov1  лицензия № 2562          Бинбанк       г. Москва   \n",
       "1      Foryou  лицензия № 1481  Сбербанк России  г. Новосибирск   \n",
       "2  Vladimir84  лицензия № 2562          Бинбанк       г. Москва   \n",
       "\n",
       "              datetime  num_comments  rating_grade  rating_not_checked  \\\n",
       "0  2015-06-08 12:50:54             0           NaN               False   \n",
       "1  2015-06-08 11:09:57             0           NaN               False   \n",
       "2  2015-06-05 20:14:28             1           NaN               False   \n",
       "\n",
       "                                                text  \\\n",
       "0  Добрый день! Я не являюсь клиентом банка и пор...   \n",
       "1  Доброго дня! Являюсь держателем зарплатной кар...   \n",
       "2  Здравствуйте!  Дублирую свое заявление от 03.0...   \n",
       "\n",
       "                                           title  \n",
       "0                                         Жалоба  \n",
       "1  Не могу пользоваться услугой Сбербанк он-лайн  \n",
       "2                Двойное списание за один товар.  "
      ]
     },
     "execution_count": 15,
     "metadata": {},
     "output_type": "execute_result"
    }
   ],
   "source": [
    "data = pd.DataFrame(responses)\n",
    "data.head(3)"
   ]
  },
  {
   "cell_type": "code",
   "execution_count": 16,
   "metadata": {},
   "outputs": [
    {
     "name": "stdout",
     "output_type": "stream",
     "text": [
      "<class 'pandas.core.frame.DataFrame'>\n",
      "RangeIndex: 153499 entries, 0 to 153498\n",
      "Data columns (total 10 columns):\n",
      "author                153479 non-null object\n",
      "bank_license          153498 non-null object\n",
      "bank_name             153499 non-null object\n",
      "city                  138325 non-null object\n",
      "datetime              153499 non-null object\n",
      "num_comments          153499 non-null int64\n",
      "rating_grade          88658 non-null float64\n",
      "rating_not_checked    153499 non-null bool\n",
      "text                  153499 non-null object\n",
      "title                 153499 non-null object\n",
      "dtypes: bool(1), float64(1), int64(1), object(7)\n",
      "memory usage: 10.7+ MB\n"
     ]
    }
   ],
   "source": [
    "data.info()"
   ]
  },
  {
   "cell_type": "markdown",
   "metadata": {},
   "source": [
    "### 1. Посчитайте количество отзывов в разных городах и на разные банки"
   ]
  },
  {
   "cell_type": "code",
   "execution_count": 17,
   "metadata": {},
   "outputs": [
    {
     "data": {
      "text/html": [
       "<div>\n",
       "<style scoped>\n",
       "    .dataframe tbody tr th:only-of-type {\n",
       "        vertical-align: middle;\n",
       "    }\n",
       "\n",
       "    .dataframe tbody tr th {\n",
       "        vertical-align: top;\n",
       "    }\n",
       "\n",
       "    .dataframe thead th {\n",
       "        text-align: right;\n",
       "    }\n",
       "</style>\n",
       "<table border=\"1\" class=\"dataframe\">\n",
       "  <thead>\n",
       "    <tr style=\"text-align: right;\">\n",
       "      <th></th>\n",
       "      <th>city_id</th>\n",
       "      <th>country_id</th>\n",
       "      <th>region_id</th>\n",
       "      <th>name</th>\n",
       "    </tr>\n",
       "  </thead>\n",
       "  <tbody>\n",
       "    <tr>\n",
       "      <th>0</th>\n",
       "      <td>4400</td>\n",
       "      <td>3159</td>\n",
       "      <td>4312</td>\n",
       "      <td>Москва</td>\n",
       "    </tr>\n",
       "    <tr>\n",
       "      <th>1</th>\n",
       "      <td>4313</td>\n",
       "      <td>3159</td>\n",
       "      <td>4312</td>\n",
       "      <td>Абрамцево</td>\n",
       "    </tr>\n",
       "    <tr>\n",
       "      <th>2</th>\n",
       "      <td>4314</td>\n",
       "      <td>3159</td>\n",
       "      <td>4312</td>\n",
       "      <td>Алабино</td>\n",
       "    </tr>\n",
       "    <tr>\n",
       "      <th>3</th>\n",
       "      <td>4315</td>\n",
       "      <td>3159</td>\n",
       "      <td>4312</td>\n",
       "      <td>Апрелевка</td>\n",
       "    </tr>\n",
       "    <tr>\n",
       "      <th>4</th>\n",
       "      <td>4316</td>\n",
       "      <td>3159</td>\n",
       "      <td>4312</td>\n",
       "      <td>Архангельское</td>\n",
       "    </tr>\n",
       "  </tbody>\n",
       "</table>\n",
       "</div>"
      ],
      "text/plain": [
       "   city_id  country_id  region_id           name\n",
       "0     4400        3159       4312         Москва\n",
       "1     4313        3159       4312      Абрамцево\n",
       "2     4314        3159       4312        Алабино\n",
       "3     4315        3159       4312      Апрелевка\n",
       "4     4316        3159       4312  Архангельское"
      ]
     },
     "execution_count": 17,
     "metadata": {},
     "output_type": "execute_result"
    }
   ],
   "source": [
    "# База городов России и не только\n",
    "\n",
    "# https://habr.com/ru/post/21949/\n",
    "# http://download.geonames.org/export/dump/\n",
    "# https://github.com/Legostaev/contry_region_city/\n",
    "\n",
    "ct = pd.read_csv('/Users/aleksandr/Desktop/rocid.csv (copy 3)/city.csv', sep=';', encoding='cp1251')\n",
    "ct.head()"
   ]
  },
  {
   "cell_type": "code",
   "execution_count": 18,
   "metadata": {},
   "outputs": [],
   "source": [
    "X_df1, Y_df2 = data.city, ct.name\n",
    "\n",
    "speech_recognition = X_df1.to_list()\n",
    "claim_list = Y_df2.to_list()"
   ]
  },
  {
   "cell_type": "code",
   "execution_count": 19,
   "metadata": {},
   "outputs": [],
   "source": [
    "import Levenshtein\n",
    "\n",
    "def n_sort(x=claim_list, y=speech_recognition):\n",
    "    \n",
    "    l = Levenshtein.distance\n",
    "    c = []\n",
    "    \n",
    "    for i in y:\n",
    "        b = sorted({r: l(i, r) for r in x}.items(), key = lambda x: x[1])[0]\n",
    "        c.append(\n",
    "            ['Ввели: \"{}\" - Скорее всего имели ввиду: \"{}\" - Колличество min подборов: \"{}\"'.format(i, b[0], b[1])]\n",
    "        ) \n",
    "   \n",
    "    return c"
   ]
  },
  {
   "cell_type": "code",
   "execution_count": 20,
   "metadata": {},
   "outputs": [
    {
     "data": {
      "text/plain": [
       "[['Ввели: \"г. Москва\" - Скорее всего имели ввиду: \"Москва\" - Колличество min подборов: \"3\"'],\n",
       " ['Ввели: \"г. Новосибирск\" - Скорее всего имели ввиду: \"Новосибирск\" - Колличество min подборов: \"3\"'],\n",
       " ['Ввели: \"г. Москва\" - Скорее всего имели ввиду: \"Москва\" - Колличество min подборов: \"3\"'],\n",
       " ['Ввели: \"г. Ставрополь\" - Скорее всего имели ввиду: \"Ставрополь\" - Колличество min подборов: \"3\"'],\n",
       " ['Ввели: \"г. Челябинск\" - Скорее всего имели ввиду: \"Челябинск\" - Колличество min подборов: \"3\"'],\n",
       " ['Ввели: \"г. Москва\" - Скорее всего имели ввиду: \"Москва\" - Колличество min подборов: \"3\"'],\n",
       " ['Ввели: \"г. Волгоград\" - Скорее всего имели ввиду: \"Волгоград\" - Колличество min подборов: \"3\"'],\n",
       " ['Ввели: \"г. Москва\" - Скорее всего имели ввиду: \"Москва\" - Колличество min подборов: \"3\"'],\n",
       " ['Ввели: \"г. Пермь\" - Скорее всего имели ввиду: \"Пермь\" - Колличество min подборов: \"3\"'],\n",
       " ['Ввели: \"г. Ростов-на-Дону\" - Скорее всего имели ввиду: \"Ростов-на-Дону\" - Колличество min подборов: \"3\"'],\n",
       " ['Ввели: \"г. Москва\" - Скорее всего имели ввиду: \"Москва\" - Колличество min подборов: \"3\"'],\n",
       " ['Ввели: \"г. Воронеж\" - Скорее всего имели ввиду: \"Воронеж\" - Колличество min подборов: \"3\"'],\n",
       " ['Ввели: \"г. Таганрог (Ростовская обл.)\" - Скорее всего имели ввиду: \"Сургут (Самарская обл.)\" - Колличество min подборов: \"16\"'],\n",
       " ['Ввели: \"г. Санкт-Петербург\" - Скорее всего имели ввиду: \"Санкт-Петербург\" - Колличество min подборов: \"3\"'],\n",
       " ['Ввели: \"г. Москва\" - Скорее всего имели ввиду: \"Москва\" - Колличество min подборов: \"3\"'],\n",
       " ['Ввели: \"г. Ростов-на-Дону\" - Скорее всего имели ввиду: \"Ростов-на-Дону\" - Колличество min подборов: \"3\"'],\n",
       " ['Ввели: \"г. Москва\" - Скорее всего имели ввиду: \"Москва\" - Колличество min подборов: \"3\"'],\n",
       " ['Ввели: \"г. Конаково\" - Скорее всего имели ввиду: \"Конаково\" - Колличество min подборов: \"3\"'],\n",
       " ['Ввели: \"г. Москва\" - Скорее всего имели ввиду: \"Москва\" - Колличество min подборов: \"3\"'],\n",
       " ['Ввели: \"г. Москва\" - Скорее всего имели ввиду: \"Москва\" - Колличество min подборов: \"3\"'],\n",
       " ['Ввели: \"г. Москва\" - Скорее всего имели ввиду: \"Москва\" - Колличество min подборов: \"3\"'],\n",
       " ['Ввели: \"г. Мурманск\" - Скорее всего имели ввиду: \"Мурманск\" - Колличество min подборов: \"3\"'],\n",
       " ['Ввели: \"г. Новосибирск\" - Скорее всего имели ввиду: \"Новосибирск\" - Колличество min подборов: \"3\"'],\n",
       " ['Ввели: \"г. Волгодонск (Ростовская обл.)\" - Скорее всего имели ввиду: \"Благовещенск (Амурская обл.)\" - Колличество min подборов: \"15\"'],\n",
       " ['Ввели: \"г. Волгодонск (Ростовская обл.)\" - Скорее всего имели ввиду: \"Благовещенск (Амурская обл.)\" - Колличество min подборов: \"15\"'],\n",
       " ['Ввели: \"г. Челябинск\" - Скорее всего имели ввиду: \"Челябинск\" - Колличество min подборов: \"3\"'],\n",
       " ['Ввели: \"г. Москва\" - Скорее всего имели ввиду: \"Москва\" - Колличество min подборов: \"3\"'],\n",
       " ['Ввели: \"г. Большеречье\" - Скорее всего имели ввиду: \"Большеречье\" - Колличество min подборов: \"3\"'],\n",
       " ['Ввели: \"г. Одинцово (Московская обл.)\" - Скорее всего имели ввиду: \"Сургут (Самарская обл.)\" - Колличество min подборов: \"17\"'],\n",
       " ['Ввели: \"г. Салават (Республика Башкортостан)\" - Скорее всего имели ввиду: \"Тлаколула (де Матаморос)\" - Колличество min подборов: \"24\"']]"
      ]
     },
     "execution_count": 20,
     "metadata": {},
     "output_type": "execute_result"
    }
   ],
   "source": [
    "n_sort(claim_list, speech_recognition[0:30])"
   ]
  },
  {
   "cell_type": "markdown",
   "metadata": {},
   "source": [
    "**Левинштейн хорошо справился с тем что и так неплохо, а вот с более сложными вещами подвел...**\\\n",
    "_'Ввели: \"г. Фролово (Волгоградская обл.)\" - Скорее всего имели ввиду: \"Сургут (Самарская обл.)\" - Колличество min подборов: \"17\"'_\n",
    "\n",
    "Далее:\n",
    "- Попробую применить Наташу.\n",
    "\n",
    "Также видно, что все портят записи в скобках возможно стоит избавиться от них, если Наташа даст результат хуже Ливенштейна\\\n",
    "В крайнем случае буду урезать датасет, т.к. пожертвовать выбросами куда лучше, чем продолжать с ними.\n",
    "\n",
    "p.s. Датасет весьма неприятный, такого рода опечатки стоит править на стадии сбора данных..."
   ]
  },
  {
   "cell_type": "code",
   "execution_count": 21,
   "metadata": {},
   "outputs": [],
   "source": [
    "# from natasha import *\n",
    "from natasha import LocationExtractor\n",
    "\n",
    "def extract_city(text):\n",
    "    if isinstance(text, str):\n",
    "        extractor = LocationExtractor()\n",
    "        matches = extractor(text)\n",
    "        if len(matches) > 0:\n",
    "            return matches[0].fact.name\n",
    "        else:\n",
    "            return None\n",
    "    else:\n",
    "        return None"
   ]
  },
  {
   "cell_type": "code",
   "execution_count": 22,
   "metadata": {},
   "outputs": [],
   "source": [
    "cities = pd.DataFrame(data.city.unique(), columns=['orig_name'])\n",
    "cities['clean_name'] = cities['orig_name'].apply(extract_city)"
   ]
  },
  {
   "cell_type": "code",
   "execution_count": 23,
   "metadata": {},
   "outputs": [
    {
     "data": {
      "text/html": [
       "<div>\n",
       "<style scoped>\n",
       "    .dataframe tbody tr th:only-of-type {\n",
       "        vertical-align: middle;\n",
       "    }\n",
       "\n",
       "    .dataframe tbody tr th {\n",
       "        vertical-align: top;\n",
       "    }\n",
       "\n",
       "    .dataframe thead th {\n",
       "        text-align: right;\n",
       "    }\n",
       "</style>\n",
       "<table border=\"1\" class=\"dataframe\">\n",
       "  <thead>\n",
       "    <tr style=\"text-align: right;\">\n",
       "      <th></th>\n",
       "      <th>orig_name</th>\n",
       "      <th>clean_name</th>\n",
       "    </tr>\n",
       "  </thead>\n",
       "  <tbody>\n",
       "    <tr>\n",
       "      <th>0</th>\n",
       "      <td>г. Москва</td>\n",
       "      <td>москва</td>\n",
       "    </tr>\n",
       "    <tr>\n",
       "      <th>1</th>\n",
       "      <td>г. Новосибирск</td>\n",
       "      <td>новосибирск</td>\n",
       "    </tr>\n",
       "    <tr>\n",
       "      <th>2</th>\n",
       "      <td>г. Ставрополь</td>\n",
       "      <td>ставрополь</td>\n",
       "    </tr>\n",
       "    <tr>\n",
       "      <th>3</th>\n",
       "      <td>г. Челябинск</td>\n",
       "      <td>челябинск</td>\n",
       "    </tr>\n",
       "    <tr>\n",
       "      <th>4</th>\n",
       "      <td>г. Волгоград</td>\n",
       "      <td>волгоград</td>\n",
       "    </tr>\n",
       "  </tbody>\n",
       "</table>\n",
       "</div>"
      ],
      "text/plain": [
       "        orig_name   clean_name\n",
       "0       г. Москва       москва\n",
       "1  г. Новосибирск  новосибирск\n",
       "2   г. Ставрополь   ставрополь\n",
       "3    г. Челябинск    челябинск\n",
       "4    г. Волгоград    волгоград"
      ]
     },
     "execution_count": 23,
     "metadata": {},
     "output_type": "execute_result"
    }
   ],
   "source": [
    "cities.head()"
   ]
  },
  {
   "cell_type": "code",
   "execution_count": 24,
   "metadata": {},
   "outputs": [
    {
     "name": "stdout",
     "output_type": "stream",
     "text": [
      "\n",
      "1050\n"
     ]
    }
   ],
   "source": [
    "on = cities.orig_name.value_counts().sum()\n",
    "cn = cities.clean_name.value_counts().sum()\n",
    "\n",
    "print('\\n{0}'.format(int(on-cn)))"
   ]
  },
  {
   "cell_type": "markdown",
   "metadata": {},
   "source": [
    "**Уже лучше, потеря 1050 выбросов не так плохо.**\n",
    "\n",
    "Добавляем в основной Data Set"
   ]
  },
  {
   "cell_type": "code",
   "execution_count": 25,
   "metadata": {},
   "outputs": [],
   "source": [
    "data['clean_city'] = data['city'].replace(cities['orig_name'].tolist(), cities['clean_name'].str.title().tolist())"
   ]
  },
  {
   "cell_type": "code",
   "execution_count": 26,
   "metadata": {},
   "outputs": [
    {
     "data": {
      "text/html": [
       "<div>\n",
       "<style scoped>\n",
       "    .dataframe tbody tr th:only-of-type {\n",
       "        vertical-align: middle;\n",
       "    }\n",
       "\n",
       "    .dataframe tbody tr th {\n",
       "        vertical-align: top;\n",
       "    }\n",
       "\n",
       "    .dataframe thead th {\n",
       "        text-align: right;\n",
       "    }\n",
       "</style>\n",
       "<table border=\"1\" class=\"dataframe\">\n",
       "  <thead>\n",
       "    <tr style=\"text-align: right;\">\n",
       "      <th></th>\n",
       "      <th>author</th>\n",
       "      <th>bank_license</th>\n",
       "      <th>bank_name</th>\n",
       "      <th>city</th>\n",
       "      <th>datetime</th>\n",
       "      <th>num_comments</th>\n",
       "      <th>rating_grade</th>\n",
       "      <th>rating_not_checked</th>\n",
       "      <th>text</th>\n",
       "      <th>title</th>\n",
       "      <th>clean_city</th>\n",
       "    </tr>\n",
       "  </thead>\n",
       "  <tbody>\n",
       "    <tr>\n",
       "      <th>0</th>\n",
       "      <td>uhnov1</td>\n",
       "      <td>лицензия № 2562</td>\n",
       "      <td>Бинбанк</td>\n",
       "      <td>г. Москва</td>\n",
       "      <td>2015-06-08 12:50:54</td>\n",
       "      <td>0</td>\n",
       "      <td>NaN</td>\n",
       "      <td>False</td>\n",
       "      <td>Добрый день! Я не являюсь клиентом банка и пор...</td>\n",
       "      <td>Жалоба</td>\n",
       "      <td>Москва</td>\n",
       "    </tr>\n",
       "    <tr>\n",
       "      <th>1</th>\n",
       "      <td>Foryou</td>\n",
       "      <td>лицензия № 1481</td>\n",
       "      <td>Сбербанк России</td>\n",
       "      <td>г. Новосибирск</td>\n",
       "      <td>2015-06-08 11:09:57</td>\n",
       "      <td>0</td>\n",
       "      <td>NaN</td>\n",
       "      <td>False</td>\n",
       "      <td>Доброго дня! Являюсь держателем зарплатной кар...</td>\n",
       "      <td>Не могу пользоваться услугой Сбербанк он-лайн</td>\n",
       "      <td>Новосибирск</td>\n",
       "    </tr>\n",
       "    <tr>\n",
       "      <th>2</th>\n",
       "      <td>Vladimir84</td>\n",
       "      <td>лицензия № 2562</td>\n",
       "      <td>Бинбанк</td>\n",
       "      <td>г. Москва</td>\n",
       "      <td>2015-06-05 20:14:28</td>\n",
       "      <td>1</td>\n",
       "      <td>NaN</td>\n",
       "      <td>False</td>\n",
       "      <td>Здравствуйте!  Дублирую свое заявление от 03.0...</td>\n",
       "      <td>Двойное списание за один товар.</td>\n",
       "      <td>Москва</td>\n",
       "    </tr>\n",
       "  </tbody>\n",
       "</table>\n",
       "</div>"
      ],
      "text/plain": [
       "       author     bank_license        bank_name            city  \\\n",
       "0      uhnov1  лицензия № 2562          Бинбанк       г. Москва   \n",
       "1      Foryou  лицензия № 1481  Сбербанк России  г. Новосибирск   \n",
       "2  Vladimir84  лицензия № 2562          Бинбанк       г. Москва   \n",
       "\n",
       "              datetime  num_comments  rating_grade  rating_not_checked  \\\n",
       "0  2015-06-08 12:50:54             0           NaN               False   \n",
       "1  2015-06-08 11:09:57             0           NaN               False   \n",
       "2  2015-06-05 20:14:28             1           NaN               False   \n",
       "\n",
       "                                                text  \\\n",
       "0  Добрый день! Я не являюсь клиентом банка и пор...   \n",
       "1  Доброго дня! Являюсь держателем зарплатной кар...   \n",
       "2  Здравствуйте!  Дублирую свое заявление от 03.0...   \n",
       "\n",
       "                                           title   clean_city  \n",
       "0                                         Жалоба       Москва  \n",
       "1  Не могу пользоваться услугой Сбербанк он-лайн  Новосибирск  \n",
       "2                Двойное списание за один товар.       Москва  "
      ]
     },
     "execution_count": 26,
     "metadata": {},
     "output_type": "execute_result"
    }
   ],
   "source": [
    "data.head(3)"
   ]
  },
  {
   "cell_type": "markdown",
   "metadata": {},
   "source": [
    "Посмотрев более подробно на данные у столбца 'city' присутствуют значения None и как следствие у 'clean_city' тоже, чтобы почистить ds от аномалий отсортируем его по этому признаку."
   ]
  },
  {
   "cell_type": "code",
   "execution_count": 27,
   "metadata": {},
   "outputs": [],
   "source": [
    "df_base = data.copy() # копия\n",
    "df_isna = data[pd.isna(data.clean_city)] # тут NaN по городам\n",
    "\n",
    "# данные по городам без пропусков, в рамках данной работы буду брать наиболее очищенные данные пусть и в убыток количеству\n",
    "df_notna = data[pd.notna(data.clean_city)]"
   ]
  },
  {
   "cell_type": "code",
   "execution_count": 40,
   "metadata": {},
   "outputs": [],
   "source": [
    "# df_base.city.value_counts(dropna=False)"
   ]
  },
  {
   "cell_type": "code",
   "execution_count": 28,
   "metadata": {
    "scrolled": false
   },
   "outputs": [
    {
     "name": "stdout",
     "output_type": "stream",
     "text": [
      "<class 'pandas.core.frame.DataFrame'>\n",
      "Int64Index: 135080 entries, 0 to 138946\n",
      "Data columns (total 11 columns):\n",
      "author                135079 non-null object\n",
      "bank_license          135079 non-null object\n",
      "bank_name             135080 non-null object\n",
      "city                  135080 non-null object\n",
      "datetime              135080 non-null object\n",
      "num_comments          135080 non-null int64\n",
      "rating_grade          73151 non-null float64\n",
      "rating_not_checked    135080 non-null bool\n",
      "text                  135080 non-null object\n",
      "title                 135080 non-null object\n",
      "clean_city            135080 non-null object\n",
      "dtypes: bool(1), float64(1), int64(1), object(8)\n",
      "memory usage: 11.5+ MB\n"
     ]
    }
   ],
   "source": [
    "df_notna.info()"
   ]
  },
  {
   "cell_type": "code",
   "execution_count": 29,
   "metadata": {},
   "outputs": [
    {
     "data": {
      "image/png": "[encoded data removed]",
      "text/plain": [
       "<Figure size 576x432 with 1 Axes>"
      ]
     },
     "metadata": {
      "image/png": {
       "height": 373,
       "width": 637
      },
      "needs_background": "light"
     },
     "output_type": "display_data"
    }
   ],
   "source": [
    "banks = df_notna.groupby(['bank_name']).count()['text'].sort_values(ascending=False).head(10)\n",
    "rcParams['figure.figsize'] = 8, 6\n",
    "plt.barh(banks.index[::-1],banks.values[::-1])\n",
    "plt.xlabel('Количество отзывов по Банкам')\n",
    "plt.ylabel('Top 10')\n",
    "plt.show()"
   ]
  },
  {
   "cell_type": "code",
   "execution_count": 30,
   "metadata": {},
   "outputs": [
    {
     "data": {
      "image/png": "[encoded data removed]",
      "text/plain": [
       "<Figure size 576x432 with 1 Axes>"
      ]
     },
     "metadata": {
      "image/png": {
       "height": 373,
       "width": 595
      },
      "needs_background": "light"
     },
     "output_type": "display_data"
    }
   ],
   "source": [
    "cities = df_notna.groupby(['clean_city']).count()['text'].sort_values(ascending=False).head(10)\n",
    "rcParams['figure.figsize'] = 8, 6\n",
    "plt.barh(cities.index[::-1],cities.values[::-1])\n",
    "plt.xlabel('Количество отзывов по Городам')\n",
    "plt.ylabel('Top 10')\n",
    "plt.show()"
   ]
  },
  {
   "cell_type": "markdown",
   "metadata": {},
   "source": [
    "Стоит заметить, что город Москву и Питер стоит считать как аномалию в данных, столицу я бы рассматривал отдельно от всех остальных городов. Также в ds присутствует Time series что добавляет в данные мульти сезонность... опустим в этой работе но я бы брал данные только за крайние 2-3 года. Возможные фичи: год, месяц, день недели, время."
   ]
  },
  {
   "cell_type": "markdown",
   "metadata": {},
   "source": [
    "### 2. Постройте гистограмы длин слов в символах и в словах (не обязательно)"
   ]
  },
  {
   "cell_type": "code",
   "execution_count": 31,
   "metadata": {},
   "outputs": [
    {
     "data": {
      "image/png": "[encoded data removed]",
      "text/plain": [
       "<Figure size 576x432 with 1 Axes>"
      ]
     },
     "metadata": {
      "image/png": {
       "height": 373,
       "width": 499
      },
      "needs_background": "light"
     },
     "output_type": "display_data"
    }
   ],
   "source": [
    "len_c = df_notna.text.apply(len)\n",
    "rcParams['figure.figsize'] = 8, 6\n",
    "len_c[len_c<10000].plot(kind='hist',bins=50)\n",
    "plt.xlabel('Длины отзывов в символах')\n",
    "plt.ylabel('')\n",
    "plt.show()"
   ]
  },
  {
   "cell_type": "code",
   "execution_count": 32,
   "metadata": {},
   "outputs": [
    {
     "data": {
      "image/png": "[encoded data removed]",
      "text/plain": [
       "<Figure size 576x432 with 1 Axes>"
      ]
     },
     "metadata": {
      "image/png": {
       "height": 373,
       "width": 499
      },
      "needs_background": "light"
     },
     "output_type": "display_data"
    }
   ],
   "source": [
    "len_t = df_notna.text.str.split().apply(len)\n",
    "rcParams['figure.figsize'] = 8, 6\n",
    "len_t[len_t<2000].plot(kind='hist',bins=50)\n",
    "plt.xlabel('Длины отзывов в словах')\n",
    "plt.ylabel('')\n",
    "plt.show()"
   ]
  },
  {
   "cell_type": "markdown",
   "metadata": {},
   "source": [
    "### 3. Найдите 10 самых частых:\n",
    "- слов\n",
    "- слов без стоп-слов\n",
    "- лемм\n",
    "- существительных"
   ]
  },
  {
   "cell_type": "markdown",
   "metadata": {},
   "source": [
    "#### Слова"
   ]
  },
  {
   "cell_type": "code",
   "execution_count": 34,
   "metadata": {},
   "outputs": [],
   "source": [
    "regex = re.compile(\"[А-Яа-я]+\")\n",
    "\n",
    "def words_only(text, regex=regex):\n",
    "    try:\n",
    "        return \" \".join(regex.findall(text))\n",
    "    except:\n",
    "        return \"\""
   ]
  },
  {
   "cell_type": "code",
   "execution_count": 35,
   "metadata": {},
   "outputs": [],
   "source": [
    "df = df_notna.copy()\n",
    "df['text_tokinized'] =  df.text.str.lower().apply(words_only)"
   ]
  },
  {
   "cell_type": "code",
   "execution_count": 37,
   "metadata": {},
   "outputs": [
    {
     "data": {
      "application/vnd.jupyter.widget-view+json": {
       "model_id": "d90c5c4c667049fb9c10fcf2328869a3",
       "version_major": 2,
       "version_minor": 0
      },
      "text/plain": [
       "HBox(children=(IntProgress(value=0, max=135080), HTML(value='')))"
      ]
     },
     "metadata": {},
     "output_type": "display_data"
    },
    {
     "name": "stdout",
     "output_type": "stream",
     "text": [
      "\n",
      "('в', 1184949)\n",
      "('и', 941477)\n",
      "('не', 763476)\n",
      "('на', 630821)\n",
      "('что', 571135)\n",
      "('я', 517705)\n",
      "('с', 415119)\n",
      "('по', 335326)\n",
      "('мне', 288927)\n",
      "('банка', 250482)\n"
     ]
    }
   ],
   "source": [
    "from tqdm import tqdm_notebook as tqdm\n",
    "from collections import Counter\n",
    "\n",
    "cnt = Counter()\n",
    "n_types = []\n",
    "n_tokens = []\n",
    "tokens = []\n",
    "\n",
    "for index, row in tqdm(df.iterrows(), total = len(df)):\n",
    "    tokens = row['text_tokinized'].split()\n",
    "    cnt.update(tokens)\n",
    "    n_types.append(len(cnt))\n",
    "    n_tokens.append(sum(list(cnt.values())))\n",
    "\n",
    "for i in cnt.most_common(10):\n",
    "    print(i)"
   ]
  },
  {
   "cell_type": "markdown",
   "metadata": {},
   "source": [
    "#### Cлова без стоп-слов"
   ]
  },
  {
   "cell_type": "code",
   "execution_count": 38,
   "metadata": {},
   "outputs": [],
   "source": [
    "from nltk.corpus import stopwords\n",
    "# import nltk\n",
    "# nltk.download('stopwords')\n",
    "\n",
    "mystopwords = stopwords.words('russian') + ['это', 'наш' , 'тыс', 'млн', 'млрд', 'также', 'т', 'д', 'г']\n",
    "def remove_stopwords(text, mystopwords=mystopwords):\n",
    "    try:\n",
    "        return \" \".join([token for token in text.split() if not token in mystopwords])\n",
    "    except:\n",
    "        return \"\""
   ]
  },
  {
   "cell_type": "code",
   "execution_count": 39,
   "metadata": {},
   "outputs": [],
   "source": [
    "df['text_tokinized_stop_worlds'] = df.text_tokinized.str.lower().apply(remove_stopwords)"
   ]
  },
  {
   "cell_type": "code",
   "execution_count": 40,
   "metadata": {},
   "outputs": [
    {
     "data": {
      "text/html": [
       "<div>\n",
       "<style scoped>\n",
       "    .dataframe tbody tr th:only-of-type {\n",
       "        vertical-align: middle;\n",
       "    }\n",
       "\n",
       "    .dataframe tbody tr th {\n",
       "        vertical-align: top;\n",
       "    }\n",
       "\n",
       "    .dataframe thead th {\n",
       "        text-align: right;\n",
       "    }\n",
       "</style>\n",
       "<table border=\"1\" class=\"dataframe\">\n",
       "  <thead>\n",
       "    <tr style=\"text-align: right;\">\n",
       "      <th></th>\n",
       "      <th>author</th>\n",
       "      <th>bank_license</th>\n",
       "      <th>bank_name</th>\n",
       "      <th>city</th>\n",
       "      <th>datetime</th>\n",
       "      <th>num_comments</th>\n",
       "      <th>rating_grade</th>\n",
       "      <th>rating_not_checked</th>\n",
       "      <th>text</th>\n",
       "      <th>title</th>\n",
       "      <th>clean_city</th>\n",
       "      <th>text_tokinized</th>\n",
       "      <th>text_tokinized_stop_worlds</th>\n",
       "    </tr>\n",
       "  </thead>\n",
       "  <tbody>\n",
       "    <tr>\n",
       "      <th>0</th>\n",
       "      <td>uhnov1</td>\n",
       "      <td>лицензия № 2562</td>\n",
       "      <td>Бинбанк</td>\n",
       "      <td>г. Москва</td>\n",
       "      <td>2015-06-08 12:50:54</td>\n",
       "      <td>0</td>\n",
       "      <td>NaN</td>\n",
       "      <td>False</td>\n",
       "      <td>Добрый день! Я не являюсь клиентом банка и пор...</td>\n",
       "      <td>Жалоба</td>\n",
       "      <td>Москва</td>\n",
       "      <td>добрый день я не являюсь клиентом банка и пору...</td>\n",
       "      <td>добрый день являюсь клиентом банка поручителем...</td>\n",
       "    </tr>\n",
       "    <tr>\n",
       "      <th>1</th>\n",
       "      <td>Foryou</td>\n",
       "      <td>лицензия № 1481</td>\n",
       "      <td>Сбербанк России</td>\n",
       "      <td>г. Новосибирск</td>\n",
       "      <td>2015-06-08 11:09:57</td>\n",
       "      <td>0</td>\n",
       "      <td>NaN</td>\n",
       "      <td>False</td>\n",
       "      <td>Доброго дня! Являюсь держателем зарплатной кар...</td>\n",
       "      <td>Не могу пользоваться услугой Сбербанк он-лайн</td>\n",
       "      <td>Новосибирск</td>\n",
       "      <td>доброго дня являюсь держателем зарплатной карт...</td>\n",
       "      <td>доброго дня являюсь держателем зарплатной карт...</td>\n",
       "    </tr>\n",
       "    <tr>\n",
       "      <th>2</th>\n",
       "      <td>Vladimir84</td>\n",
       "      <td>лицензия № 2562</td>\n",
       "      <td>Бинбанк</td>\n",
       "      <td>г. Москва</td>\n",
       "      <td>2015-06-05 20:14:28</td>\n",
       "      <td>1</td>\n",
       "      <td>NaN</td>\n",
       "      <td>False</td>\n",
       "      <td>Здравствуйте!  Дублирую свое заявление от 03.0...</td>\n",
       "      <td>Двойное списание за один товар.</td>\n",
       "      <td>Москва</td>\n",
       "      <td>здравствуйте дублирую свое заявление от в до м...</td>\n",
       "      <td>здравствуйте дублирую свое заявление можайский...</td>\n",
       "    </tr>\n",
       "  </tbody>\n",
       "</table>\n",
       "</div>"
      ],
      "text/plain": [
       "       author     bank_license        bank_name            city  \\\n",
       "0      uhnov1  лицензия № 2562          Бинбанк       г. Москва   \n",
       "1      Foryou  лицензия № 1481  Сбербанк России  г. Новосибирск   \n",
       "2  Vladimir84  лицензия № 2562          Бинбанк       г. Москва   \n",
       "\n",
       "              datetime  num_comments  rating_grade  rating_not_checked  \\\n",
       "0  2015-06-08 12:50:54             0           NaN               False   \n",
       "1  2015-06-08 11:09:57             0           NaN               False   \n",
       "2  2015-06-05 20:14:28             1           NaN               False   \n",
       "\n",
       "                                                text  \\\n",
       "0  Добрый день! Я не являюсь клиентом банка и пор...   \n",
       "1  Доброго дня! Являюсь держателем зарплатной кар...   \n",
       "2  Здравствуйте!  Дублирую свое заявление от 03.0...   \n",
       "\n",
       "                                           title   clean_city  \\\n",
       "0                                         Жалоба       Москва   \n",
       "1  Не могу пользоваться услугой Сбербанк он-лайн  Новосибирск   \n",
       "2                Двойное списание за один товар.       Москва   \n",
       "\n",
       "                                      text_tokinized  \\\n",
       "0  добрый день я не являюсь клиентом банка и пору...   \n",
       "1  доброго дня являюсь держателем зарплатной карт...   \n",
       "2  здравствуйте дублирую свое заявление от в до м...   \n",
       "\n",
       "                          text_tokinized_stop_worlds  \n",
       "0  добрый день являюсь клиентом банка поручителем...  \n",
       "1  доброго дня являюсь держателем зарплатной карт...  \n",
       "2  здравствуйте дублирую свое заявление можайский...  "
      ]
     },
     "execution_count": 40,
     "metadata": {},
     "output_type": "execute_result"
    }
   ],
   "source": [
    "df.head(3)"
   ]
  },
  {
   "cell_type": "code",
   "execution_count": 41,
   "metadata": {},
   "outputs": [
    {
     "data": {
      "application/vnd.jupyter.widget-view+json": {
       "model_id": "aafe6d4f360140dfbb9f50c90b70a310",
       "version_major": 2,
       "version_minor": 0
      },
      "text/plain": [
       "HBox(children=(IntProgress(value=0, max=135080), HTML(value='')))"
      ]
     },
     "metadata": {},
     "output_type": "display_data"
    },
    {
     "name": "stdout",
     "output_type": "stream",
     "text": [
      "\n",
      "('банка', 250482)\n",
      "('банк', 194099)\n",
      "('деньги', 117318)\n",
      "('карту', 95830)\n",
      "('карты', 93528)\n",
      "('кредит', 70968)\n",
      "('день', 68913)\n",
      "('заявление', 64535)\n",
      "('банке', 64044)\n",
      "('отделение', 59582)\n"
     ]
    }
   ],
   "source": [
    "cnt = Counter()\n",
    "n_types = []\n",
    "n_tokens = []\n",
    "tokens = []\n",
    "tokens_all=[]\n",
    "\n",
    "for index, row in tqdm(df.iterrows(), total = len(df)):\n",
    "    tokens = row['text_tokinized_stop_worlds'].split()\n",
    "    tokens_all+=tokens\n",
    "    cnt.update(tokens)\n",
    "    n_types.append(len(cnt))\n",
    "    n_tokens.append(sum(cnt.values()))\n",
    "    \n",
    "for i in cnt.most_common(10):\n",
    "    print(i)"
   ]
  },
  {
   "cell_type": "markdown",
   "metadata": {},
   "source": [
    "('г', 61082) - неожиданно. считалось 30+ минут\\\n",
    "Далее сделал пересчет с + 'г' в стоп словах"
   ]
  },
  {
   "cell_type": "markdown",
   "metadata": {},
   "source": [
    "банка, банк, банке - Леммы должны улучшить данные"
   ]
  },
  {
   "cell_type": "markdown",
   "metadata": {},
   "source": [
    "#### Леммы"
   ]
  },
  {
   "cell_type": "code",
   "execution_count": 42,
   "metadata": {},
   "outputs": [],
   "source": [
    "from pymorphy2 import MorphAnalyzer\n",
    "from pymystem3 import Mystem"
   ]
  },
  {
   "cell_type": "code",
   "execution_count": 43,
   "metadata": {},
   "outputs": [],
   "source": [
    "m = Mystem()\n",
    "\n",
    "def lemmatize(text, mystem=m):\n",
    "    try:\n",
    "        return \"\".join(m.lemmatize(text)).strip()  \n",
    "    except:\n",
    "        return \" \""
   ]
  },
  {
   "cell_type": "code",
   "execution_count": 44,
   "metadata": {},
   "outputs": [],
   "source": [
    "mystoplemmas = stopwords.words('russian') + ['который','прошлый','сей', 'свой', 'наш', 'мочь', 'г']\n",
    "\n",
    "def remove_stoplemmas(text, mystoplemmas=mystoplemmas):\n",
    "    try:\n",
    "        return \" \".join([token for token in text.split() if not token in mystoplemmas])\n",
    "    except:\n",
    "        return \"\""
   ]
  },
  {
   "cell_type": "code",
   "execution_count": 45,
   "metadata": {},
   "outputs": [],
   "source": [
    "df['lemma'] = df['text_tokinized_stop_worlds'].apply(lemmatize)"
   ]
  },
  {
   "cell_type": "code",
   "execution_count": 46,
   "metadata": {},
   "outputs": [
    {
     "data": {
      "text/html": [
       "<div>\n",
       "<style scoped>\n",
       "    .dataframe tbody tr th:only-of-type {\n",
       "        vertical-align: middle;\n",
       "    }\n",
       "\n",
       "    .dataframe tbody tr th {\n",
       "        vertical-align: top;\n",
       "    }\n",
       "\n",
       "    .dataframe thead th {\n",
       "        text-align: right;\n",
       "    }\n",
       "</style>\n",
       "<table border=\"1\" class=\"dataframe\">\n",
       "  <thead>\n",
       "    <tr style=\"text-align: right;\">\n",
       "      <th></th>\n",
       "      <th>author</th>\n",
       "      <th>bank_license</th>\n",
       "      <th>bank_name</th>\n",
       "      <th>city</th>\n",
       "      <th>datetime</th>\n",
       "      <th>num_comments</th>\n",
       "      <th>rating_grade</th>\n",
       "      <th>rating_not_checked</th>\n",
       "      <th>text</th>\n",
       "      <th>title</th>\n",
       "      <th>clean_city</th>\n",
       "      <th>text_tokinized</th>\n",
       "      <th>text_tokinized_stop_worlds</th>\n",
       "      <th>lemma</th>\n",
       "    </tr>\n",
       "  </thead>\n",
       "  <tbody>\n",
       "    <tr>\n",
       "      <th>0</th>\n",
       "      <td>uhnov1</td>\n",
       "      <td>лицензия № 2562</td>\n",
       "      <td>Бинбанк</td>\n",
       "      <td>г. Москва</td>\n",
       "      <td>2015-06-08 12:50:54</td>\n",
       "      <td>0</td>\n",
       "      <td>NaN</td>\n",
       "      <td>False</td>\n",
       "      <td>Добрый день! Я не являюсь клиентом банка и пор...</td>\n",
       "      <td>Жалоба</td>\n",
       "      <td>Москва</td>\n",
       "      <td>добрый день я не являюсь клиентом банка и пору...</td>\n",
       "      <td>добрый день являюсь клиентом банка поручителем...</td>\n",
       "      <td>добрый день являться клиент банк поручитель кр...</td>\n",
       "    </tr>\n",
       "    <tr>\n",
       "      <th>1</th>\n",
       "      <td>Foryou</td>\n",
       "      <td>лицензия № 1481</td>\n",
       "      <td>Сбербанк России</td>\n",
       "      <td>г. Новосибирск</td>\n",
       "      <td>2015-06-08 11:09:57</td>\n",
       "      <td>0</td>\n",
       "      <td>NaN</td>\n",
       "      <td>False</td>\n",
       "      <td>Доброго дня! Являюсь держателем зарплатной кар...</td>\n",
       "      <td>Не могу пользоваться услугой Сбербанк он-лайн</td>\n",
       "      <td>Новосибирск</td>\n",
       "      <td>доброго дня являюсь держателем зарплатной карт...</td>\n",
       "      <td>доброго дня являюсь держателем зарплатной карт...</td>\n",
       "      <td>добрый день являться держатель зарплатной карт...</td>\n",
       "    </tr>\n",
       "    <tr>\n",
       "      <th>2</th>\n",
       "      <td>Vladimir84</td>\n",
       "      <td>лицензия № 2562</td>\n",
       "      <td>Бинбанк</td>\n",
       "      <td>г. Москва</td>\n",
       "      <td>2015-06-05 20:14:28</td>\n",
       "      <td>1</td>\n",
       "      <td>NaN</td>\n",
       "      <td>False</td>\n",
       "      <td>Здравствуйте!  Дублирую свое заявление от 03.0...</td>\n",
       "      <td>Двойное списание за один товар.</td>\n",
       "      <td>Москва</td>\n",
       "      <td>здравствуйте дублирую свое заявление от в до м...</td>\n",
       "      <td>здравствуйте дублирую свое заявление можайский...</td>\n",
       "      <td>здравствовать дублировать свой заявление можай...</td>\n",
       "    </tr>\n",
       "  </tbody>\n",
       "</table>\n",
       "</div>"
      ],
      "text/plain": [
       "       author     bank_license        bank_name            city  \\\n",
       "0      uhnov1  лицензия № 2562          Бинбанк       г. Москва   \n",
       "1      Foryou  лицензия № 1481  Сбербанк России  г. Новосибирск   \n",
       "2  Vladimir84  лицензия № 2562          Бинбанк       г. Москва   \n",
       "\n",
       "              datetime  num_comments  rating_grade  rating_not_checked  \\\n",
       "0  2015-06-08 12:50:54             0           NaN               False   \n",
       "1  2015-06-08 11:09:57             0           NaN               False   \n",
       "2  2015-06-05 20:14:28             1           NaN               False   \n",
       "\n",
       "                                                text  \\\n",
       "0  Добрый день! Я не являюсь клиентом банка и пор...   \n",
       "1  Доброго дня! Являюсь держателем зарплатной кар...   \n",
       "2  Здравствуйте!  Дублирую свое заявление от 03.0...   \n",
       "\n",
       "                                           title   clean_city  \\\n",
       "0                                         Жалоба       Москва   \n",
       "1  Не могу пользоваться услугой Сбербанк он-лайн  Новосибирск   \n",
       "2                Двойное списание за один товар.       Москва   \n",
       "\n",
       "                                      text_tokinized  \\\n",
       "0  добрый день я не являюсь клиентом банка и пору...   \n",
       "1  доброго дня являюсь держателем зарплатной карт...   \n",
       "2  здравствуйте дублирую свое заявление от в до м...   \n",
       "\n",
       "                          text_tokinized_stop_worlds  \\\n",
       "0  добрый день являюсь клиентом банка поручителем...   \n",
       "1  доброго дня являюсь держателем зарплатной карт...   \n",
       "2  здравствуйте дублирую свое заявление можайский...   \n",
       "\n",
       "                                               lemma  \n",
       "0  добрый день являться клиент банк поручитель кр...  \n",
       "1  добрый день являться держатель зарплатной карт...  \n",
       "2  здравствовать дублировать свой заявление можай...  "
      ]
     },
     "execution_count": 46,
     "metadata": {},
     "output_type": "execute_result"
    }
   ],
   "source": [
    "df.head(3)"
   ]
  },
  {
   "cell_type": "code",
   "execution_count": 47,
   "metadata": {},
   "outputs": [
    {
     "data": {
      "application/vnd.jupyter.widget-view+json": {
       "model_id": "a5bd611cdad34689b919de09cfd301a4",
       "version_major": 2,
       "version_minor": 0
      },
      "text/plain": [
       "HBox(children=(IntProgress(value=0, max=135080), HTML(value='')))"
      ]
     },
     "metadata": {},
     "output_type": "display_data"
    },
    {
     "name": "stdout",
     "output_type": "stream",
     "text": [
      "\n",
      "('банк', 560845)\n",
      "('карта', 304772)\n",
      "('деньги', 160389)\n",
      "('день', 155099)\n",
      "('мой', 148714)\n",
      "('кредит', 137617)\n",
      "('который', 134031)\n",
      "('отделение', 127724)\n",
      "('сотрудник', 122619)\n",
      "('клиент', 121659)\n"
     ]
    }
   ],
   "source": [
    "cnt = Counter()\n",
    "n_types = []\n",
    "n_tokens = []\n",
    "tokens = []\n",
    "tokens_all=[]\n",
    "\n",
    "for index, row in tqdm(df.iterrows(), total = len(df)):\n",
    "    tokens = row['lemma'].split()\n",
    "    cnt.update(tokens)\n",
    "    n_types.append(len(cnt))\n",
    "    tokens_all+=tokens\n",
    "    n_tokens.append(sum(cnt.values()))\n",
    "    \n",
    "for i in cnt.most_common(10):\n",
    "    print(i)"
   ]
  },
  {
   "cell_type": "markdown",
   "metadata": {},
   "source": [
    "#### Существительные"
   ]
  },
  {
   "cell_type": "code",
   "execution_count": 48,
   "metadata": {},
   "outputs": [
    {
     "data": {
      "text/plain": [
       "'день держатель карта сбербанк россия год фамилия банк документ копия паспорт свидетельство брак карта фамилия муж токарева мария александровна секлетина необходимость услуга сбербанк страница карта специалист отделение сбербанк база банк фамилия секлетина скан документ контакт звонок ч время ситуация база секлетина карта фамилия токарева связь истечение срок обслуживание документ копия паспорт свидетельство брак результат ноль ситуация уважение токарев мария александровна'"
      ]
     },
     "execution_count": 48,
     "metadata": {},
     "output_type": "execute_result"
    }
   ],
   "source": [
    "def to_nouns(text, mystem=m):\n",
    "    m=MorphAnalyzer()\n",
    "    try:\n",
    "        return \" \".join([noun for noun in text.split() if m.parse(noun)[0].tag.POS =='NOUN'])\n",
    "    except:\n",
    "        return []\n",
    "\n",
    "to_nouns(df.lemma.iloc[1])"
   ]
  },
  {
   "cell_type": "code",
   "execution_count": 49,
   "metadata": {},
   "outputs": [],
   "source": [
    "from multiprocessing import Pool\n",
    "\n",
    "with Pool() as p:\n",
    "    df['nouns']=p.map(to_nouns,df.lemma)"
   ]
  },
  {
   "cell_type": "code",
   "execution_count": 50,
   "metadata": {},
   "outputs": [
    {
     "data": {
      "application/vnd.jupyter.widget-view+json": {
       "model_id": "03b4130337fb491d8a1170b887fdc51b",
       "version_major": 2,
       "version_minor": 0
      },
      "text/plain": [
       "HBox(children=(IntProgress(value=0, max=135080), HTML(value='')))"
      ]
     },
     "metadata": {},
     "output_type": "display_data"
    },
    {
     "name": "stdout",
     "output_type": "stream",
     "text": [
      "\n",
      "('банк', 560845)\n",
      "('карта', 304772)\n",
      "('деньги', 160389)\n",
      "('день', 155099)\n",
      "('кредит', 137617)\n",
      "('отделение', 127724)\n",
      "('сотрудник', 122619)\n",
      "('клиент', 121659)\n",
      "('счет', 112766)\n",
      "('сумма', 100614)\n"
     ]
    }
   ],
   "source": [
    "cnt_noun = Counter()\n",
    "n_types_noun = []\n",
    "n_tokens_noun= []\n",
    "tokens_noun = []\n",
    "tokens_all_noun=[]\n",
    "\n",
    "for index, row in tqdm(df.iterrows(), total = len(df)):\n",
    "    tokens = row['nouns'].split()\n",
    "    cnt_noun.update(tokens)\n",
    "    n_types_noun.append(len(cnt))\n",
    "    tokens_all_noun+=tokens\n",
    "    n_tokens_noun.append(sum(cnt.values()))\n",
    "\n",
    "for i in cnt_noun.most_common(10):\n",
    "    print(i)"
   ]
  },
  {
   "cell_type": "markdown",
   "metadata": {},
   "source": [
    "### 4. Постройте кривую Ципфа"
   ]
  },
  {
   "cell_type": "code",
   "execution_count": 51,
   "metadata": {},
   "outputs": [
    {
     "data": {
      "image/png": "[encoded data removed]",
      "text/plain": [
       "<Figure size 864x288 with 1 Axes>"
      ]
     },
     "metadata": {
      "image/png": {
       "height": 281,
       "width": 726
      },
      "needs_background": "light"
     },
     "output_type": "display_data"
    }
   ],
   "source": [
    "freqs = list(cnt.values())\n",
    "freqs = sorted(freqs, reverse = True)\n",
    "\n",
    "fig, ax = plt.subplots(figsize=(12,4))\n",
    "ax.plot(freqs[:300], range(300))\n",
    "plt.xlabel('Номер слова')\n",
    "plt.ylabel('Частота слова')\n",
    "plt.title('Кривая Ципфа')\n",
    "plt.show()"
   ]
  },
  {
   "cell_type": "code",
   "execution_count": 53,
   "metadata": {},
   "outputs": [],
   "source": [
    "# fig, ax = plt.subplots(figsize=(12,4))\n",
    "# ax.plot(n_tokens,n_types)\n",
    "# plt.xlabel('Количество  токенов')\n",
    "# plt.ylabel('Число слов')\n",
    "# plt.title('Кривая Хипса')\n",
    "# plt.show()"
   ]
  },
  {
   "cell_type": "markdown",
   "metadata": {},
   "source": [
    "### 5. Ответьте на следующие вопросы:\n",
    "- какое слово встречается чаще, \"сотрудник\" или \"клиент\"?\n",
    "- сколько раз встречается слова \"мошенничество\" и \"доверие\"?"
   ]
  },
  {
   "cell_type": "code",
   "execution_count": 54,
   "metadata": {},
   "outputs": [],
   "source": [
    "from nltk import FreqDist\n",
    "Freq_Dist = FreqDist(tokens_all)"
   ]
  },
  {
   "cell_type": "code",
   "execution_count": 57,
   "metadata": {},
   "outputs": [
    {
     "name": "stdout",
     "output_type": "stream",
     "text": [
      "Слово \"сотрудник\" встречается -\" 122619 раз\n",
      "Слово \"клиент\" встречается -\" 121659 раз\n"
     ]
    }
   ],
   "source": [
    "print('Слово \"сотрудник\" встречается -\"',Freq_Dist['сотрудник'],'раз')\n",
    "print('Слово \"клиент\" встречается -\"',Freq_Dist['клиент'],'раз')"
   ]
  },
  {
   "cell_type": "markdown",
   "metadata": {},
   "source": [
    "Слов \"клиент\" > Слов \"сотрудник\""
   ]
  },
  {
   "cell_type": "code",
   "execution_count": 58,
   "metadata": {},
   "outputs": [
    {
     "name": "stdout",
     "output_type": "stream",
     "text": [
      "Слово \"мошенничество\" встречается -\" 3046 раз\n",
      "Слово \"доверие\" встречается -\" 1884 раз\n"
     ]
    }
   ],
   "source": [
    "print('Слово \"мошенничество\" встречается -\"',Freq_Dist['мошенничество'],'раз')\n",
    "print('Слово \"доверие\" встречается -\"',Freq_Dist['доверие'],'раз')"
   ]
  },
  {
   "cell_type": "markdown",
   "metadata": {},
   "source": [
    "Слов \"мошенничество\" > Слов \"доверие\""
   ]
  },
  {
   "cell_type": "markdown",
   "metadata": {},
   "source": [
    "### 6. В поле \"rating_grade\" записана оценка отзыва по шкале от 1 до 5. Используйте меру 𝑡𝑓−𝑖𝑑𝑓 , для того, чтобы найти ключевые слова и биграмы для положительных отзывов (с оценкой 5) и отрицательных отзывов (с оценкой 1)"
   ]
  },
  {
   "cell_type": "code",
   "execution_count": 64,
   "metadata": {},
   "outputs": [
    {
     "data": {
      "text/plain": [
       "1.0    39026\n",
       "2.0    12995\n",
       "5.0    10273\n",
       "3.0     7362\n",
       "4.0     3495\n",
       "Name: rating_grade, dtype: int64"
      ]
     },
     "execution_count": 64,
     "metadata": {},
     "output_type": "execute_result"
    }
   ],
   "source": [
    "df['rating_grade'].value_counts()"
   ]
  },
  {
   "cell_type": "markdown",
   "metadata": {},
   "source": [
    "Сбалансируем выборки"
   ]
  },
  {
   "cell_type": "code",
   "execution_count": 65,
   "metadata": {},
   "outputs": [
    {
     "data": {
      "text/plain": [
       "5.0    10000\n",
       "1.0    10000\n",
       "Name: rating_grade, dtype: int64"
      ]
     },
     "execution_count": 65,
     "metadata": {},
     "output_type": "execute_result"
    }
   ],
   "source": [
    "num=10000\n",
    "\n",
    "df_sample = df[(df.rating_grade==1)].sample(n=num).copy()\n",
    "df_sample = df_sample.append(df[(df.rating_grade==5)].sample(n=num))\n",
    "\n",
    "df_sample.rating_grade.value_counts()"
   ]
  },
  {
   "cell_type": "code",
   "execution_count": 66,
   "metadata": {},
   "outputs": [],
   "source": [
    "tokens_by_topic = []\n",
    "\n",
    "for rating in df_sample.rating_grade.unique():\n",
    "    tokens=[]\n",
    "    sample=df_sample[df_sample['rating_grade']==rating]\n",
    "    \n",
    "    for i in range(len(sample)):\n",
    "        tokens += sample.lemma.iloc[i].split()\n",
    "        \n",
    "    tokens_by_topic.append(tokens)"
   ]
  },
  {
   "cell_type": "code",
   "execution_count": 68,
   "metadata": {},
   "outputs": [
    {
     "data": {
      "text/html": [
       "<div>\n",
       "<style scoped>\n",
       "    .dataframe tbody tr th:only-of-type {\n",
       "        vertical-align: middle;\n",
       "    }\n",
       "\n",
       "    .dataframe tbody tr th {\n",
       "        vertical-align: top;\n",
       "    }\n",
       "\n",
       "    .dataframe thead th {\n",
       "        text-align: right;\n",
       "    }\n",
       "</style>\n",
       "<table border=\"1\" class=\"dataframe\">\n",
       "  <thead>\n",
       "    <tr style=\"text-align: right;\">\n",
       "      <th></th>\n",
       "      <th>author</th>\n",
       "      <th>bank_license</th>\n",
       "      <th>bank_name</th>\n",
       "      <th>city</th>\n",
       "      <th>datetime</th>\n",
       "      <th>num_comments</th>\n",
       "      <th>rating_grade</th>\n",
       "      <th>rating_not_checked</th>\n",
       "      <th>text</th>\n",
       "      <th>title</th>\n",
       "      <th>clean_city</th>\n",
       "      <th>text_tokinized</th>\n",
       "      <th>text_tokinized_stop_worlds</th>\n",
       "      <th>lemma</th>\n",
       "      <th>nouns</th>\n",
       "    </tr>\n",
       "  </thead>\n",
       "  <tbody>\n",
       "    <tr>\n",
       "      <th>119921</th>\n",
       "      <td>andrey_egorov</td>\n",
       "      <td>лицензия № 3292</td>\n",
       "      <td>Райффайзенбанк</td>\n",
       "      <td>г. Санкт-Петербург</td>\n",
       "      <td>2011-09-02 15:42:00</td>\n",
       "      <td>6</td>\n",
       "      <td>1.0</td>\n",
       "      <td>False</td>\n",
       "      <td>Прошу отдел качества максимально внимательно о...</td>\n",
       "      <td>\"Мы заблокировали, но почему - не знаем!\"</td>\n",
       "      <td>Петербург</td>\n",
       "      <td>прошу отдел качества максимально внимательно о...</td>\n",
       "      <td>прошу отдел качества максимально внимательно о...</td>\n",
       "      <td>просить отдел качество максимально внимательно...</td>\n",
       "      <td>отдел качество обращение обращение банк август...</td>\n",
       "    </tr>\n",
       "    <tr>\n",
       "      <th>89328</th>\n",
       "      <td>*Galina*</td>\n",
       "      <td>лицензия № 1623</td>\n",
       "      <td>ВТБ 24</td>\n",
       "      <td>г. Новосибирск</td>\n",
       "      <td>2013-03-04 09:21:00</td>\n",
       "      <td>1</td>\n",
       "      <td>1.0</td>\n",
       "      <td>False</td>\n",
       "      <td>Подала заявку на получение потребительского кр...</td>\n",
       "      <td>Отвратительное обслуживание</td>\n",
       "      <td>Новосибирск</td>\n",
       "      <td>подала заявку на получение потребительского кр...</td>\n",
       "      <td>подала заявку получение потребительского креди...</td>\n",
       "      <td>подавать заявка получение потребительский кред...</td>\n",
       "      <td>заявка получение кредит интернет москва анкета...</td>\n",
       "    </tr>\n",
       "    <tr>\n",
       "      <th>48436</th>\n",
       "      <td>Не клиентkzn</td>\n",
       "      <td>лицензия № 3279</td>\n",
       "      <td>Национальный Банк «Траст»</td>\n",
       "      <td>г. Казань</td>\n",
       "      <td>2014-05-05 19:21:00</td>\n",
       "      <td>2</td>\n",
       "      <td>1.0</td>\n",
       "      <td>False</td>\n",
       "      <td>Согласна со всеми раннее оставленными отзывами...</td>\n",
       "      <td>Звонки из банка</td>\n",
       "      <td>Казань</td>\n",
       "      <td>согласна со всеми раннее оставленными отзывами...</td>\n",
       "      <td>согласна всеми раннее оставленными отзывами не...</td>\n",
       "      <td>согласный все ранний оставлять отзыв некомпете...</td>\n",
       "      <td>согласный отзыв работа сотрудник центр дирекци...</td>\n",
       "    </tr>\n",
       "  </tbody>\n",
       "</table>\n",
       "</div>"
      ],
      "text/plain": [
       "               author     bank_license                  bank_name  \\\n",
       "119921  andrey_egorov  лицензия № 3292             Райффайзенбанк   \n",
       "89328        *Galina*  лицензия № 1623                     ВТБ 24   \n",
       "48436    Не клиентkzn  лицензия № 3279  Национальный Банк «Траст»   \n",
       "\n",
       "                      city             datetime  num_comments  rating_grade  \\\n",
       "119921  г. Санкт-Петербург  2011-09-02 15:42:00             6           1.0   \n",
       "89328       г. Новосибирск  2013-03-04 09:21:00             1           1.0   \n",
       "48436            г. Казань  2014-05-05 19:21:00             2           1.0   \n",
       "\n",
       "        rating_not_checked                                               text  \\\n",
       "119921               False  Прошу отдел качества максимально внимательно о...   \n",
       "89328                False  Подала заявку на получение потребительского кр...   \n",
       "48436                False  Согласна со всеми раннее оставленными отзывами...   \n",
       "\n",
       "                                            title   clean_city  \\\n",
       "119921  \"Мы заблокировали, но почему - не знаем!\"    Петербург   \n",
       "89328                 Отвратительное обслуживание  Новосибирск   \n",
       "48436                             Звонки из банка       Казань   \n",
       "\n",
       "                                           text_tokinized  \\\n",
       "119921  прошу отдел качества максимально внимательно о...   \n",
       "89328   подала заявку на получение потребительского кр...   \n",
       "48436   согласна со всеми раннее оставленными отзывами...   \n",
       "\n",
       "                               text_tokinized_stop_worlds  \\\n",
       "119921  прошу отдел качества максимально внимательно о...   \n",
       "89328   подала заявку получение потребительского креди...   \n",
       "48436   согласна всеми раннее оставленными отзывами не...   \n",
       "\n",
       "                                                    lemma  \\\n",
       "119921  просить отдел качество максимально внимательно...   \n",
       "89328   подавать заявка получение потребительский кред...   \n",
       "48436   согласный все ранний оставлять отзыв некомпете...   \n",
       "\n",
       "                                                    nouns  \n",
       "119921  отдел качество обращение обращение банк август...  \n",
       "89328   заявка получение кредит интернет москва анкета...  \n",
       "48436   согласный отзыв работа сотрудник центр дирекци...  "
      ]
     },
     "execution_count": 68,
     "metadata": {},
     "output_type": "execute_result"
    }
   ],
   "source": [
    "df_sample.head(3)"
   ]
  },
  {
   "cell_type": "markdown",
   "metadata": {},
   "source": [
    "#### Униграммы"
   ]
  },
  {
   "cell_type": "code",
   "execution_count": 69,
   "metadata": {},
   "outputs": [],
   "source": [
    "from sklearn.feature_extraction.text import TfidfVectorizer\n",
    "import numpy as np\n",
    "\n",
    "tfidf = TfidfVectorizer(analyzer='word', ngram_range=(1,1), min_df = 0)\n",
    "tfidf_matrix =  tfidf.fit_transform([' '.join(tokens) for tokens in tokens_by_topic])\n",
    "feature_names = tfidf.get_feature_names() \n",
    "tfidf_ranking_5 = []\n",
    "tfidf_ranking_1 = []\n",
    "dense = tfidf_matrix.todense()\n",
    "\n",
    "text = dense[1].tolist()[0]\n",
    "phrase_scores = [pair for pair in zip(range(0, len(text)), text) if pair[1] > 0]\n",
    "sorted_phrase_scores = sorted(phrase_scores, key=lambda t: t[1] * -1)\n",
    "phrases = []\n",
    "\n",
    "for phrase, score in [(feature_names[word_id], score) for (word_id, score) in sorted_phrase_scores][:70]:\n",
    "    tfidf_ranking_5.append(phrase)\n",
    "    \n",
    "text = dense[0].tolist()[0]\n",
    "phrase_scores = [pair for pair in zip(range(0, len(text)), text) if pair[1] > 0]\n",
    "sorted_phrase_scores = sorted(phrase_scores, key=lambda t: t[1] * -1)\n",
    "phrases = []\n",
    "\n",
    "for phrase, score in [(feature_names[word_id], score) for (word_id, score) in sorted_phrase_scores][:70]:\n",
    "    tfidf_ranking_1.append(phrase)"
   ]
  },
  {
   "cell_type": "code",
   "execution_count": 70,
   "metadata": {},
   "outputs": [
    {
     "data": {
      "text/html": [
       "<div>\n",
       "<style scoped>\n",
       "    .dataframe tbody tr th:only-of-type {\n",
       "        vertical-align: middle;\n",
       "    }\n",
       "\n",
       "    .dataframe tbody tr th {\n",
       "        vertical-align: top;\n",
       "    }\n",
       "\n",
       "    .dataframe thead th {\n",
       "        text-align: right;\n",
       "    }\n",
       "</style>\n",
       "<table border=\"1\" class=\"dataframe\">\n",
       "  <thead>\n",
       "    <tr style=\"text-align: right;\">\n",
       "      <th></th>\n",
       "      <th>tfidf_ranking_5</th>\n",
       "      <th>tfidf_ranking_1</th>\n",
       "    </tr>\n",
       "  </thead>\n",
       "  <tbody>\n",
       "    <tr>\n",
       "      <th>0</th>\n",
       "      <td>банк</td>\n",
       "      <td>банк</td>\n",
       "    </tr>\n",
       "    <tr>\n",
       "      <th>1</th>\n",
       "      <td>карта</td>\n",
       "      <td>карта</td>\n",
       "    </tr>\n",
       "    <tr>\n",
       "      <th>2</th>\n",
       "      <td>очень</td>\n",
       "      <td>деньги</td>\n",
       "    </tr>\n",
       "    <tr>\n",
       "      <th>3</th>\n",
       "      <td>клиент</td>\n",
       "      <td>день</td>\n",
       "    </tr>\n",
       "    <tr>\n",
       "      <th>4</th>\n",
       "      <td>день</td>\n",
       "      <td>мой</td>\n",
       "    </tr>\n",
       "    <tr>\n",
       "      <th>5</th>\n",
       "      <td>сотрудник</td>\n",
       "      <td>отделение</td>\n",
       "    </tr>\n",
       "    <tr>\n",
       "      <th>6</th>\n",
       "      <td>кредит</td>\n",
       "      <td>сотрудник</td>\n",
       "    </tr>\n",
       "    <tr>\n",
       "      <th>7</th>\n",
       "      <td>который</td>\n",
       "      <td>который</td>\n",
       "    </tr>\n",
       "    <tr>\n",
       "      <th>8</th>\n",
       "      <td>отделение</td>\n",
       "      <td>кредит</td>\n",
       "    </tr>\n",
       "    <tr>\n",
       "      <th>9</th>\n",
       "      <td>вклад</td>\n",
       "      <td>счет</td>\n",
       "    </tr>\n",
       "  </tbody>\n",
       "</table>\n",
       "</div>"
      ],
      "text/plain": [
       "  tfidf_ranking_5 tfidf_ranking_1\n",
       "0            банк            банк\n",
       "1           карта           карта\n",
       "2           очень          деньги\n",
       "3          клиент            день\n",
       "4            день             мой\n",
       "5       сотрудник       отделение\n",
       "6          кредит       сотрудник\n",
       "7         который         который\n",
       "8       отделение          кредит\n",
       "9           вклад            счет"
      ]
     },
     "execution_count": 70,
     "metadata": {},
     "output_type": "execute_result"
    }
   ],
   "source": [
    "rank = pd.DataFrame({'tfidf_ranking_5': tfidf_ranking_5,'tfidf_ranking_1': tfidf_ranking_1})\n",
    "rank.head(10)"
   ]
  },
  {
   "cell_type": "markdown",
   "metadata": {},
   "source": [
    "Убираем пересечения"
   ]
  },
  {
   "cell_type": "code",
   "execution_count": 73,
   "metadata": {},
   "outputs": [],
   "source": [
    "rank['tfidf_ranking_5_without_1']=rank.tfidf_ranking_5[~rank.tfidf_ranking_5.isin(rank.tfidf_ranking_1)]\n",
    "rank['tfidf_ranking_1_without_5']=rank.tfidf_ranking_1[~rank.tfidf_ranking_1.isin(rank.tfidf_ranking_5)]"
   ]
  },
  {
   "cell_type": "code",
   "execution_count": 78,
   "metadata": {},
   "outputs": [
    {
     "data": {
      "text/html": [
       "<div>\n",
       "<style scoped>\n",
       "    .dataframe tbody tr th:only-of-type {\n",
       "        vertical-align: middle;\n",
       "    }\n",
       "\n",
       "    .dataframe tbody tr th {\n",
       "        vertical-align: top;\n",
       "    }\n",
       "\n",
       "    .dataframe thead th {\n",
       "        text-align: right;\n",
       "    }\n",
       "</style>\n",
       "<table border=\"1\" class=\"dataframe\">\n",
       "  <thead>\n",
       "    <tr style=\"text-align: right;\">\n",
       "      <th></th>\n",
       "      <th>tfidf_ranking_5_without_1</th>\n",
       "      <th>tfidf_ranking_1_without_5</th>\n",
       "    </tr>\n",
       "  </thead>\n",
       "  <tbody>\n",
       "    <tr>\n",
       "      <th>20</th>\n",
       "      <td>обслуживание</td>\n",
       "      <td>ответ</td>\n",
       "    </tr>\n",
       "    <tr>\n",
       "      <th>30</th>\n",
       "      <td>быстро</td>\n",
       "      <td>номер</td>\n",
       "    </tr>\n",
       "    <tr>\n",
       "      <th>32</th>\n",
       "      <td>интернет</td>\n",
       "      <td>написать</td>\n",
       "    </tr>\n",
       "    <tr>\n",
       "      <th>36</th>\n",
       "      <td>банка</td>\n",
       "      <td>ваш</td>\n",
       "    </tr>\n",
       "    <tr>\n",
       "      <th>38</th>\n",
       "      <td>очередь</td>\n",
       "      <td>средство</td>\n",
       "    </tr>\n",
       "    <tr>\n",
       "      <th>39</th>\n",
       "      <td>открывать</td>\n",
       "      <td>отвечать</td>\n",
       "    </tr>\n",
       "    <tr>\n",
       "      <th>45</th>\n",
       "      <td>хороший</td>\n",
       "      <td>звонок</td>\n",
       "    </tr>\n",
       "    <tr>\n",
       "      <th>59</th>\n",
       "      <td>самый</td>\n",
       "      <td>операция</td>\n",
       "    </tr>\n",
       "    <tr>\n",
       "      <th>63</th>\n",
       "      <td>помогать</td>\n",
       "      <td>давать</td>\n",
       "    </tr>\n",
       "    <tr>\n",
       "      <th>67</th>\n",
       "      <td>вс</td>\n",
       "      <td>знать</td>\n",
       "    </tr>\n",
       "    <tr>\n",
       "      <th>69</th>\n",
       "      <td>девушка</td>\n",
       "      <td>быть</td>\n",
       "    </tr>\n",
       "  </tbody>\n",
       "</table>\n",
       "</div>"
      ],
      "text/plain": [
       "   tfidf_ranking_5_without_1 tfidf_ranking_1_without_5\n",
       "20              обслуживание                     ответ\n",
       "30                    быстро                     номер\n",
       "32                  интернет                  написать\n",
       "36                     банка                       ваш\n",
       "38                   очередь                  средство\n",
       "39                 открывать                  отвечать\n",
       "45                   хороший                    звонок\n",
       "59                     самый                  операция\n",
       "63                  помогать                    давать\n",
       "67                        вс                     знать\n",
       "69                   девушка                      быть"
      ]
     },
     "execution_count": 78,
     "metadata": {},
     "output_type": "execute_result"
    }
   ],
   "source": [
    "rank.iloc[:,-2:].dropna()"
   ]
  },
  {
   "cell_type": "markdown",
   "metadata": {},
   "source": [
    "#### Биграммы"
   ]
  },
  {
   "cell_type": "code",
   "execution_count": 79,
   "metadata": {},
   "outputs": [],
   "source": [
    "from sklearn.feature_extraction.text import TfidfVectorizer\n",
    "import numpy as np\n",
    "\n",
    "tfidf = TfidfVectorizer(analyzer='word', ngram_range=(2,2), min_df = 0)\n",
    "tfidf_matrix =  tfidf.fit_transform([' '.join(tokens) for tokens in tokens_by_topic])\n",
    "feature_names = tfidf.get_feature_names() \n",
    "tfidf_ranking_rank_is_5 = []\n",
    "tfidf_ranking_rank_is_1 = []\n",
    "dense = tfidf_matrix.todense()\n",
    "\n",
    "text = dense[1].tolist()[0]\n",
    "phrase_scores = [pair for pair in zip(range(0, len(text)), text) if pair[1] > 0]\n",
    "sorted_phrase_scores = sorted(phrase_scores, key=lambda t: t[1] * -1)\n",
    "phrases = []\n",
    "\n",
    "for phrase, score in [(feature_names[word_id], score) for (word_id, score) in sorted_phrase_scores][:70]:\n",
    "    tfidf_ranking_rank_is_5.append(phrase)\n",
    "    \n",
    "text = dense[0].tolist()[0]\n",
    "phrase_scores = [pair for pair in zip(range(0, len(text)), text) if pair[1] > 0]\n",
    "sorted_phrase_scores = sorted(phrase_scores, key=lambda t: t[1] * -1)\n",
    "phrases = []\n",
    "\n",
    "for phrase, score in [(feature_names[word_id], score) for (word_id, score) in sorted_phrase_scores][:70]:\n",
    "    tfidf_ranking_rank_is_1.append(phrase) "
   ]
  },
  {
   "cell_type": "code",
   "execution_count": 81,
   "metadata": {},
   "outputs": [
    {
     "data": {
      "text/html": [
       "<div>\n",
       "<style scoped>\n",
       "    .dataframe tbody tr th:only-of-type {\n",
       "        vertical-align: middle;\n",
       "    }\n",
       "\n",
       "    .dataframe tbody tr th {\n",
       "        vertical-align: top;\n",
       "    }\n",
       "\n",
       "    .dataframe thead th {\n",
       "        text-align: right;\n",
       "    }\n",
       "</style>\n",
       "<table border=\"1\" class=\"dataframe\">\n",
       "  <thead>\n",
       "    <tr style=\"text-align: right;\">\n",
       "      <th></th>\n",
       "      <th>tfidf_ranking_rank_is_5</th>\n",
       "      <th>tfidf_ranking_rank_is_1</th>\n",
       "    </tr>\n",
       "  </thead>\n",
       "  <tbody>\n",
       "    <tr>\n",
       "      <th>0</th>\n",
       "      <td>интернет банк</td>\n",
       "      <td>сотрудник банк</td>\n",
       "    </tr>\n",
       "    <tr>\n",
       "      <th>1</th>\n",
       "      <td>другой банк</td>\n",
       "      <td>денежный средство</td>\n",
       "    </tr>\n",
       "    <tr>\n",
       "      <th>2</th>\n",
       "      <td>сотрудник банк</td>\n",
       "      <td>отделение банк</td>\n",
       "    </tr>\n",
       "    <tr>\n",
       "      <th>3</th>\n",
       "      <td>кредитный карта</td>\n",
       "      <td>кредитный карта</td>\n",
       "    </tr>\n",
       "    <tr>\n",
       "      <th>4</th>\n",
       "      <td>клиент банк</td>\n",
       "      <td>написать заявление</td>\n",
       "    </tr>\n",
       "    <tr>\n",
       "      <th>5</th>\n",
       "      <td>открывать вклад</td>\n",
       "      <td>горячий линия</td>\n",
       "    </tr>\n",
       "    <tr>\n",
       "      <th>6</th>\n",
       "      <td>отделение банк</td>\n",
       "      <td>колл центр</td>\n",
       "    </tr>\n",
       "    <tr>\n",
       "      <th>7</th>\n",
       "      <td>являться клиент</td>\n",
       "      <td>рабочий день</td>\n",
       "    </tr>\n",
       "    <tr>\n",
       "      <th>8</th>\n",
       "      <td>следующий день</td>\n",
       "      <td>интернет банк</td>\n",
       "    </tr>\n",
       "    <tr>\n",
       "      <th>9</th>\n",
       "      <td>добрый день</td>\n",
       "      <td>служба поддержка</td>\n",
       "    </tr>\n",
       "  </tbody>\n",
       "</table>\n",
       "</div>"
      ],
      "text/plain": [
       "  tfidf_ranking_rank_is_5 tfidf_ranking_rank_is_1\n",
       "0           интернет банк          сотрудник банк\n",
       "1             другой банк       денежный средство\n",
       "2          сотрудник банк          отделение банк\n",
       "3         кредитный карта         кредитный карта\n",
       "4             клиент банк      написать заявление\n",
       "5         открывать вклад           горячий линия\n",
       "6          отделение банк              колл центр\n",
       "7         являться клиент            рабочий день\n",
       "8          следующий день           интернет банк\n",
       "9             добрый день        служба поддержка"
      ]
     },
     "execution_count": 81,
     "metadata": {},
     "output_type": "execute_result"
    }
   ],
   "source": [
    "rankings = pd.DataFrame({'tfidf_ranking_rank_is_5': tfidf_ranking_rank_is_5,'tfidf_ranking_rank_is_1': tfidf_ranking_rank_is_1})\n",
    "rankings.head(10)"
   ]
  },
  {
   "cell_type": "code",
   "execution_count": 82,
   "metadata": {},
   "outputs": [],
   "source": [
    "rankings['tfidf_ranking_rank_is_5_without_1']=rankings.tfidf_ranking_rank_is_5[~rankings.tfidf_ranking_rank_is_5.isin(rankings.tfidf_ranking_rank_is_1)]\n",
    "rankings['tfidf_ranking_rank_is_1_without_5']=rankings.tfidf_ranking_rank_is_1[~rankings.tfidf_ranking_rank_is_1.isin(rankings.tfidf_ranking_rank_is_5)]"
   ]
  },
  {
   "cell_type": "code",
   "execution_count": 83,
   "metadata": {},
   "outputs": [
    {
     "data": {
      "text/html": [
       "<div>\n",
       "<style scoped>\n",
       "    .dataframe tbody tr th:only-of-type {\n",
       "        vertical-align: middle;\n",
       "    }\n",
       "\n",
       "    .dataframe tbody tr th {\n",
       "        vertical-align: top;\n",
       "    }\n",
       "\n",
       "    .dataframe thead th {\n",
       "        text-align: right;\n",
       "    }\n",
       "</style>\n",
       "<table border=\"1\" class=\"dataframe\">\n",
       "  <thead>\n",
       "    <tr style=\"text-align: right;\">\n",
       "      <th></th>\n",
       "      <th>tfidf_ranking_rank_is_5_without_1</th>\n",
       "      <th>tfidf_ranking_rank_is_1_without_5</th>\n",
       "    </tr>\n",
       "  </thead>\n",
       "  <tbody>\n",
       "    <tr>\n",
       "      <th>13</th>\n",
       "      <td>выражать благодарность</td>\n",
       "      <td>сей пора</td>\n",
       "    </tr>\n",
       "    <tr>\n",
       "      <th>19</th>\n",
       "      <td>приятно удивлять</td>\n",
       "      <td>получать ответ</td>\n",
       "    </tr>\n",
       "    <tr>\n",
       "      <th>22</th>\n",
       "      <td>банк очень</td>\n",
       "      <td>писать заявление</td>\n",
       "    </tr>\n",
       "    <tr>\n",
       "      <th>24</th>\n",
       "      <td>год назад</td>\n",
       "      <td>течение день</td>\n",
       "    </tr>\n",
       "    <tr>\n",
       "      <th>25</th>\n",
       "      <td>очень довольный</td>\n",
       "      <td>номер телефон</td>\n",
       "    </tr>\n",
       "    <tr>\n",
       "      <th>26</th>\n",
       "      <td>мой вопрос</td>\n",
       "      <td>обращаться отделение</td>\n",
       "    </tr>\n",
       "    <tr>\n",
       "      <th>30</th>\n",
       "      <td>большой спасибо</td>\n",
       "      <td>мой заявление</td>\n",
       "    </tr>\n",
       "    <tr>\n",
       "      <th>34</th>\n",
       "      <td>огромный спасибо</td>\n",
       "      <td>мой деньги</td>\n",
       "    </tr>\n",
       "    <tr>\n",
       "      <th>36</th>\n",
       "      <td>услуга банк</td>\n",
       "      <td>снимать деньги</td>\n",
       "    </tr>\n",
       "    <tr>\n",
       "      <th>37</th>\n",
       "      <td>банк москва</td>\n",
       "      <td>погашение кредит</td>\n",
       "    </tr>\n",
       "    <tr>\n",
       "      <th>39</th>\n",
       "      <td>качество обслуживание</td>\n",
       "      <td>свой деньги</td>\n",
       "    </tr>\n",
       "    <tr>\n",
       "      <th>42</th>\n",
       "      <td>очень приятно</td>\n",
       "      <td>деньги карта</td>\n",
       "    </tr>\n",
       "    <tr>\n",
       "      <th>45</th>\n",
       "      <td>банк год</td>\n",
       "      <td>сч тот</td>\n",
       "    </tr>\n",
       "    <tr>\n",
       "      <th>47</th>\n",
       "      <td>открытие вклад</td>\n",
       "      <td>вопрос почему</td>\n",
       "    </tr>\n",
       "    <tr>\n",
       "      <th>49</th>\n",
       "      <td>карта банк</td>\n",
       "      <td>ежемесячный платеж</td>\n",
       "    </tr>\n",
       "    <tr>\n",
       "      <th>50</th>\n",
       "      <td>мочь сказать</td>\n",
       "      <td>приходить отделение</td>\n",
       "    </tr>\n",
       "    <tr>\n",
       "      <th>51</th>\n",
       "      <td>очень удобный</td>\n",
       "      <td>карта который</td>\n",
       "    </tr>\n",
       "    <tr>\n",
       "      <th>52</th>\n",
       "      <td>продукт банк</td>\n",
       "      <td>мобильный банк</td>\n",
       "    </tr>\n",
       "    <tr>\n",
       "      <th>54</th>\n",
       "      <td>хотеть сказать</td>\n",
       "      <td>данный ситуация</td>\n",
       "    </tr>\n",
       "    <tr>\n",
       "      <th>57</th>\n",
       "      <td>хотеть поблагодарить</td>\n",
       "      <td>звонить банк</td>\n",
       "    </tr>\n",
       "    <tr>\n",
       "      <th>62</th>\n",
       "      <td>какой либо</td>\n",
       "      <td>сбербанк россия</td>\n",
       "    </tr>\n",
       "    <tr>\n",
       "      <th>63</th>\n",
       "      <td>подавать заявка</td>\n",
       "      <td>заявление закрытие</td>\n",
       "    </tr>\n",
       "    <tr>\n",
       "      <th>64</th>\n",
       "      <td>качественный обслуживание</td>\n",
       "      <td>взять кредит</td>\n",
       "    </tr>\n",
       "    <tr>\n",
       "      <th>65</th>\n",
       "      <td>ипотечный кредит</td>\n",
       "      <td>банк сказать</td>\n",
       "    </tr>\n",
       "    <tr>\n",
       "      <th>66</th>\n",
       "      <td>открывать счет</td>\n",
       "      <td>написать претензия</td>\n",
       "    </tr>\n",
       "    <tr>\n",
       "      <th>67</th>\n",
       "      <td>хоум кредит</td>\n",
       "      <td>пин код</td>\n",
       "    </tr>\n",
       "    <tr>\n",
       "      <th>68</th>\n",
       "      <td>очень понравиться</td>\n",
       "      <td>молодой человек</td>\n",
       "    </tr>\n",
       "  </tbody>\n",
       "</table>\n",
       "</div>"
      ],
      "text/plain": [
       "   tfidf_ranking_rank_is_5_without_1 tfidf_ranking_rank_is_1_without_5\n",
       "13            выражать благодарность                          сей пора\n",
       "19                  приятно удивлять                    получать ответ\n",
       "22                        банк очень                  писать заявление\n",
       "24                         год назад                      течение день\n",
       "25                   очень довольный                     номер телефон\n",
       "26                        мой вопрос              обращаться отделение\n",
       "30                   большой спасибо                     мой заявление\n",
       "34                  огромный спасибо                        мой деньги\n",
       "36                       услуга банк                    снимать деньги\n",
       "37                       банк москва                  погашение кредит\n",
       "39             качество обслуживание                       свой деньги\n",
       "42                     очень приятно                      деньги карта\n",
       "45                          банк год                            сч тот\n",
       "47                    открытие вклад                     вопрос почему\n",
       "49                        карта банк                ежемесячный платеж\n",
       "50                      мочь сказать               приходить отделение\n",
       "51                     очень удобный                     карта который\n",
       "52                      продукт банк                    мобильный банк\n",
       "54                    хотеть сказать                   данный ситуация\n",
       "57              хотеть поблагодарить                      звонить банк\n",
       "62                        какой либо                   сбербанк россия\n",
       "63                   подавать заявка                заявление закрытие\n",
       "64         качественный обслуживание                      взять кредит\n",
       "65                  ипотечный кредит                      банк сказать\n",
       "66                    открывать счет                написать претензия\n",
       "67                       хоум кредит                           пин код\n",
       "68                 очень понравиться                   молодой человек"
      ]
     },
     "execution_count": 83,
     "metadata": {},
     "output_type": "execute_result"
    }
   ],
   "source": [
    "rankings.iloc[:,-2:].dropna()"
   ]
  },
  {
   "cell_type": "markdown",
   "metadata": {},
   "source": [
    "## Часть 2. Тематическое моделирование [20/100]\n",
    "\n",
    "1. Постройте несколько тематических моделей коллекции документов с разным числом тем. Приведите примеры понятных (интерпретируемых) тем.\n",
    "2. Найдите темы, в которых упомянуты конкретные банки (Сбербанк, ВТБ, другой банк). Можете ли вы их прокомментировать / объяснить?\n",
    "\n",
    "Эта часть задания может быть сделана с использованием gensim. "
   ]
  },
  {
   "cell_type": "code",
   "execution_count": 86,
   "metadata": {},
   "outputs": [],
   "source": [
    "import gensim.corpora as corpora\n",
    "from gensim.models import ldamodel"
   ]
  },
  {
   "cell_type": "code",
   "execution_count": 87,
   "metadata": {},
   "outputs": [],
   "source": [
    "texts = [df['lemma'].iloc[i].split() for i in range(len(df))]\n",
    "dictionary = corpora.Dictionary(texts)\n",
    "corpus = [dictionary.doc2bow(text) for text in texts]"
   ]
  },
  {
   "cell_type": "code",
   "execution_count": 88,
   "metadata": {},
   "outputs": [],
   "source": [
    "random.seed(11)"
   ]
  },
  {
   "cell_type": "code",
   "execution_count": 89,
   "metadata": {},
   "outputs": [],
   "source": [
    "lda = ldamodel.LdaModel(corpus=corpus, \n",
    "                        id2word=dictionary, \n",
    "                        num_topics=20, \n",
    "                        alpha='auto', \n",
    "                        eta='auto', \n",
    "                        iterations = 20, \n",
    "                        passes = 5)"
   ]
  },
  {
   "cell_type": "code",
   "execution_count": 90,
   "metadata": {},
   "outputs": [
    {
     "data": {
      "text/plain": [
       "[(15,\n",
       "  '0.067*\"рубль\" + 0.052*\"курс\" + 0.046*\"доллар\" + 0.045*\"валюта\" + 0.045*\"евро\" + 0.038*\"комиссия\" + 0.037*\"сумма\" + 0.032*\"кассир\" + 0.020*\"валютный\" + 0.019*\"касса\"'),\n",
       " (5,\n",
       "  '0.048*\"лимит\" + 0.030*\"связной\" + 0.030*\"покупка\" + 0.025*\"магазин\" + 0.023*\"акция\" + 0.022*\"период\" + 0.022*\"кредитный\" + 0.021*\"ткс\" + 0.017*\"карта\" + 0.017*\"балл\"'),\n",
       " (2,\n",
       "  '0.042*\"день\" + 0.031*\"банк\" + 0.027*\"позвонить\" + 0.021*\"звонить\" + 0.018*\"сказать\" + 0.015*\"телефон\" + 0.014*\"центр\" + 0.014*\"заявка\" + 0.013*\"звонок\" + 0.013*\"вопрос\"'),\n",
       " (19,\n",
       "  '0.016*\"сказать\" + 0.015*\"говорить\" + 0.015*\"девушка\" + 0.012*\"приходить\" + 0.012*\"деньги\" + 0.011*\"вс\" + 0.009*\"знать\" + 0.009*\"спрашивать\" + 0.008*\"думать\" + 0.008*\"давать\"'),\n",
       " (13,\n",
       "  '0.060*\"банк\" + 0.022*\"клиент\" + 0.012*\"который\" + 0.010*\"свой\" + 0.009*\"год\" + 0.009*\"такой\" + 0.008*\"другой\" + 0.007*\"проблема\" + 0.007*\"время\" + 0.007*\"один\"')]"
      ]
     },
     "execution_count": 90,
     "metadata": {},
     "output_type": "execute_result"
    }
   ],
   "source": [
    "# 20 тем, рандомная выборка 5\n",
    "lda.show_topics(5)"
   ]
  },
  {
   "cell_type": "markdown",
   "metadata": {},
   "source": [
    "1. Обмен валют\n",
    "2. Покупка по акции, что-то связанное баллами карты\n",
    "3. Заявка в тех. поддержку банка\n",
    "4. Консультации в банке\n",
    "5. Проблема пастоянного клиента с банком"
   ]
  },
  {
   "cell_type": "code",
   "execution_count": 91,
   "metadata": {},
   "outputs": [],
   "source": [
    "lda15 = ldamodel.LdaModel(corpus=corpus, \n",
    "                          id2word=dictionary, \n",
    "                          num_topics=15, \n",
    "                          alpha='auto', \n",
    "                          eta='auto', \n",
    "                          iterations = 20, \n",
    "                          passes = 5)"
   ]
  },
  {
   "cell_type": "code",
   "execution_count": 92,
   "metadata": {},
   "outputs": [
    {
     "data": {
      "text/plain": [
       "[(8,\n",
       "  '0.131*\"вклад\" + 0.039*\"открывать\" + 0.037*\"банк\" + 0.027*\"депозит\" + 0.026*\"процент\" + 0.020*\"деньги\" + 0.020*\"договор\" + 0.017*\"офис\" + 0.014*\"сумма\" + 0.014*\"ставка\"'),\n",
       " (9,\n",
       "  '0.078*\"кредит\" + 0.023*\"банк\" + 0.017*\"кредитный\" + 0.017*\"документ\" + 0.015*\"договор\" + 0.015*\"оформлять\" + 0.015*\"заявка\" + 0.014*\"страховка\" + 0.011*\"квартира\" + 0.011*\"сумма\"'),\n",
       " (12,\n",
       "  '0.019*\"отделение\" + 0.016*\"очередь\" + 0.013*\"работать\" + 0.012*\"минута\" + 0.010*\"человек\" + 0.010*\"девушка\" + 0.009*\"офис\" + 0.008*\"касса\" + 0.008*\"час\" + 0.008*\"клиент\"'),\n",
       " (4,\n",
       "  '0.030*\"день\" + 0.029*\"банк\" + 0.020*\"сказать\" + 0.019*\"позвонить\" + 0.015*\"звонить\" + 0.014*\"ответ\" + 0.013*\"вопрос\" + 0.012*\"отделение\" + 0.011*\"отвечать\" + 0.010*\"телефон\"'),\n",
       " (10,\n",
       "  '0.054*\"банк\" + 0.021*\"клиент\" + 0.016*\"очень\" + 0.009*\"который\" + 0.009*\"свой\" + 0.009*\"работа\" + 0.009*\"время\" + 0.009*\"сотрудник\" + 0.008*\"вопрос\" + 0.008*\"год\"')]"
      ]
     },
     "execution_count": 92,
     "metadata": {},
     "output_type": "execute_result"
    }
   ],
   "source": [
    "# 25 тем, рандомная выборка 5\n",
    "lda15.show_topics(5)"
   ]
  },
  {
   "cell_type": "markdown",
   "metadata": {},
   "source": [
    "1. Открытие депозита\n",
    "2. Кредит, страховка, что-то связанное с квартирой\n",
    "3. Очередь в банке\n",
    "4. Звонок в банке\n",
    "5. Вопрос клиента сотруднику банка"
   ]
  },
  {
   "cell_type": "code",
   "execution_count": 93,
   "metadata": {},
   "outputs": [],
   "source": [
    "lda10 = ldamodel.LdaModel(corpus=corpus, \n",
    "                          id2word=dictionary, \n",
    "                          num_topics=10, \n",
    "                          alpha='auto', \n",
    "                          eta='auto', \n",
    "                          iterations = 20, \n",
    "                          passes = 5)"
   ]
  },
  {
   "cell_type": "code",
   "execution_count": 100,
   "metadata": {},
   "outputs": [
    {
     "data": {
      "text/plain": [
       "[(5,\n",
       "  '0.051*\"кредит\" + 0.031*\"документ\" + 0.027*\"банк\" + 0.023*\"заявка\" + 0.016*\"кредитный\" + 0.013*\"оформлять\" + 0.012*\"справка\" + 0.012*\"договор\" + 0.010*\"страховка\" + 0.010*\"менеджер\"'),\n",
       " (0,\n",
       "  '0.049*\"вклад\" + 0.043*\"банк\" + 0.026*\"договор\" + 0.021*\"счет\" + 0.015*\"открывать\" + 0.011*\"условие\" + 0.010*\"процент\" + 0.009*\"документ\" + 0.009*\"клиент\" + 0.008*\"открытие\"'),\n",
       " (2,\n",
       "  '0.034*\"деньги\" + 0.030*\"заявление\" + 0.030*\"банкомат\" + 0.023*\"сбербанк\" + 0.021*\"мой\" + 0.018*\"банк\" + 0.018*\"день\" + 0.016*\"карта\" + 0.016*\"претензия\" + 0.015*\"отделение\"'),\n",
       " (4,\n",
       "  '0.048*\"банк\" + 0.019*\"клиент\" + 0.014*\"очень\" + 0.009*\"который\" + 0.009*\"свой\" + 0.008*\"работа\" + 0.008*\"год\" + 0.007*\"время\" + 0.007*\"вопрос\" + 0.007*\"сотрудник\"'),\n",
       " (6,\n",
       "  '0.020*\"сказать\" + 0.017*\"день\" + 0.015*\"банк\" + 0.012*\"звонить\" + 0.012*\"позвонить\" + 0.012*\"говорить\" + 0.010*\"деньги\" + 0.010*\"мочь\" + 0.009*\"отвечать\" + 0.009*\"приходить\"')]"
      ]
     },
     "execution_count": 100,
     "metadata": {},
     "output_type": "execute_result"
    }
   ],
   "source": [
    "# 10 тем\n",
    "lda10.show_topics(5)"
   ]
  },
  {
   "cell_type": "markdown",
   "metadata": {},
   "source": [
    "1. Заявка на кредитный догово\n",
    "2. Открытие вклада\n",
    "3. Претензия клиента банку сбербанка\n",
    "4. Вопрос в поддержку банка\n",
    "5. Звонок клиента в банк"
   ]
  },
  {
   "cell_type": "markdown",
   "metadata": {},
   "source": [
    "## Часть 3. Классификация текстов [40/100]\n",
    "\n",
    "Сформулируем для простоты задачу бинарной классификации: будем классифицировать на два класса, то есть, различать резко отрицательные отзывы (с оценкой 1) и положительные отзывы (с оценкой 5). \n",
    "\n",
    "1.  Составьте обучающее и тестовое множество: выберите из всего набора данных N1 отзывов с оценкой 1 и N2 отзывов с оценкой 5 (значение N1 и N2 – на ваше усмотрение). Используйте ```sklearn.model_selection.train_test_split``` для разделения множества отобранных документов на обучающее и тестовое. \n",
    "2. Используйте любой известный вам алгоритм классификации текстов для решения задачи и получите baseline. Сравните разные варианты векторизации текста: использование только униграм, пар или троек слов или с использованием символьных $n$-грам. \n",
    "3. Сравните, как изменяется качество решения задачи при использовании скрытых тем в качестве признаков:\n",
    "    * 1-ый вариант: $tf-idf$ преобразование (```sklearn.feature_extraction.text.TfidfTransformer```) и сингулярное разложение (оно же – латентый семантический анализ) (```sklearn.decomposition.TruncatedSVD```), \n",
    "    * 2-ой вариант: тематические модели LDA (```sklearn.decomposition.LatentDirichletAllocation```). \n",
    "\n",
    "\n",
    "Используйте accuracy и F-measure для оценки качества классификации. \n",
    "\n",
    "Ниже написан примерный Pipeline для классификации текстов. \n",
    "\n",
    "Эта часть задания может быть сделана с использованием sklearn. "
   ]
  },
  {
   "cell_type": "markdown",
   "metadata": {},
   "source": [
    "#### Составьте обучающее и тестовое множество: выберите из всего набора данных N1 отзывов с оценкой 1 и N2 отзывов с оценкой 5 (значение N1 и N2 – на ваше усмотрение). Используйте sklearn.model_selection.train_test_split для разделения множества отобранных документов на обучающее и тестовое."
   ]
  },
  {
   "cell_type": "code",
   "execution_count": 2,
   "metadata": {},
   "outputs": [
    {
     "data": {
      "text/html": [
       "<div>\n",
       "<style scoped>\n",
       "    .dataframe tbody tr th:only-of-type {\n",
       "        vertical-align: middle;\n",
       "    }\n",
       "\n",
       "    .dataframe tbody tr th {\n",
       "        vertical-align: top;\n",
       "    }\n",
       "\n",
       "    .dataframe thead th {\n",
       "        text-align: right;\n",
       "    }\n",
       "</style>\n",
       "<table border=\"1\" class=\"dataframe\">\n",
       "  <thead>\n",
       "    <tr style=\"text-align: right;\">\n",
       "      <th></th>\n",
       "      <th>author</th>\n",
       "      <th>bank_license</th>\n",
       "      <th>bank_name</th>\n",
       "      <th>city</th>\n",
       "      <th>datetime</th>\n",
       "      <th>num_comments</th>\n",
       "      <th>rating_grade</th>\n",
       "      <th>rating_not_checked</th>\n",
       "      <th>text</th>\n",
       "      <th>title</th>\n",
       "      <th>clean_city</th>\n",
       "      <th>text_tokinized</th>\n",
       "      <th>text_tokinized_stop_worlds</th>\n",
       "      <th>lemma</th>\n",
       "      <th>nouns</th>\n",
       "    </tr>\n",
       "  </thead>\n",
       "  <tbody>\n",
       "    <tr>\n",
       "      <th>0</th>\n",
       "      <td>andrey_egorov</td>\n",
       "      <td>лицензия № 3292</td>\n",
       "      <td>Райффайзенбанк</td>\n",
       "      <td>г. Санкт-Петербург</td>\n",
       "      <td>2011-09-02 15:42:00</td>\n",
       "      <td>6</td>\n",
       "      <td>1.0</td>\n",
       "      <td>False</td>\n",
       "      <td>Прошу отдел качества максимально внимательно о...</td>\n",
       "      <td>\"Мы заблокировали, но почему - не знаем!\"</td>\n",
       "      <td>Петербург</td>\n",
       "      <td>прошу отдел качества максимально внимательно о...</td>\n",
       "      <td>прошу отдел качества максимально внимательно о...</td>\n",
       "      <td>просить отдел качество максимально внимательно...</td>\n",
       "      <td>отдел качество обращение обращение банк август...</td>\n",
       "    </tr>\n",
       "    <tr>\n",
       "      <th>1</th>\n",
       "      <td>*Galina*</td>\n",
       "      <td>лицензия № 1623</td>\n",
       "      <td>ВТБ 24</td>\n",
       "      <td>г. Новосибирск</td>\n",
       "      <td>2013-03-04 09:21:00</td>\n",
       "      <td>1</td>\n",
       "      <td>1.0</td>\n",
       "      <td>False</td>\n",
       "      <td>Подала заявку на получение потребительского кр...</td>\n",
       "      <td>Отвратительное обслуживание</td>\n",
       "      <td>Новосибирск</td>\n",
       "      <td>подала заявку на получение потребительского кр...</td>\n",
       "      <td>подала заявку получение потребительского креди...</td>\n",
       "      <td>подавать заявка получение потребительский кред...</td>\n",
       "      <td>заявка получение кредит интернет москва анкета...</td>\n",
       "    </tr>\n",
       "    <tr>\n",
       "      <th>2</th>\n",
       "      <td>Не клиентkzn</td>\n",
       "      <td>лицензия № 3279</td>\n",
       "      <td>Национальный Банк «Траст»</td>\n",
       "      <td>г. Казань</td>\n",
       "      <td>2014-05-05 19:21:00</td>\n",
       "      <td>2</td>\n",
       "      <td>1.0</td>\n",
       "      <td>False</td>\n",
       "      <td>Согласна со всеми раннее оставленными отзывами...</td>\n",
       "      <td>Звонки из банка</td>\n",
       "      <td>Казань</td>\n",
       "      <td>согласна со всеми раннее оставленными отзывами...</td>\n",
       "      <td>согласна всеми раннее оставленными отзывами не...</td>\n",
       "      <td>согласный все ранний оставлять отзыв некомпете...</td>\n",
       "      <td>согласный отзыв работа сотрудник центр дирекци...</td>\n",
       "    </tr>\n",
       "  </tbody>\n",
       "</table>\n",
       "</div>"
      ],
      "text/plain": [
       "          author     bank_license                  bank_name  \\\n",
       "0  andrey_egorov  лицензия № 3292             Райффайзенбанк   \n",
       "1       *Galina*  лицензия № 1623                     ВТБ 24   \n",
       "2   Не клиентkzn  лицензия № 3279  Национальный Банк «Траст»   \n",
       "\n",
       "                 city             datetime  num_comments  rating_grade  \\\n",
       "0  г. Санкт-Петербург  2011-09-02 15:42:00             6           1.0   \n",
       "1      г. Новосибирск  2013-03-04 09:21:00             1           1.0   \n",
       "2           г. Казань  2014-05-05 19:21:00             2           1.0   \n",
       "\n",
       "   rating_not_checked                                               text  \\\n",
       "0               False  Прошу отдел качества максимально внимательно о...   \n",
       "1               False  Подала заявку на получение потребительского кр...   \n",
       "2               False  Согласна со всеми раннее оставленными отзывами...   \n",
       "\n",
       "                                       title   clean_city  \\\n",
       "0  \"Мы заблокировали, но почему - не знаем!\"    Петербург   \n",
       "1                Отвратительное обслуживание  Новосибирск   \n",
       "2                            Звонки из банка       Казань   \n",
       "\n",
       "                                      text_tokinized  \\\n",
       "0  прошу отдел качества максимально внимательно о...   \n",
       "1  подала заявку на получение потребительского кр...   \n",
       "2  согласна со всеми раннее оставленными отзывами...   \n",
       "\n",
       "                          text_tokinized_stop_worlds  \\\n",
       "0  прошу отдел качества максимально внимательно о...   \n",
       "1  подала заявку получение потребительского креди...   \n",
       "2  согласна всеми раннее оставленными отзывами не...   \n",
       "\n",
       "                                               lemma  \\\n",
       "0  просить отдел качество максимально внимательно...   \n",
       "1  подавать заявка получение потребительский кред...   \n",
       "2  согласный все ранний оставлять отзыв некомпете...   \n",
       "\n",
       "                                               nouns  \n",
       "0  отдел качество обращение обращение банк август...  \n",
       "1  заявка получение кредит интернет москва анкета...  \n",
       "2  согласный отзыв работа сотрудник центр дирекци...  "
      ]
     },
     "execution_count": 2,
     "metadata": {},
     "output_type": "execute_result"
    }
   ],
   "source": [
    "# df_sample.to_csv('sample.csv', index=False)\n",
    "df_sample1 = pd.read_csv('/Users/aleksandr/Downloads/nlp-netology-master/sample.csv')\n",
    "df_sample1.head(3)"
   ]
  },
  {
   "cell_type": "code",
   "execution_count": 3,
   "metadata": {},
   "outputs": [
    {
     "name": "stdout",
     "output_type": "stream",
     "text": [
      "<class 'pandas.core.frame.DataFrame'>\n",
      "RangeIndex: 20000 entries, 0 to 19999\n",
      "Data columns (total 15 columns):\n",
      "author                        20000 non-null object\n",
      "bank_license                  20000 non-null object\n",
      "bank_name                     20000 non-null object\n",
      "city                          20000 non-null object\n",
      "datetime                      20000 non-null object\n",
      "num_comments                  20000 non-null int64\n",
      "rating_grade                  20000 non-null float64\n",
      "rating_not_checked            20000 non-null bool\n",
      "text                          20000 non-null object\n",
      "title                         19854 non-null object\n",
      "clean_city                    20000 non-null object\n",
      "text_tokinized                20000 non-null object\n",
      "text_tokinized_stop_worlds    20000 non-null object\n",
      "lemma                         20000 non-null object\n",
      "nouns                         20000 non-null object\n",
      "dtypes: bool(1), float64(1), int64(1), object(12)\n",
      "memory usage: 2.2+ MB\n"
     ]
    }
   ],
   "source": [
    "df_sample1.info()"
   ]
  },
  {
   "cell_type": "code",
   "execution_count": 4,
   "metadata": {
    "scrolled": true
   },
   "outputs": [
    {
     "data": {
      "text/plain": [
       "5.0    10000\n",
       "1.0    10000\n",
       "Name: rating_grade, dtype: int64"
      ]
     },
     "execution_count": 4,
     "metadata": {},
     "output_type": "execute_result"
    }
   ],
   "source": [
    "df_sample1.rating_grade.value_counts()"
   ]
  },
  {
   "cell_type": "code",
   "execution_count": 5,
   "metadata": {},
   "outputs": [
    {
     "data": {
      "text/plain": [
       "Index(['author', 'bank_license', 'bank_name', 'city', 'datetime',\n",
       "       'num_comments', 'rating_grade', 'rating_not_checked', 'text', 'title',\n",
       "       'clean_city', 'text_tokinized', 'text_tokinized_stop_worlds', 'lemma',\n",
       "       'nouns'],\n",
       "      dtype='object')"
      ]
     },
     "execution_count": 5,
     "metadata": {},
     "output_type": "execute_result"
    }
   ],
   "source": [
    "df_sample1.columns"
   ]
  },
  {
   "cell_type": "code",
   "execution_count": 99,
   "metadata": {},
   "outputs": [],
   "source": [
    "X = df_sample1['lemma'].values\n",
    "y = df_sample1.rating_grade.values"
   ]
  },
  {
   "cell_type": "code",
   "execution_count": 100,
   "metadata": {},
   "outputs": [
    {
     "data": {
      "text/plain": [
       "((20000,), (20000,))"
      ]
     },
     "execution_count": 100,
     "metadata": {},
     "output_type": "execute_result"
    }
   ],
   "source": [
    "X.shape, y.shape"
   ]
  },
  {
   "cell_type": "code",
   "execution_count": 6,
   "metadata": {},
   "outputs": [],
   "source": [
    "from sklearn.model_selection import train_test_split, GridSearchCV\n",
    "from sklearn.pipeline import Pipeline, FeatureUnion\n",
    "from sklearn.base import BaseEstimator, TransformerMixin\n",
    "from sklearn.feature_extraction.text import CountVectorizer, TfidfTransformer\n",
    "from sklearn.feature_extraction import DictVectorizer\n",
    "from sklearn.preprocessing import StandardScaler, OneHotEncoder\n",
    "from sklearn.decomposition import TruncatedSVD, LatentDirichletAllocation\n",
    "from sklearn.ensemble import RandomForestClassifier\n",
    "from sklearn.metrics import precision_score, recall_score, f1_score, accuracy_score, classification_report, confusion_matrix"
   ]
  },
  {
   "cell_type": "code",
   "execution_count": 101,
   "metadata": {},
   "outputs": [],
   "source": [
    "X_train, X_test, y_train, y_test = train_test_split(X, y, test_size=0.3)"
   ]
  },
  {
   "cell_type": "code",
   "execution_count": 102,
   "metadata": {},
   "outputs": [
    {
     "data": {
      "text/plain": [
       "((14000,), (6000,), (14000,), (6000,))"
      ]
     },
     "execution_count": 102,
     "metadata": {},
     "output_type": "execute_result"
    }
   ],
   "source": [
    "X_train.shape, X_test.shape, y_train.shape, y_test.shape"
   ]
  },
  {
   "cell_type": "code",
   "execution_count": 78,
   "metadata": {},
   "outputs": [],
   "source": [
    "from sklearn.naive_bayes import MultinomialNB\n",
    "from sklearn.feature_extraction.text import CountVectorizer\n",
    "from sklearn.linear_model import LogisticRegression\n",
    "from sklearn import svm\n",
    "from sklearn.pipeline import Pipeline\n",
    "from sklearn.ensemble import RandomForestClassifier"
   ]
  },
  {
   "cell_type": "markdown",
   "metadata": {},
   "source": [
    "#### Используйте любой известный вам алгоритм классификации текстов для решения задачи и получите baseline. Сравните разные варианты векторизации текста: использование только униграм, пар или троек слов или с использованием символьных  𝑛 -грам. (Ниже написан примерный Pipeline для классификации текстов)."
   ]
  },
  {
   "cell_type": "code",
   "execution_count": 1,
   "metadata": {},
   "outputs": [],
   "source": [
    "# from sklearn.pipeline import Pipeline\n",
    "# from sklearn.ensemble import RandomForestClassifier\n",
    "\n",
    "# !!! На каждом этапе Pipeline нужно указать свои параметры\n",
    "# 1-ый вариант: tf-idf + LSI\n",
    "# 2-ой вариант: LDA\n",
    "\n",
    "# clf = Pipeline([\n",
    "#     ('vect', CountVectorizer(analyzer = 'char', ngram_range={4,6})),\n",
    "#     ('clf', RandomForestClassifier()),\n",
    "# ])\n",
    "\n",
    "# clf = Pipeline([ \n",
    "#     ('vect', CountVectorizer()), \n",
    "#     ('tfidf', TfidfTransformer()), \n",
    "#     ('tm', TruncatedSVD()), \n",
    "#     ('clf', RandomForestClassifier())\n",
    "# ])"
   ]
  },
  {
   "cell_type": "code",
   "execution_count": 103,
   "metadata": {},
   "outputs": [],
   "source": [
    "clf_countvectorized = Pipeline(\n",
    "    [('vect', CountVectorizer()),\n",
    "     ('clf', LogisticRegression())]\n",
    ")\n",
    "\n",
    "params_cntv = {\n",
    "    'vect__analyzer': ['word','char'],\n",
    "    'vect__max_df': (0.5, 0.75, 1.0),\n",
    "    'vect__ngram_range': ((1, 1), (2, 2), (3, 3)),\n",
    "    'clf__C': np.logspace(-3,3,7),\n",
    "    'clf__penalty': ['l1','l2']  \n",
    "}\n",
    "\n",
    "scores=['accuracy', 'f1']"
   ]
  },
  {
   "cell_type": "code",
   "execution_count": 106,
   "metadata": {},
   "outputs": [],
   "source": [
    "grid_cntv = GridSearchCV(\n",
    "    clf_countvectorized, \n",
    "    param_grid=params_cntv, \n",
    "    cv=3,\n",
    "    scoring=scores,\n",
    "    refit=scores[0],\n",
    "    n_jobs=-1, \n",
    "    verbose=1\n",
    ")"
   ]
  },
  {
   "cell_type": "code",
   "execution_count": 107,
   "metadata": {},
   "outputs": [
    {
     "name": "stdout",
     "output_type": "stream",
     "text": [
      "Fitting 3 folds for each of 252 candidates, totalling 756 fits\n"
     ]
    },
    {
     "name": "stderr",
     "output_type": "stream",
     "text": [
      "[Parallel(n_jobs=-1)]: Using backend LokyBackend with 4 concurrent workers.\n",
      "[Parallel(n_jobs=-1)]: Done  42 tasks      | elapsed:  3.3min\n",
      "[Parallel(n_jobs=-1)]: Done 192 tasks      | elapsed: 13.9min\n",
      "[Parallel(n_jobs=-1)]: Done 442 tasks      | elapsed: 34.1min\n",
      "[Parallel(n_jobs=-1)]: Done 756 out of 756 | elapsed: 66.3min finished\n"
     ]
    },
    {
     "data": {
      "text/plain": [
       "GridSearchCV(cv=3, error_score='raise-deprecating',\n",
       "             estimator=Pipeline(memory=None,\n",
       "                                steps=[('vect',\n",
       "                                        CountVectorizer(analyzer='word',\n",
       "                                                        binary=False,\n",
       "                                                        decode_error='strict',\n",
       "                                                        dtype=<class 'numpy.int64'>,\n",
       "                                                        encoding='utf-8',\n",
       "                                                        input='content',\n",
       "                                                        lowercase=True,\n",
       "                                                        max_df=1.0,\n",
       "                                                        max_features=None,\n",
       "                                                        min_df=1,\n",
       "                                                        ngram_range=(1, 1),\n",
       "                                                        preprocessor=None,\n",
       "                                                        stop_words=None,\n",
       "                                                        strip_accents=None,\n",
       "                                                        tok...\n",
       "                                                           warm_start=False))],\n",
       "                                verbose=False),\n",
       "             iid='warn', n_jobs=-1,\n",
       "             param_grid={'clf__C': array([1.e-03, 1.e-02, 1.e-01, 1.e+00, 1.e+01, 1.e+02, 1.e+03]),\n",
       "                         'clf__penalty': ['l1', 'l2'],\n",
       "                         'vect__analyzer': ['word', 'char'],\n",
       "                         'vect__max_df': (0.5, 0.75, 1.0),\n",
       "                         'vect__ngram_range': ((1, 1), (2, 2), (3, 3))},\n",
       "             pre_dispatch='2*n_jobs', refit='accuracy',\n",
       "             return_train_score=False, scoring=['accuracy', 'f1'], verbose=1)"
      ]
     },
     "execution_count": 107,
     "metadata": {},
     "output_type": "execute_result"
    }
   ],
   "source": [
    "grid_cntv.fit(X_train, y_train)"
   ]
  },
  {
   "cell_type": "code",
   "execution_count": 115,
   "metadata": {},
   "outputs": [
    {
     "name": "stdout",
     "output_type": "stream",
     "text": [
      "Best score: 0.950\n"
     ]
    }
   ],
   "source": [
    "# print(grid_cntv.best_estimator_)\n",
    "print(\"Best score: %0.3f\" % grid_cntv.best_score_)"
   ]
  },
  {
   "cell_type": "code",
   "execution_count": 110,
   "metadata": {},
   "outputs": [],
   "source": [
    "predictions=grid_cntv.best_estimator_.predict(X_test)"
   ]
  },
  {
   "cell_type": "code",
   "execution_count": 160,
   "metadata": {},
   "outputs": [
    {
     "name": "stdout",
     "output_type": "stream",
     "text": [
      "Precision:   0.95\n",
      "Recall:      0.95\n",
      "F1_score:    0.95\n",
      "Accuracy:    0.95\n"
     ]
    }
   ],
   "source": [
    "print(\"Precision: {0:6.2f}\".format(precision_score(y_test, predictions, average='macro')))\n",
    "print(\"Recall:    {0:6.2f}\".format(recall_score(y_test, predictions, average='macro')))\n",
    "print(\"F1_score:  {0:6.2f}\".format(f1_score(y_test, predictions, average='macro')))\n",
    "print(\"Accuracy:  {0:6.2f}\".format(accuracy_score(y_test, predictions)))"
   ]
  },
  {
   "cell_type": "code",
   "execution_count": 112,
   "metadata": {},
   "outputs": [
    {
     "name": "stdout",
     "output_type": "stream",
     "text": [
      "              precision    recall  f1-score   support\n",
      "\n",
      "         1.0       0.94      0.95      0.95      2946\n",
      "         5.0       0.96      0.94      0.95      3054\n",
      "\n",
      "    accuracy                           0.95      6000\n",
      "   macro avg       0.95      0.95      0.95      6000\n",
      "weighted avg       0.95      0.95      0.95      6000\n",
      "\n"
     ]
    }
   ],
   "source": [
    "print(classification_report(y_test, predictions))"
   ]
  },
  {
   "cell_type": "code",
   "execution_count": 113,
   "metadata": {},
   "outputs": [
    {
     "data": {
      "image/png": "[encoded data removed]",
      "text/plain": [
       "<Figure size 432x288 with 1 Axes>"
      ]
     },
     "metadata": {
      "image/png": {
       "height": 265,
       "width": 365
      },
      "needs_background": "light"
     },
     "output_type": "display_data"
    }
   ],
   "source": [
    "labels = grid_cntv.best_estimator_.classes_\n",
    "\n",
    "sns.heatmap(\n",
    "    data=confusion_matrix(y_test, predictions), \n",
    "    annot=True, \n",
    "    fmt=\"d\", \n",
    "    cbar=False, \n",
    "    xticklabels=labels, \n",
    "    yticklabels=labels\n",
    ")\n",
    "\n",
    "plt.title(\"Confusion matrix\")\n",
    "plt.show()"
   ]
  },
  {
   "cell_type": "markdown",
   "metadata": {},
   "source": [
    "#### Сравните, как изменяется качество решения задачи при использовании скрытых тем в качестве признаков:\n",
    "- 1-ый вариант:  𝑡𝑓−𝑖𝑑𝑓  преобразование (sklearn.feature_extraction.text.TfidfTransformer) и сингулярное разложение (оно же – латентый семантический анализ) (sklearn.decomposition.TruncatedSVD),\n",
    "- 2-ой вариант: тематические модели LDA (sklearn.decomposition.LatentDirichletAllocation).\n",
    "\n",
    "Используйте accuracy и F-measure для оценки качества классификации. (Эта часть задания может быть сделана с использованием sklearn)."
   ]
  },
  {
   "cell_type": "markdown",
   "metadata": {},
   "source": [
    "#### 1-ый вариант"
   ]
  },
  {
   "cell_type": "markdown",
   "metadata": {},
   "source": [
    "𝑡𝑓−𝑖𝑑𝑓"
   ]
  },
  {
   "cell_type": "code",
   "execution_count": 117,
   "metadata": {},
   "outputs": [],
   "source": [
    "clf_tf_idf = Pipeline(\n",
    "    [('vect', CountVectorizer()),\n",
    "     ('tfidf', TfidfTransformer()),\n",
    "     ('clf', LogisticRegression())]\n",
    ")\n",
    "\n",
    "params_tf_idf={\n",
    "    'vect__analyzer': ['word'],\n",
    "    'vect__max_df': (0.5, 0.75, 1.0),\n",
    "    'vect__ngram_range': [(1, 1), (2, 2), (3, 3)],\n",
    "    'tfidf__use_idf': (True, False),\n",
    "    'clf__C': np.logspace(-3, 3, 7),\n",
    "    'clf__penalty': ['l1', 'l2']\n",
    "}\n",
    "\n",
    "scores=['accuracy','f1']"
   ]
  },
  {
   "cell_type": "code",
   "execution_count": 118,
   "metadata": {},
   "outputs": [],
   "source": [
    "grid_tf_idf = GridSearchCV(\n",
    "    clf_tf_idf, \n",
    "    param_grid=params_tf_idf, \n",
    "    cv=3,\n",
    "    scoring=scores,\n",
    "    refit=scores[0],\n",
    "    n_jobs=-1, \n",
    "    verbose=1\n",
    ")"
   ]
  },
  {
   "cell_type": "code",
   "execution_count": 119,
   "metadata": {},
   "outputs": [
    {
     "name": "stdout",
     "output_type": "stream",
     "text": [
      "Fitting 3 folds for each of 252 candidates, totalling 756 fits\n"
     ]
    },
    {
     "name": "stderr",
     "output_type": "stream",
     "text": [
      "[Parallel(n_jobs=-1)]: Using backend LokyBackend with 4 concurrent workers.\n",
      "[Parallel(n_jobs=-1)]: Done  42 tasks      | elapsed:  2.4min\n",
      "[Parallel(n_jobs=-1)]: Done 192 tasks      | elapsed:  9.7min\n",
      "[Parallel(n_jobs=-1)]: Done 442 tasks      | elapsed: 22.3min\n",
      "[Parallel(n_jobs=-1)]: Done 756 out of 756 | elapsed: 42.6min finished\n"
     ]
    },
    {
     "data": {
      "text/plain": [
       "GridSearchCV(cv=3, error_score='raise-deprecating',\n",
       "             estimator=Pipeline(memory=None,\n",
       "                                steps=[('vect',\n",
       "                                        CountVectorizer(analyzer='word',\n",
       "                                                        binary=False,\n",
       "                                                        decode_error='strict',\n",
       "                                                        dtype=<class 'numpy.int64'>,\n",
       "                                                        encoding='utf-8',\n",
       "                                                        input='content',\n",
       "                                                        lowercase=True,\n",
       "                                                        max_df=1.0,\n",
       "                                                        max_features=None,\n",
       "                                                        min_df=1,\n",
       "                                                        ngram_range=(1, 1),\n",
       "                                                        preprocessor=None,\n",
       "                                                        stop_words=None,\n",
       "                                                        strip_accents=None,\n",
       "                                                        tok...\n",
       "             iid='warn', n_jobs=-1,\n",
       "             param_grid={'clf__C': array([1.e-03, 1.e-02, 1.e-01, 1.e+00, 1.e+01, 1.e+02, 1.e+03]),\n",
       "                         'clf__penalty': ['l1', 'l2'],\n",
       "                         'tfidf__use_idf': (True, False),\n",
       "                         'vect__analyzer': ['word'],\n",
       "                         'vect__max_df': (0.5, 0.75, 1.0),\n",
       "                         'vect__ngram_range': [(1, 1), (2, 2), (3, 3)]},\n",
       "             pre_dispatch='2*n_jobs', refit='accuracy',\n",
       "             return_train_score=False, scoring=['accuracy', 'f1'], verbose=1)"
      ]
     },
     "execution_count": 119,
     "metadata": {},
     "output_type": "execute_result"
    }
   ],
   "source": [
    "grid_tf_idf.fit(X_train, y_train)"
   ]
  },
  {
   "cell_type": "code",
   "execution_count": 156,
   "metadata": {},
   "outputs": [
    {
     "name": "stdout",
     "output_type": "stream",
     "text": [
      "Best score: 0.953\n"
     ]
    }
   ],
   "source": [
    "# print(grid_tf_idf.best_estimator_)\n",
    "print(\"Best score: %0.3f\" % grid_tf_idf.best_score_)"
   ]
  },
  {
   "cell_type": "code",
   "execution_count": 158,
   "metadata": {},
   "outputs": [],
   "source": [
    "predictions=grid_tf_idf.best_estimator_.predict(X_test)"
   ]
  },
  {
   "cell_type": "code",
   "execution_count": 159,
   "metadata": {},
   "outputs": [
    {
     "name": "stdout",
     "output_type": "stream",
     "text": [
      "Precision:   0.95\n",
      "Recall:      0.95\n",
      "F1_score:    0.95\n",
      "Accuracy:    0.95\n"
     ]
    }
   ],
   "source": [
    "print(\"Precision: {0:6.2f}\".format(precision_score(y_test, predictions, average='macro')))\n",
    "print(\"Recall:    {0:6.2f}\".format(recall_score(y_test, predictions, average='macro')))\n",
    "print(\"F1_score:  {0:6.2f}\".format(f1_score(y_test, predictions, average='macro')))\n",
    "print(\"Accuracy:  {0:6.2f}\".format(accuracy_score(y_test, predictions)))"
   ]
  },
  {
   "cell_type": "code",
   "execution_count": 123,
   "metadata": {},
   "outputs": [
    {
     "name": "stdout",
     "output_type": "stream",
     "text": [
      "              precision    recall  f1-score   support\n",
      "\n",
      "         1.0       0.94      0.97      0.95      2946\n",
      "         5.0       0.97      0.94      0.95      3054\n",
      "\n",
      "    accuracy                           0.95      6000\n",
      "   macro avg       0.95      0.95      0.95      6000\n",
      "weighted avg       0.95      0.95      0.95      6000\n",
      "\n"
     ]
    }
   ],
   "source": [
    "print(classification_report(y_test, predictions))"
   ]
  },
  {
   "cell_type": "code",
   "execution_count": 124,
   "metadata": {},
   "outputs": [
    {
     "data": {
      "image/png": "[encoded data removed]",
      "text/plain": [
       "<Figure size 432x288 with 1 Axes>"
      ]
     },
     "metadata": {
      "image/png": {
       "height": 265,
       "width": 365
      },
      "needs_background": "light"
     },
     "output_type": "display_data"
    }
   ],
   "source": [
    "labels = grid_tf_idf.best_estimator_.classes_\n",
    "\n",
    "sns.heatmap(\n",
    "    data=confusion_matrix(y_test, predictions), \n",
    "    annot=True, \n",
    "    fmt=\"d\", \n",
    "    cbar=False, \n",
    "    xticklabels=labels, \n",
    "    yticklabels=labels\n",
    ")\n",
    "\n",
    "plt.title(\"Confusion matrix\")\n",
    "plt.show()"
   ]
  },
  {
   "cell_type": "markdown",
   "metadata": {},
   "source": [
    "Cингулярное разложение"
   ]
  },
  {
   "cell_type": "code",
   "execution_count": 125,
   "metadata": {},
   "outputs": [],
   "source": [
    "clf_tf_idf_TruncatedSVD = Pipeline(\n",
    "    [('vect', CountVectorizer()),\n",
    "     ('tfidf', TfidfTransformer()),\n",
    "     ('tsvd', TruncatedSVD()),\n",
    "     ('clf', LogisticRegression())]\n",
    ")\n",
    "\n",
    "params_tf_idf_TruncatedSVD={\n",
    "    'vect__analyzer': ['word'],\n",
    "    'vect__ngram_range': [(1, 1), (2, 2), (3, 3)],\n",
    "    'tsvd__n_components': [5, 10, 25, 50, 100],\n",
    "    'clf__C': np.logspace(-3, 3, 7),\n",
    "    'clf__penalty': ['l1', 'l2']\n",
    "}\n",
    "\n",
    "scores=['accuracy','f1']"
   ]
  },
  {
   "cell_type": "code",
   "execution_count": 126,
   "metadata": {},
   "outputs": [],
   "source": [
    "grid_tf_idf_TruncatedSVD = GridSearchCV(\n",
    "    clf_tf_idf_TruncatedSVD, \n",
    "    param_grid=params_tf_idf_TruncatedSVD, \n",
    "    cv=3,\n",
    "    scoring=scores,\n",
    "    refit=scores[0],\n",
    "    n_jobs=-1, \n",
    "    verbose=1\n",
    ")"
   ]
  },
  {
   "cell_type": "code",
   "execution_count": 127,
   "metadata": {},
   "outputs": [
    {
     "name": "stdout",
     "output_type": "stream",
     "text": [
      "Fitting 3 folds for each of 210 candidates, totalling 630 fits\n"
     ]
    },
    {
     "name": "stderr",
     "output_type": "stream",
     "text": [
      "[Parallel(n_jobs=-1)]: Using backend LokyBackend with 4 concurrent workers.\n",
      "[Parallel(n_jobs=-1)]: Done  42 tasks      | elapsed:  8.3min\n",
      "[Parallel(n_jobs=-1)]: Done 192 tasks      | elapsed: 85.1min\n",
      "[Parallel(n_jobs=-1)]: Done 442 tasks      | elapsed: 139.3min\n",
      "[Parallel(n_jobs=-1)]: Done 630 out of 630 | elapsed: 183.7min finished\n"
     ]
    },
    {
     "data": {
      "text/plain": [
       "GridSearchCV(cv=3, error_score='raise-deprecating',\n",
       "             estimator=Pipeline(memory=None,\n",
       "                                steps=[('vect',\n",
       "                                        CountVectorizer(analyzer='word',\n",
       "                                                        binary=False,\n",
       "                                                        decode_error='strict',\n",
       "                                                        dtype=<class 'numpy.int64'>,\n",
       "                                                        encoding='utf-8',\n",
       "                                                        input='content',\n",
       "                                                        lowercase=True,\n",
       "                                                        max_df=1.0,\n",
       "                                                        max_features=None,\n",
       "                                                        min_df=1,\n",
       "                                                        ngram_range=(1, 1),\n",
       "                                                        preprocessor=None,\n",
       "                                                        stop_words=None,\n",
       "                                                        strip_accents=None,\n",
       "                                                        tok...\n",
       "                                                           warm_start=False))],\n",
       "                                verbose=False),\n",
       "             iid='warn', n_jobs=-1,\n",
       "             param_grid={'clf__C': array([1.e-03, 1.e-02, 1.e-01, 1.e+00, 1.e+01, 1.e+02, 1.e+03]),\n",
       "                         'clf__penalty': ['l1', 'l2'],\n",
       "                         'tsvd__n_components': [5, 10, 25, 50, 100],\n",
       "                         'vect__analyzer': ['word'],\n",
       "                         'vect__ngram_range': [(1, 1), (2, 2), (3, 3)]},\n",
       "             pre_dispatch='2*n_jobs', refit='accuracy',\n",
       "             return_train_score=False, scoring=['accuracy', 'f1'], verbose=1)"
      ]
     },
     "execution_count": 127,
     "metadata": {},
     "output_type": "execute_result"
    }
   ],
   "source": [
    "grid_tf_idf_TruncatedSVD.fit(X_train, y_train)"
   ]
  },
  {
   "cell_type": "code",
   "execution_count": 161,
   "metadata": {},
   "outputs": [
    {
     "name": "stdout",
     "output_type": "stream",
     "text": [
      "Best score: 0.942\n"
     ]
    }
   ],
   "source": [
    "# print(grid_tf_idf_TruncatedSVD.best_estimator_)\n",
    "print(\"Best score: %0.3f\" % grid_tf_idf_TruncatedSVD.best_score_)"
   ]
  },
  {
   "cell_type": "code",
   "execution_count": 162,
   "metadata": {},
   "outputs": [],
   "source": [
    "predictions=grid_tf_idf_TruncatedSVD.best_estimator_.predict(X_test)"
   ]
  },
  {
   "cell_type": "code",
   "execution_count": 163,
   "metadata": {},
   "outputs": [
    {
     "name": "stdout",
     "output_type": "stream",
     "text": [
      "Precision:   0.94\n",
      "Recall:      0.94\n",
      "F1_score:    0.94\n",
      "Accuracy:    0.94\n"
     ]
    }
   ],
   "source": [
    "print(\"Precision: {0:6.2f}\".format(precision_score(y_test, predictions, average='macro')))\n",
    "print(\"Recall:    {0:6.2f}\".format(recall_score(y_test, predictions, average='macro')))\n",
    "print(\"F1_score:  {0:6.2f}\".format(f1_score(y_test, predictions, average='macro')))\n",
    "print(\"Accuracy:  {0:6.2f}\".format(accuracy_score(y_test, predictions)))"
   ]
  },
  {
   "cell_type": "code",
   "execution_count": 131,
   "metadata": {},
   "outputs": [
    {
     "name": "stdout",
     "output_type": "stream",
     "text": [
      "              precision    recall  f1-score   support\n",
      "\n",
      "         1.0       0.93      0.95      0.94      2946\n",
      "         5.0       0.95      0.93      0.94      3054\n",
      "\n",
      "    accuracy                           0.94      6000\n",
      "   macro avg       0.94      0.94      0.94      6000\n",
      "weighted avg       0.94      0.94      0.94      6000\n",
      "\n"
     ]
    }
   ],
   "source": [
    "print(classification_report(y_test, predictions))"
   ]
  },
  {
   "cell_type": "code",
   "execution_count": 132,
   "metadata": {},
   "outputs": [
    {
     "data": {
      "image/png": "[encoded data removed]",
      "text/plain": [
       "<Figure size 432x288 with 1 Axes>"
      ]
     },
     "metadata": {
      "image/png": {
       "height": 265,
       "width": 365
      },
      "needs_background": "light"
     },
     "output_type": "display_data"
    }
   ],
   "source": [
    "labels = grid_tf_idf_TruncatedSVD.best_estimator_.classes_\n",
    "\n",
    "sns.heatmap(\n",
    "    data=confusion_matrix(y_test, predictions), \n",
    "    annot=True, \n",
    "    fmt=\"d\", \n",
    "    cbar=False, \n",
    "    xticklabels=labels, \n",
    "    yticklabels=labels\n",
    ")\n",
    "\n",
    "plt.title(\"Confusion matrix\")\n",
    "plt.show()"
   ]
  },
  {
   "cell_type": "markdown",
   "metadata": {},
   "source": [
    "#### 2-ой вариант"
   ]
  },
  {
   "cell_type": "markdown",
   "metadata": {},
   "source": [
    "LDA"
   ]
  },
  {
   "cell_type": "code",
   "execution_count": 136,
   "metadata": {},
   "outputs": [],
   "source": [
    "clf_tf_idf_LDA = Pipeline(\n",
    "    [('vect', CountVectorizer()),\n",
    "     ('lda', LatentDirichletAllocation()),\n",
    "     ('clf', LogisticRegression())]\n",
    ")\n",
    "\n",
    "params_tf_idf_LDA={\n",
    "    'vect__analyzer': ['word'],\n",
    "    'vect__max_df': [0.75],\n",
    "    'vect__ngram_range': [(1, 1)],\n",
    "    'lda__n_components' : [25, 50, 100],\n",
    "    'clf__C': np.logspace(-3, 3, 7),\n",
    "    'clf__penalty': ['l1']\n",
    "}\n",
    "\n",
    "scores=['accuracy', 'f1']"
   ]
  },
  {
   "cell_type": "code",
   "execution_count": 138,
   "metadata": {},
   "outputs": [],
   "source": [
    "grid_tf_idf_LDA = GridSearchCV(\n",
    "    clf_tf_idf_LDA, \n",
    "    param_grid=params_tf_idf_LDA, \n",
    "    cv=3,\n",
    "    scoring=scores,\n",
    "    refit=scores[0],\n",
    "    n_jobs=-1, \n",
    "    verbose=1\n",
    ")"
   ]
  },
  {
   "cell_type": "code",
   "execution_count": 139,
   "metadata": {},
   "outputs": [
    {
     "name": "stdout",
     "output_type": "stream",
     "text": [
      "Fitting 3 folds for each of 21 candidates, totalling 63 fits\n"
     ]
    },
    {
     "name": "stderr",
     "output_type": "stream",
     "text": [
      "[Parallel(n_jobs=-1)]: Using backend LokyBackend with 4 concurrent workers.\n",
      "[Parallel(n_jobs=-1)]: Done  42 tasks      | elapsed: 38.1min\n",
      "[Parallel(n_jobs=-1)]: Done  63 out of  63 | elapsed: 55.4min finished\n"
     ]
    },
    {
     "data": {
      "text/plain": [
       "GridSearchCV(cv=3, error_score='raise-deprecating',\n",
       "             estimator=Pipeline(memory=None,\n",
       "                                steps=[('vect',\n",
       "                                        CountVectorizer(analyzer='word',\n",
       "                                                        binary=False,\n",
       "                                                        decode_error='strict',\n",
       "                                                        dtype=<class 'numpy.int64'>,\n",
       "                                                        encoding='utf-8',\n",
       "                                                        input='content',\n",
       "                                                        lowercase=True,\n",
       "                                                        max_df=1.0,\n",
       "                                                        max_features=None,\n",
       "                                                        min_df=1,\n",
       "                                                        ngram_range=(1, 1),\n",
       "                                                        preprocessor=None,\n",
       "                                                        stop_words=None,\n",
       "                                                        strip_accents=None,\n",
       "                                                        tok...\n",
       "                                                           warm_start=False))],\n",
       "                                verbose=False),\n",
       "             iid='warn', n_jobs=-1,\n",
       "             param_grid={'clf__C': array([1.e-03, 1.e-02, 1.e-01, 1.e+00, 1.e+01, 1.e+02, 1.e+03]),\n",
       "                         'clf__penalty': ['l1'],\n",
       "                         'lda__n_components': [25, 50, 100],\n",
       "                         'vect__analyzer': ['word'], 'vect__max_df': [0.75],\n",
       "                         'vect__ngram_range': [(1, 1)]},\n",
       "             pre_dispatch='2*n_jobs', refit='accuracy',\n",
       "             return_train_score=False, scoring=['accuracy', 'f1'], verbose=1)"
      ]
     },
     "execution_count": 139,
     "metadata": {},
     "output_type": "execute_result"
    }
   ],
   "source": [
    "grid_tf_idf_LDA.fit(X_train, y_train)"
   ]
  },
  {
   "cell_type": "code",
   "execution_count": 140,
   "metadata": {},
   "outputs": [
    {
     "name": "stdout",
     "output_type": "stream",
     "text": [
      "Best score: 0.912\n"
     ]
    }
   ],
   "source": [
    "# print(grid_tf_idf_LDA.best_estimator_)\n",
    "print(\"Best score: %0.3f\" % grid_tf_idf_LDA.best_score_)"
   ]
  },
  {
   "cell_type": "code",
   "execution_count": 164,
   "metadata": {},
   "outputs": [],
   "source": [
    "predictions=grid_tf_idf_LDA.best_estimator_.predict(X_test)"
   ]
  },
  {
   "cell_type": "code",
   "execution_count": 165,
   "metadata": {},
   "outputs": [
    {
     "name": "stdout",
     "output_type": "stream",
     "text": [
      "Precision:   0.92\n",
      "Recall:      0.92\n",
      "F1_score:    0.92\n",
      "Accuracy:    0.92\n"
     ]
    }
   ],
   "source": [
    "print(\"Precision: {0:6.2f}\".format(precision_score(y_test, predictions, average='macro')))\n",
    "print(\"Recall:    {0:6.2f}\".format(recall_score(y_test, predictions, average='macro')))\n",
    "print(\"F1_score:  {0:6.2f}\".format(f1_score(y_test, predictions, average='macro')))\n",
    "print(\"Accuracy:  {0:6.2f}\".format(accuracy_score(y_test, predictions)))"
   ]
  },
  {
   "cell_type": "code",
   "execution_count": 143,
   "metadata": {},
   "outputs": [
    {
     "name": "stdout",
     "output_type": "stream",
     "text": [
      "              precision    recall  f1-score   support\n",
      "\n",
      "         1.0       0.90      0.93      0.91      2946\n",
      "         5.0       0.93      0.90      0.92      3054\n",
      "\n",
      "    accuracy                           0.92      6000\n",
      "   macro avg       0.92      0.92      0.92      6000\n",
      "weighted avg       0.92      0.92      0.92      6000\n",
      "\n"
     ]
    }
   ],
   "source": [
    "print(classification_report(y_test, predictions))"
   ]
  },
  {
   "cell_type": "code",
   "execution_count": 144,
   "metadata": {},
   "outputs": [
    {
     "data": {
      "image/png": "[encoded data removed]",
      "text/plain": [
       "<Figure size 432x288 with 1 Axes>"
      ]
     },
     "metadata": {
      "image/png": {
       "height": 265,
       "width": 365
      },
      "needs_background": "light"
     },
     "output_type": "display_data"
    }
   ],
   "source": [
    "labels = grid_tf_idf_LDA.best_estimator_.classes_\n",
    "\n",
    "sns.heatmap(\n",
    "    data=confusion_matrix(y_test, predictions), \n",
    "    annot=True, \n",
    "    fmt=\"d\", \n",
    "    cbar=False,\n",
    "    xticklabels=labels,\n",
    "    yticklabels=labels\n",
    ")\n",
    "\n",
    "plt.title(\"Confusion matrix\")\n",
    "plt.show()"
   ]
  },
  {
   "cell_type": "markdown",
   "metadata": {},
   "source": [
    "### Итого:"
   ]
  },
  {
   "cell_type": "code",
   "execution_count": 151,
   "metadata": {},
   "outputs": [
    {
     "name": "stdout",
     "output_type": "stream",
     "text": [
      "cntv\n",
      "f1_score:  0.948\n",
      "Accuracy:  0.948\n",
      "\n",
      "\n",
      "tf_idf\n",
      "f1_score:  0.952\n",
      "Accuracy:  0.952\n",
      "\n",
      "\n",
      "tf_idf_TruncatedSVD\n",
      "f1_score:  0.940\n",
      "Accuracy:  0.940\n",
      "\n",
      "\n",
      "tf_idf_LDA\n",
      "f1_score:  0.915\n",
      "Accuracy:  0.915\n",
      "\n",
      "\n"
     ]
    }
   ],
   "source": [
    "models=['grid_cntv', 'grid_tf_idf', 'grid_tf_idf_TruncatedSVD', 'grid_tf_idf_LDA']\n",
    "\n",
    "for model in models:\n",
    "    print(model[5:])\n",
    "    predictions=eval(model).best_estimator_.predict(X_test)\n",
    "    print(\"f1_score: {0:6.3f}\\nAccuracy: {0:6.3f}\\n\\n\".format(\n",
    "        f1_score(y_test, predictions, average='macro'), \n",
    "        accuracy_score(y_test, predictions)))"
   ]
  },
  {
   "cell_type": "markdown",
   "metadata": {},
   "source": [
    "**𝑡𝑓−𝑖𝑑𝑓 наиболее удачная модель**"
   ]
  },
  {
   "cell_type": "code",
   "execution_count": null,
   "metadata": {},
   "outputs": [],
   "source": [
    "pass"
   ]
  }
 ],
 "metadata": {
  "kernelspec": {
   "display_name": "Python 3",
   "language": "python",
   "name": "python3"
  },
  "language_info": {
   "codemirror_mode": {
    "name": "ipython",
    "version": 3
   },
   "file_extension": ".py",
   "mimetype": "text/x-python",
   "name": "python",
   "nbconvert_exporter": "python",
   "pygments_lexer": "ipython3",
   "version": "3.7.3"
  }
 },
 "nbformat": 4,
 "nbformat_minor": 2
}
