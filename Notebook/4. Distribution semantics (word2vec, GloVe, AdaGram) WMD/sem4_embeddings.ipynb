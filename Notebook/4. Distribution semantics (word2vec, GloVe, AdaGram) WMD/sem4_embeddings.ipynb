{
 "cells": [
  {
   "cell_type": "markdown",
   "metadata": {
    "colab_type": "text",
    "id": "ypt7ymI8X-rM"
   },
   "source": [
    "# Embeddings  [![Open In Colab](https://colab.research.google.com/assets/colab-badge.svg)](https://colab.research.google.com/github/PragmaticsLab/NLP-course-FinTech/blob/master/seminars/2/2_embeddings.ipynb)\n",
    "\n",
    "## Word2Vec\n",
    "\n",
    "Векторные модели, которые мы рассматривали до этого (tf-idf, BOW), условно называются *счётными*. Они основываются на том, что так или иначе \"считают\" слова и их соседей, и на основе этого строят вектора для слов. \n",
    "\n",
    "Другой класс моделей, который более повсевмёстно распространён на сегодняшний день, называется *предсказательными* (или *нейронными*) моделями. Идея этих моделей заключается в использовании нейросетевых архитектур, которые \"предсказывают\" (а не считают) соседей слов. Одной из самых известных таких моделей является word2vec. Технология основана на нейронной сети, предсказывающей вероятность встретить слово в заданном контексте. Этот инструмент был разработан группой исследователей Google в 2013 году, руководителем проекта был Томаш Миколов (сейчас работает в Facebook). Вот две самые главные статьи:\n",
    "\n",
    "* [Efficient Estimation of Word Representations in Vector Space](https://arxiv.org/pdf/1301.3781.pdf)\n",
    "* [Distributed Representations of Words and Phrases and their Compositionality](https://arxiv.org/abs/1310.4546)\n",
    "\n",
    "\n",
    "Полученные таким образом вектора называются *распределенными представлениями слов*, или **эмбеддингами**.\n",
    "\n",
    "\n",
    "### Как это обучается?\n",
    "Мы задаём вектор для каждого слова с помощью матрицы $w$ и вектор контекста с помощью матрицы $W$. По сути, word2vec является обобщающим названием для двух архитектур Skip-Gram и Continuous Bag-Of-Words (CBOW).  \n",
    "\n",
    "**CBOW** предсказывает текущее слово, исходя из окружающего его контекста. \n",
    "\n",
    "**Skip-gram**, наоборот, использует текущее слово, чтобы предугадывать окружающие его слова. \n",
    "\n",
    "### Как это работает?\n",
    "Word2vec принимает большой текстовый корпус в качестве входных данных и сопоставляет каждому слову вектор, выдавая координаты слов на выходе. Сначала он создает словарь, «обучаясь» на входных текстовых данных, а затем вычисляет векторное представление слов. Векторное представление основывается на контекстной близости: слова, встречающиеся в тексте рядом с одинаковыми словами (а следовательно, согласно дистрибутивной гипотезе, имеющие схожий смысл), в векторном представлении будут иметь близкие координаты векторов-слов. Для вычисления близости слов используется косинусное расстояние между их векторами.\n",
    "\n",
    "\n",
    "С помощью дистрибутивных векторных моделей можно строить семантические пропорции (они же аналогии) и решать примеры:\n",
    "\n",
    "* *король: мужчина = королева: женщина* \n",
    " $\\Rightarrow$ \n",
    "* *король - мужчина + женщина = королева*"
   ]
  },
  {
   "cell_type": "markdown",
   "metadata": {
    "colab_type": "text",
    "id": "Z3sSyfHaX-rN"
   },
   "source": [
    "![w2v](https://cdn-images-1.medium.com/max/2600/1*sXNXYfAqfLUeiDXPCo130w.png)"
   ]
  },
  {
   "cell_type": "markdown",
   "metadata": {
    "colab_type": "text",
    "id": "0oH_UDyFX-rO"
   },
   "source": [
    "### Проблемы\n",
    "Невозможно установить тип семантических отношений между словами: синонимы, антонимы и т.д. будут одинаково близки, потому что обычно употребляются в схожих контекстах. Поэтому близкие в векторном пространстве слова называют *семантическими ассоциатами*. Это значит, что они семантически связаны, но как именно — непонятно.\n",
    "\n",
    "\n",
    "## RusVectōrēs\n",
    "\n",
    "\n",
    "На сайте [RusVectōrēs](https://rusvectores.org/ru/) собраны предобученные на различных данных модели для русского языка, а также можно поискать наиболее близкие слова к заданному, посчитать семантическую близость нескольких слов и порешать примеры с помощью «калькулятором семантической близости».\n",
    "\n",
    "\n",
    "Для других языков также можно найти предобученные модели — например, модели [fastText](https://fasttext.cc/docs/en/english-vectors.html) и [GloVe](https://nlp.stanford.edu/projects/glove/) (о них чуть дальше)."
   ]
  },
  {
   "cell_type": "markdown",
   "metadata": {
    "colab_type": "text",
    "id": "yXNm8flVX-rP"
   },
   "source": [
    "## Gensim\n",
    "\n",
    "Использовать предобученную модель эмбеддингов или обучить свою можно с помощью библиотеки `gensim`. Вот [ее документация](https://radimrehurek.com/gensim/models/word2vec.html).\n",
    "\n",
    "### Как использовать готовую модель\n",
    "\n",
    "Модели word2vec бывают разных форматов:\n",
    "\n",
    "* .vec.gz — обычный файл\n",
    "* .bin.gz — бинарник\n",
    "\n",
    "Загружаются они с помощью одного и того же класса `KeyedVectors`, меняется только параметр `binary` у функции `load_word2vec_format`. \n",
    "\n",
    "Если же эмбеддинги обучены **не** с помощью word2vec, то для загрузки нужно использовать функцию `load`. Т.е. для загрузки предобученных эмбеддингов *glove, fasttext, bpe* и любых других нужна именно она.\n",
    "\n",
    "Скачаем с RusVectōrēs модель для русского языка, обученную на НКРЯ образца 2015 г. "
   ]
  },
  {
   "cell_type": "code",
   "execution_count": 6,
   "metadata": {
    "colab": {
     "base_uri": "https://localhost:8080/",
     "height": 68
    },
    "colab_type": "code",
    "id": "sTLnNKaNX-rP",
    "outputId": "73be423c-b644-4fb2-860c-337c966cf788"
   },
   "outputs": [
    {
     "name": "stdout",
     "output_type": "stream",
     "text": [
      "[nltk_data] Downloading package punkt to /home/maryszmary/nltk_data...\n",
      "[nltk_data]   Package punkt is already up-to-date!\n"
     ]
    },
    {
     "data": {
      "text/plain": [
       "True"
      ]
     },
     "execution_count": 6,
     "metadata": {},
     "output_type": "execute_result"
    }
   ],
   "source": [
    "import re\n",
    "import gensim\n",
    "import logging\n",
    "import nltk.data \n",
    "import pandas as pd\n",
    "import urllib.request\n",
    "from bs4 import BeautifulSoup\n",
    "from nltk.corpus import stopwords\n",
    "from gensim.models import word2vec\n",
    "from nltk.tokenize import sent_tokenize, RegexpTokenizer\n",
    "nltk.download('punkt')"
   ]
  },
  {
   "cell_type": "code",
   "execution_count": 2,
   "metadata": {
    "colab": {
     "base_uri": "https://localhost:8080/",
     "height": 51
    },
    "colab_type": "code",
    "id": "zm9z6SN3X-rS",
    "outputId": "3db5572e-b9f8-4df4-a0eb-80aa7b822692"
   },
   "outputs": [
    {
     "data": {
      "text/plain": [
       "('ruscorpora_mystem_cbow_300_2_2015.bin.gz',\n",
       " <http.client.HTTPMessage at 0x7f6b8d323630>)"
      ]
     },
     "execution_count": 2,
     "metadata": {},
     "output_type": "execute_result"
    }
   ],
   "source": [
    "urllib.request.urlretrieve(\"http://rusvectores.org/static/models/rusvectores2/ruscorpora_mystem_cbow_300_2_2015.bin.gz\", \"ruscorpora_mystem_cbow_300_2_2015.bin.gz\")"
   ]
  },
  {
   "cell_type": "code",
   "execution_count": 7,
   "metadata": {
    "colab": {
     "base_uri": "https://localhost:8080/",
     "height": 71
    },
    "colab_type": "code",
    "id": "mkuCawyFX-rW",
    "outputId": "ea312dc3-ebfa-4ac1-b4cb-7b96c6d4ab7e"
   },
   "outputs": [],
   "source": [
    "model_path = 'ruscorpora_mystem_cbow_300_2_2015.bin.gz'\n",
    "\n",
    "model_ru = gensim.models.KeyedVectors.load_word2vec_format(model_path, binary=True)"
   ]
  },
  {
   "cell_type": "code",
   "execution_count": 8,
   "metadata": {
    "colab": {},
    "colab_type": "code",
    "id": "H4D0hMgkX-rY"
   },
   "outputs": [],
   "source": [
    "words = ['день_S', 'ночь_S', 'человек_S', 'семантика_S', 'биткоин_S']"
   ]
  },
  {
   "cell_type": "markdown",
   "metadata": {
    "colab_type": "text",
    "id": "jbTShU9aX-ra"
   },
   "source": [
    "Частеречные тэги нужны, поскольку это специфика скачанной модели - она была натренирована на словах, аннотированных их частями речи (и лемматизированных). **NB!** В названиях моделей на `rusvectores` указано, какой тегсет они используют (mystem, upos и т.д.)\n",
    "\n",
    "Попросим у модели 10 ближайших соседей для каждого слова и коэффициент косинусной близости для каждого:"
   ]
  },
  {
   "cell_type": "code",
   "execution_count": 7,
   "metadata": {
    "colab": {
     "base_uri": "https://localhost:8080/",
     "height": 1000
    },
    "colab_type": "code",
    "id": "9Uer5sHyX-ra",
    "outputId": "b5eec20b-995c-42e7-855c-388ded24682c"
   },
   "outputs": [
    {
     "name": "stdout",
     "output_type": "stream",
     "text": [
      "день_S\n",
      "[-0.02580778  0.00970898  0.01941961 -0.02332282  0.02017624  0.07275085\n",
      " -0.01444375  0.03316632  0.01242602  0.02833412]\n",
      "неделя_S :  0.7165195941925049\n",
      "месяц_S :  0.631048858165741\n",
      "вечер_S :  0.5828739404678345\n",
      "утро_S :  0.5676207542419434\n",
      "час_S :  0.5605547428131104\n",
      "минута_S :  0.5297019481658936\n",
      "гекатомбеон_S :  0.4897990822792053\n",
      "денек_S :  0.48224714398384094\n",
      "полчаса_S :  0.48217129707336426\n",
      "ночь_S :  0.478074848651886\n",
      "\n",
      "\n",
      "ночь_S\n",
      "[-0.00688948  0.00408364  0.06975466 -0.00959525  0.0194835   0.04057068\n",
      " -0.00994112  0.06064967 -0.00522624  0.00520327]\n",
      "вечер_S :  0.6946247816085815\n",
      "утро_S :  0.57301926612854\n",
      "ноченька_S :  0.5582467317581177\n",
      "рассвет_S :  0.5553582906723022\n",
      "ночка_S :  0.5351512432098389\n",
      "полдень_S :  0.5334426164627075\n",
      "полночь_S :  0.478694349527359\n",
      "день_S :  0.4780748784542084\n",
      "сумерки_S :  0.4390218257904053\n",
      "фундерфун_S :  0.4340824782848358\n",
      "\n",
      "\n",
      "человек_S\n",
      "[ 0.02013756 -0.02670703 -0.02039861 -0.05477146  0.00086402 -0.01636335\n",
      "  0.04240306 -0.00025525 -0.14045681  0.04785006]\n",
      "женщина_S :  0.5979775190353394\n",
      "парень_S :  0.4991787374019623\n",
      "мужчина_S :  0.4767409563064575\n",
      "мужик_S :  0.47384002804756165\n",
      "россиянин_S :  0.47190436720848083\n",
      "народ_S :  0.4654741883277893\n",
      "согражданин_S :  0.45378512144088745\n",
      "горожанин_S :  0.44368088245391846\n",
      "девушка_S :  0.44314485788345337\n",
      "иностранец_S :  0.43849867582321167\n",
      "\n",
      "\n",
      "семантика_S\n",
      "[-0.03066749  0.0053851   0.1110732   0.0152335   0.00440643  0.00384104\n",
      "  0.00096944 -0.03538784 -0.00079585  0.03220548]\n",
      "семантический_A :  0.5334584712982178\n",
      "понятие_S :  0.5030269622802734\n",
      "сочетаемость_S :  0.4817051291465759\n",
      "актант_S :  0.47596412897109985\n",
      "хронотоп_S :  0.46330299973487854\n",
      "метафора_S :  0.46158894896507263\n",
      "мышление_S :  0.4610119163990021\n",
      "парадигма_S :  0.45796656608581543\n",
      "лексема_S :  0.45688074827194214\n",
      "смысловой_A :  0.4543077349662781\n",
      "\n",
      "\n",
      "Увы, слова \"биткоин_S\" нет в модели!\n"
     ]
    },
    {
     "name": "stderr",
     "output_type": "stream",
     "text": [
      "/usr/local/lib/python3.5/dist-packages/gensim/matutils.py:737: FutureWarning: Conversion of the second argument of issubdtype from `int` to `np.signedinteger` is deprecated. In future, it will be treated as `np.int64 == np.dtype(int).type`.\n",
      "  if np.issubdtype(vec.dtype, np.int):\n"
     ]
    }
   ],
   "source": [
    "for word in words:\n",
    "    # есть ли слово в модели? \n",
    "    if word in model_ru:\n",
    "        print(word)\n",
    "        # смотрим на вектор слова (его размерность 300, смотрим на первые 10 чисел)\n",
    "        print(model_ru[word][:10])\n",
    "        # выдаем 10 ближайших соседей слова:\n",
    "        for word, sim in model_ru.most_similar(positive=[word], topn=10):\n",
    "            # слово + коэффициент косинусной близости\n",
    "            print(word, ': ', sim)\n",
    "        print('\\n')\n",
    "    else:\n",
    "        # Увы!\n",
    "        print('Увы, слова \"%s\" нет в модели!' % word)"
   ]
  },
  {
   "cell_type": "markdown",
   "metadata": {
    "colab_type": "text",
    "id": "1GqDmAcJX-rc"
   },
   "source": [
    "Находим косинусную близость пары слов:"
   ]
  },
  {
   "cell_type": "code",
   "execution_count": 8,
   "metadata": {
    "colab": {
     "base_uri": "https://localhost:8080/",
     "height": 88
    },
    "colab_type": "code",
    "id": "MDFjOSJjX-rd",
    "outputId": "b58343ff-8063-4cca-8cbb-371cbf4717ca"
   },
   "outputs": [
    {
     "name": "stdout",
     "output_type": "stream",
     "text": [
      "0.23895611\n"
     ]
    },
    {
     "name": "stderr",
     "output_type": "stream",
     "text": [
      "/usr/local/lib/python3.5/dist-packages/gensim/matutils.py:737: FutureWarning: Conversion of the second argument of issubdtype from `int` to `np.signedinteger` is deprecated. In future, it will be treated as `np.int64 == np.dtype(int).type`.\n",
      "  if np.issubdtype(vec.dtype, np.int):\n"
     ]
    }
   ],
   "source": [
    "print(model_ru.similarity('человек_S', 'обезьяна_S'))"
   ]
  },
  {
   "cell_type": "markdown",
   "metadata": {
    "colab_type": "text",
    "id": "B0w4pQooX-rf"
   },
   "source": [
    "Что получится, если вычесть из пиццы Италию и прибавить Сибирь?\n",
    "\n",
    "* positive — вектора, которые мы складываем\n",
    "* negative — вектора, которые вычитаем"
   ]
  },
  {
   "cell_type": "code",
   "execution_count": 9,
   "metadata": {
    "colab": {
     "base_uri": "https://localhost:8080/",
     "height": 88
    },
    "colab_type": "code",
    "id": "N0L5_TCQX-rf",
    "outputId": "18c0c545-9843-4325-82bb-a3614e0ac023"
   },
   "outputs": [
    {
     "name": "stdout",
     "output_type": "stream",
     "text": [
      "пельмень_S\n"
     ]
    },
    {
     "name": "stderr",
     "output_type": "stream",
     "text": [
      "/usr/local/lib/python3.5/dist-packages/gensim/matutils.py:737: FutureWarning: Conversion of the second argument of issubdtype from `int` to `np.signedinteger` is deprecated. In future, it will be treated as `np.int64 == np.dtype(int).type`.\n",
      "  if np.issubdtype(vec.dtype, np.int):\n"
     ]
    }
   ],
   "source": [
    "print(model_ru.most_similar(positive=['пицца_S', 'сибирь_S'], negative=['италия_S'])[0][0])"
   ]
  },
  {
   "cell_type": "code",
   "execution_count": 10,
   "metadata": {
    "colab": {
     "base_uri": "https://localhost:8080/",
     "height": 122
    },
    "colab_type": "code",
    "id": "DrN2Jc31X-rh",
    "outputId": "55ec81c1-8fa2-4998-e094-bca1a2aae04d"
   },
   "outputs": [
    {
     "name": "stderr",
     "output_type": "stream",
     "text": [
      "/usr/local/lib/python3.5/dist-packages/gensim/models/keyedvectors.py:895: FutureWarning: arrays to stack must be passed as a \"sequence\" type such as list or tuple. Support for non-sequence iterables such as generators is deprecated as of NumPy 1.16 and will raise an error in the future.\n",
      "  vectors = vstack(self.word_vec(word, use_norm=True) for word in used_words).astype(REAL)\n",
      "/usr/local/lib/python3.5/dist-packages/gensim/matutils.py:737: FutureWarning: Conversion of the second argument of issubdtype from `int` to `np.signedinteger` is deprecated. In future, it will be treated as `np.int64 == np.dtype(int).type`.\n",
      "  if np.issubdtype(vec.dtype, np.int):\n"
     ]
    },
    {
     "data": {
      "text/plain": [
       "'ананас_S'"
      ]
     },
     "execution_count": 10,
     "metadata": {},
     "output_type": "execute_result"
    }
   ],
   "source": [
    "model_ru.doesnt_match('пицца_S пельмень_S хот-дог_S ананас_S'.split())"
   ]
  },
  {
   "cell_type": "markdown",
   "metadata": {
    "colab_type": "text",
    "id": "ZNHMtmbqX-rl"
   },
   "source": [
    "### Как обучить свою модель\n",
    "\n",
    "В качестве обучающих данных возьмем размеченные и неразмеченные отзывы о фильмах (датасет взят с Kaggle)."
   ]
  },
  {
   "cell_type": "code",
   "execution_count": 11,
   "metadata": {
    "colab": {
     "base_uri": "https://localhost:8080/",
     "height": 204
    },
    "colab_type": "code",
    "id": "-1Vz9le-X-rl",
    "outputId": "c2515737-6e35-400b-d4a2-4456f64a25cb"
   },
   "outputs": [
    {
     "name": "stdout",
     "output_type": "stream",
     "text": [
      "--2019-09-10 17:10:46--  https://raw.githubusercontent.com/ancatmara/data-science-nlp/master/data/w2v/train/unlabeledTrainData.tsv\n",
      "Resolving raw.githubusercontent.com (raw.githubusercontent.com)... 151.101.36.133\n",
      "Connecting to raw.githubusercontent.com (raw.githubusercontent.com)|151.101.36.133|:443... connected.\n",
      "HTTP request sent, awaiting response... 200 OK\n",
      "Length: 67281491 (64M) [text/plain]\n",
      "Saving to: ‘unlabeledTrainData.tsv’\n",
      "\n",
      "unlabeledTrainData. 100%[===================>]  64,16M  2,47MB/s    in 43s     \n",
      "\n",
      "2019-09-10 17:11:32 (1,48 MB/s) - ‘unlabeledTrainData.tsv’ saved [67281491/67281491]\n",
      "\n"
     ]
    }
   ],
   "source": [
    "! wget https://raw.githubusercontent.com/ancatmara/data-science-nlp/master/data/w2v/train/unlabeledTrainData.tsv"
   ]
  },
  {
   "cell_type": "code",
   "execution_count": 19,
   "metadata": {
    "colab": {
     "base_uri": "https://localhost:8080/",
     "height": 34
    },
    "colab_type": "code",
    "id": "B2wv-vSxX-ro",
    "outputId": "d32ef7a3-ced2-4581-8b0f-b59d624ab8a5"
   },
   "outputs": [
    {
     "data": {
      "text/plain": [
       "50000"
      ]
     },
     "execution_count": 19,
     "metadata": {},
     "output_type": "execute_result"
    }
   ],
   "source": [
    "data = pd.read_csv(\"unlabeledTrainData.tsv\", header=0, delimiter=\"\\t\", quoting=3)\n",
    "\n",
    "len(data)"
   ]
  },
  {
   "cell_type": "code",
   "execution_count": 20,
   "metadata": {
    "colab": {
     "base_uri": "https://localhost:8080/",
     "height": 204
    },
    "colab_type": "code",
    "id": "eEGmrh-nX-rq",
    "outputId": "46b6d027-0919-48b6-9b92-9ce895d572d6"
   },
   "outputs": [
    {
     "data": {
      "text/html": [
       "<div>\n",
       "<style scoped>\n",
       "    .dataframe tbody tr th:only-of-type {\n",
       "        vertical-align: middle;\n",
       "    }\n",
       "\n",
       "    .dataframe tbody tr th {\n",
       "        vertical-align: top;\n",
       "    }\n",
       "\n",
       "    .dataframe thead th {\n",
       "        text-align: right;\n",
       "    }\n",
       "</style>\n",
       "<table border=\"1\" class=\"dataframe\">\n",
       "  <thead>\n",
       "    <tr style=\"text-align: right;\">\n",
       "      <th></th>\n",
       "      <th>id</th>\n",
       "      <th>review</th>\n",
       "    </tr>\n",
       "  </thead>\n",
       "  <tbody>\n",
       "    <tr>\n",
       "      <th>0</th>\n",
       "      <td>\"9999_0\"</td>\n",
       "      <td>\"Watching Time Chasers, it obvious that it was...</td>\n",
       "    </tr>\n",
       "    <tr>\n",
       "      <th>1</th>\n",
       "      <td>\"45057_0\"</td>\n",
       "      <td>\"I saw this film about 20 years ago and rememb...</td>\n",
       "    </tr>\n",
       "    <tr>\n",
       "      <th>2</th>\n",
       "      <td>\"15561_0\"</td>\n",
       "      <td>\"Minor Spoilers&lt;br /&gt;&lt;br /&gt;In New York, Joan B...</td>\n",
       "    </tr>\n",
       "    <tr>\n",
       "      <th>3</th>\n",
       "      <td>\"7161_0\"</td>\n",
       "      <td>\"I went to see this film with a great deal of ...</td>\n",
       "    </tr>\n",
       "    <tr>\n",
       "      <th>4</th>\n",
       "      <td>\"43971_0\"</td>\n",
       "      <td>\"Yes, I agree with everyone on this site this ...</td>\n",
       "    </tr>\n",
       "  </tbody>\n",
       "</table>\n",
       "</div>"
      ],
      "text/plain": [
       "          id                                             review\n",
       "0   \"9999_0\"  \"Watching Time Chasers, it obvious that it was...\n",
       "1  \"45057_0\"  \"I saw this film about 20 years ago and rememb...\n",
       "2  \"15561_0\"  \"Minor Spoilers<br /><br />In New York, Joan B...\n",
       "3   \"7161_0\"  \"I went to see this film with a great deal of ...\n",
       "4  \"43971_0\"  \"Yes, I agree with everyone on this site this ..."
      ]
     },
     "execution_count": 20,
     "metadata": {},
     "output_type": "execute_result"
    }
   ],
   "source": [
    "data.head()"
   ]
  },
  {
   "cell_type": "markdown",
   "metadata": {
    "colab_type": "text",
    "id": "oIZaQ3kYX-rt"
   },
   "source": [
    "Убираем из данных ссылки, html-разметку и небуквенные символы, а затем приводим все к нижнему регистру и токенизируем. На выходе получается массив из предложений, каждое из которых представляет собой массив слов. Здесь используется токенизатор из библиотеки `nltk`. "
   ]
  },
  {
   "cell_type": "code",
   "execution_count": 21,
   "metadata": {},
   "outputs": [],
   "source": [
    "tokenizer = nltk.data.load('tokenizers/punkt/english.pickle')"
   ]
  },
  {
   "cell_type": "code",
   "execution_count": 22,
   "metadata": {
    "colab": {},
    "colab_type": "code",
    "id": "irbunSOfX-rt"
   },
   "outputs": [],
   "source": [
    "def review_to_wordlist(review, remove_stopwords=False ):\n",
    "    # убираем ссылки вне тегов\n",
    "    review = re.sub(r\"http[s]?://(?:[a-zA-Z]|[0-9]|[$-_@.&+]|[!*\\(\\),]|(?:%[0-9a-fA-F][0-9a-fA-F]))+\", \" \", review)\n",
    "    review_text = BeautifulSoup(review, \"lxml\").get_text()\n",
    "    review_text = re.sub(\"[^a-zA-Z]\",\" \", review_text)\n",
    "    words = review_text.lower().split()\n",
    "    if remove_stopwords:\n",
    "        stops = stopwords.words(\"english\")\n",
    "        words = [w for w in words if not w in stops]\n",
    "    return(words)\n",
    "\n",
    "def review_to_sentences(review, tokenizer, remove_stopwords=False):\n",
    "    raw_sentences = tokenizer.tokenize(review.strip())\n",
    "    sentences = []\n",
    "    for raw_sentence in raw_sentences:\n",
    "        if len(raw_sentence) > 0:\n",
    "            sentences.append(review_to_wordlist(raw_sentence, remove_stopwords))\n",
    "    return sentences"
   ]
  },
  {
   "cell_type": "code",
   "execution_count": 23,
   "metadata": {
    "colab": {
     "base_uri": "https://localhost:8080/",
     "height": 122
    },
    "colab_type": "code",
    "id": "bolPEuQgX-rv",
    "outputId": "9a9a76b4-5d61-46ce-a72c-c25f2bbda75d"
   },
   "outputs": [
    {
     "name": "stdout",
     "output_type": "stream",
     "text": [
      "Parsing sentences from training set...\n"
     ]
    },
    {
     "name": "stderr",
     "output_type": "stream",
     "text": [
      "/usr/lib/python3/dist-packages/bs4/__init__.py:198: UserWarning: \"b'.'\" looks like a filename, not markup. You should probably open this file and pass the filehandle into Beautiful Soup.\n",
      "  '\"%s\" looks like a filename, not markup. You should probably open this file and pass the filehandle into Beautiful Soup.' % markup)\n",
      "/usr/lib/python3/dist-packages/bs4/__init__.py:198: UserWarning: \"b'..'\" looks like a filename, not markup. You should probably open this file and pass the filehandle into Beautiful Soup.\n",
      "  '\"%s\" looks like a filename, not markup. You should probably open this file and pass the filehandle into Beautiful Soup.' % markup)\n"
     ]
    }
   ],
   "source": [
    "#logging.basicConfig(format='%(asctime)s : %(levelname)s : %(message)s', level=logging.INFO)\n",
    "\n",
    "sentences = []  \n",
    "\n",
    "print(\"Parsing sentences from training set...\")\n",
    "for review in data[\"review\"]:\n",
    "    sentences += review_to_sentences(review, tokenizer)"
   ]
  },
  {
   "cell_type": "code",
   "execution_count": 24,
   "metadata": {
    "colab": {
     "base_uri": "https://localhost:8080/",
     "height": 51
    },
    "colab_type": "code",
    "id": "FbrH6TdfX-rx",
    "outputId": "2122347d-0eaf-4cb4-c025-e96976360ca6"
   },
   "outputs": [
    {
     "name": "stdout",
     "output_type": "stream",
     "text": [
      "528987\n",
      "['watching', 'time', 'chasers', 'it', 'obvious', 'that', 'it', 'was', 'made', 'by', 'a', 'bunch', 'of', 'friends']\n"
     ]
    }
   ],
   "source": [
    "print(len(sentences))\n",
    "print(sentences[0])"
   ]
  },
  {
   "cell_type": "code",
   "execution_count": 25,
   "metadata": {
    "colab": {},
    "colab_type": "code",
    "id": "Cqb_NOteX-rz"
   },
   "outputs": [],
   "source": [
    "# это понадобится нам позже\n",
    "\n",
    "with open('clean_text.txt', 'w') as f:\n",
    "    for s in sentences[:5000]:\n",
    "        f.write(' '.join(s))\n",
    "        f.write('\\n')"
   ]
  },
  {
   "cell_type": "markdown",
   "metadata": {
    "colab_type": "text",
    "id": "qqFhuv7XX-r1"
   },
   "source": [
    "Обучаем и сохраняем модель. \n",
    "\n",
    "\n",
    "Основные параметры:\n",
    "* данные должны быть итерируемым объектом \n",
    "* size — размер вектора, \n",
    "* window — размер окна наблюдения,\n",
    "* min_count — мин. частотность слова в корпусе,\n",
    "* sg — используемый алгоритм обучения (0 — CBOW, 1 — Skip-gram),\n",
    "* sample — порог для downsampling'a высокочастотных слов,\n",
    "* workers — количество потоков,\n",
    "* alpha — learning rate,\n",
    "* iter — количество итераций,\n",
    "* max_vocab_size — позволяет выставить ограничение по памяти при создании словаря (т.е. если ограничение превышается, то низкочастотные слова будут выбрасываться). Для сравнения: 10 млн слов = 1Гб RAM.\n",
    "\n",
    "**NB!** Обратите внимание, что тренировка модели не включает препроцессинг! Это значит, что избавляться от пунктуации, приводить слова к нижнему регистру, лемматизировать их, проставлять частеречные теги придется до тренировки модели (если, конечно, это необходимо для вашей задачи). Т.е. в каком виде слова будут в исходном тексте, в таком они будут и в модели."
   ]
  },
  {
   "cell_type": "code",
   "execution_count": 27,
   "metadata": {
    "colab": {
     "base_uri": "https://localhost:8080/",
     "height": 68
    },
    "colab_type": "code",
    "id": "OB2FqIioX-r1",
    "outputId": "7a8840a9-a12b-4247-bf6b-b02c767ce2c5"
   },
   "outputs": [
    {
     "name": "stdout",
     "output_type": "stream",
     "text": [
      "Training model...\n",
      "CPU times: user 4min 42s, sys: 1.7 s, total: 4min 43s\n",
      "Wall time: 1min 39s\n"
     ]
    }
   ],
   "source": [
    "print(\"Training model...\")\n",
    "\n",
    "%time model_en = word2vec.Word2Vec(sentences, workers=4, size=300, min_count=10, window=10, sample=1e-3)"
   ]
  },
  {
   "cell_type": "markdown",
   "metadata": {
    "colab_type": "text",
    "id": "HFU6SYAZX-r3"
   },
   "source": [
    "Смотрим, сколько в модели слов."
   ]
  },
  {
   "cell_type": "code",
   "execution_count": 28,
   "metadata": {
    "colab": {
     "base_uri": "https://localhost:8080/",
     "height": 34
    },
    "colab_type": "code",
    "id": "HA3P0CUYX-r4",
    "outputId": "1bfec39d-aa30-4a4e-b77c-e8ed9c8c2571"
   },
   "outputs": [
    {
     "name": "stdout",
     "output_type": "stream",
     "text": [
      "28308\n"
     ]
    }
   ],
   "source": [
    "print(len(model_en.wv.vocab))"
   ]
  },
  {
   "cell_type": "markdown",
   "metadata": {
    "colab_type": "text",
    "id": "2mU9sbGYX-r8"
   },
   "source": [
    "Попробуем оценить модель вручную, порешав примеры. Несколько дано ниже, попробуйте придумать свои."
   ]
  },
  {
   "cell_type": "code",
   "execution_count": 29,
   "metadata": {
    "colab": {
     "base_uri": "https://localhost:8080/",
     "height": 173
    },
    "colab_type": "code",
    "id": "n8OQxmUyX-r9",
    "outputId": "4e4ab20e-31e4-4c02-fdfa-61b4ba8be133"
   },
   "outputs": [
    {
     "name": "stdout",
     "output_type": "stream",
     "text": [
      "[('actress', 0.7812775373458862)]\n",
      "[('men', 0.6456037759780884)]\n",
      "[('europe', 0.7496109008789062), ('china', 0.7072895765304565), ('north', 0.7071902751922607)]\n",
      "novel\n"
     ]
    },
    {
     "name": "stderr",
     "output_type": "stream",
     "text": [
      "/usr/local/lib/python3.5/dist-packages/gensim/matutils.py:737: FutureWarning: Conversion of the second argument of issubdtype from `int` to `np.signedinteger` is deprecated. In future, it will be treated as `np.int64 == np.dtype(int).type`.\n",
      "  if np.issubdtype(vec.dtype, np.int):\n",
      "/usr/local/lib/python3.5/dist-packages/gensim/models/keyedvectors.py:895: FutureWarning: arrays to stack must be passed as a \"sequence\" type such as list or tuple. Support for non-sequence iterables such as generators is deprecated as of NumPy 1.16 and will raise an error in the future.\n",
      "  vectors = vstack(self.word_vec(word, use_norm=True) for word in used_words).astype(REAL)\n"
     ]
    }
   ],
   "source": [
    "print(model_en.wv.most_similar(positive=[\"woman\", \"actor\"], negative=[\"man\"], topn=1))\n",
    "print(model_en.wv.most_similar(positive=[\"dogs\", \"man\"], negative=[\"dog\"], topn=1))\n",
    "\n",
    "print(model_en.wv.most_similar(\"usa\", topn=3))\n",
    "\n",
    "print(model_en.wv.doesnt_match(\"comedy thriller western novel\".split()))"
   ]
  },
  {
   "cell_type": "markdown",
   "metadata": {
    "colab_type": "text",
    "id": "juR4NX0wX-r_"
   },
   "source": [
    "### Как дообучить существующую модель\n",
    "\n",
    "При тренировке модели \"с нуля\" веса инициализируются случайно, однако можно использовать для инициализации векторов веса из предобученной модели, таким образом как бы дообучая ее.\n",
    "\n",
    "Сначала посмотрим близость какой-нибудь пары слов в имеющейся модели, чтобы потом сравнить результат с дообученной."
   ]
  },
  {
   "cell_type": "code",
   "execution_count": 30,
   "metadata": {
    "colab": {
     "base_uri": "https://localhost:8080/",
     "height": 88
    },
    "colab_type": "code",
    "id": "rAUVp96kX-sA",
    "outputId": "610c4080-a724-40e5-dc77-30f83bd46cf9"
   },
   "outputs": [
    {
     "name": "stderr",
     "output_type": "stream",
     "text": [
      "/usr/local/lib/python3.5/dist-packages/gensim/matutils.py:737: FutureWarning: Conversion of the second argument of issubdtype from `int` to `np.signedinteger` is deprecated. In future, it will be treated as `np.int64 == np.dtype(int).type`.\n",
      "  if np.issubdtype(vec.dtype, np.int):\n"
     ]
    },
    {
     "data": {
      "text/plain": [
       "0.27731007"
      ]
     },
     "execution_count": 30,
     "metadata": {},
     "output_type": "execute_result"
    }
   ],
   "source": [
    "model_en.wv.similarity('lion', 'rabbit')"
   ]
  },
  {
   "cell_type": "markdown",
   "metadata": {
    "colab_type": "text",
    "id": "Mxsz8DKMX-sD"
   },
   "source": [
    "В качестве дополнительных данных для обучения возьмем английский текст «Алисы в Зазеркалье»."
   ]
  },
  {
   "cell_type": "code",
   "execution_count": 29,
   "metadata": {
    "colab": {
     "base_uri": "https://localhost:8080/",
     "height": 204
    },
    "colab_type": "code",
    "id": "4eTCOgpMX-sE",
    "outputId": "6ed0a4a9-c6a2-4f3f-e37c-d88e4cb42e80"
   },
   "outputs": [
    {
     "name": "stdout",
     "output_type": "stream",
     "text": [
      "--2019-09-10 19:06:46--  https://raw.githubusercontent.com/ancatmara/data-science-nlp/master/data/w2v/train/alice.txt\n",
      "Resolving raw.githubusercontent.com (raw.githubusercontent.com)... 151.101.244.133\n",
      "Connecting to raw.githubusercontent.com (raw.githubusercontent.com)|151.101.244.133|:443... connected.\n",
      "HTTP request sent, awaiting response... 200 OK\n",
      "Length: 167631 (164K) [text/plain]\n",
      "Saving to: ‘alice.txt’\n",
      "\n",
      "alice.txt           100%[===================>] 163,70K  --.-KB/s    in 0,1s    \n",
      "\n",
      "2019-09-10 19:06:47 (1,18 MB/s) - ‘alice.txt’ saved [167631/167631]\n",
      "\n"
     ]
    }
   ],
   "source": [
    "! wget https://raw.githubusercontent.com/ancatmara/data-science-nlp/master/data/w2v/train/alice.txt"
   ]
  },
  {
   "cell_type": "code",
   "execution_count": 31,
   "metadata": {
    "colab": {
     "base_uri": "https://localhost:8080/",
     "height": 54
    },
    "colab_type": "code",
    "id": "yHuXJgB_X-sI",
    "outputId": "ee69966b-8428-4172-ba4c-7669a57465ae"
   },
   "outputs": [
    {
     "name": "stdout",
     "output_type": "stream",
     "text": [
      "[['through', 'the', 'looking-glass', 'by', 'lewis', 'carroll', 'chapter', 'i', 'looking-glass', 'house', 'one', 'thing', 'was', 'certain', 'that', 'the', 'white', 'kitten', 'had', 'had', 'nothing', 'to', 'do', 'with', 'it', '', 'it', 'was', 'the', 'black', 'kitten’s', 'fault', 'entirely'], ['for', 'the', 'white', 'kitten', 'had', 'been', 'having', 'its', 'face', 'washed', 'by', 'the', 'old', 'cat', 'for', 'the', 'last', 'quarter', 'of', 'an', 'hour', 'and', 'bearing', 'it', 'pretty', 'well', 'considering', 'so', 'you', 'see', 'that', 'it', 'couldn’t', 'have', 'had', 'any', 'hand', 'in', 'the', 'mischief']]\n"
     ]
    }
   ],
   "source": [
    "with open(\"alice.txt\", 'r', encoding='utf-8') as f:\n",
    "    text = f.read()\n",
    "\n",
    "text = re.sub('\\n', ' ', text)\n",
    "sents = sent_tokenize(text)\n",
    "\n",
    "punct = '!\"#$%&()*+,-./:;<=>?@[\\]^_`{|}~„“«»†*—/\\-‘’'\n",
    "clean_sents = []\n",
    "\n",
    "for sent in sents:\n",
    "    s = [w.lower().strip(punct) for w in sent.split()]\n",
    "    clean_sents.append(s)\n",
    "    \n",
    "print(clean_sents[:2])"
   ]
  },
  {
   "cell_type": "markdown",
   "metadata": {
    "colab_type": "text",
    "id": "dH8f7GNBX-sK"
   },
   "source": [
    "Чтобы дообучить модель, надо сначала ее сохранить, а потом загрузить. Все параметры тренировки (размер вектора, мин. частота слова и т.п.) будут взяты из загруженной модели, т.е. задать их заново нельзя.\n",
    "\n",
    "**NB!** Дообучить можно только полную модель, а `KeyedVectors` — нельзя. Поэтому сохранять модель нужно в соотвествующем формате. Подробнее о разнице [вот тут](https://radimrehurek.com/gensim/models/keyedvectors.html)."
   ]
  },
  {
   "cell_type": "code",
   "execution_count": 35,
   "metadata": {
    "colab": {
     "base_uri": "https://localhost:8080/",
     "height": 88
    },
    "colab_type": "code",
    "id": "Rv--44TmX-sL",
    "outputId": "0973b4a0-dcbe-498e-86a5-28f6e9673aa4"
   },
   "outputs": [
    {
     "name": "stdout",
     "output_type": "stream",
     "text": [
      "Saving model...\n"
     ]
    }
   ],
   "source": [
    "model_path = \"movie_reviews.model\"\n",
    "\n",
    "print(\"Saving model...\")\n",
    "model_en.save(model_path)"
   ]
  },
  {
   "cell_type": "code",
   "execution_count": 39,
   "metadata": {
    "colab": {
     "base_uri": "https://localhost:8080/",
     "height": 88
    },
    "colab_type": "code",
    "id": "f6eZwBQzX-sQ",
    "outputId": "be412d2b-8cc7-424b-9251-bc2aedb1474d"
   },
   "outputs": [
    {
     "data": {
      "text/plain": [
       "(96929, 150225)"
      ]
     },
     "execution_count": 39,
     "metadata": {},
     "output_type": "execute_result"
    }
   ],
   "source": [
    "model = word2vec.Word2Vec.load(model_path)\n",
    "\n",
    "model.build_vocab(clean_sents, update=True)\n",
    "model.train(clean_sents, total_examples=model.corpus_count, epochs=5)"
   ]
  },
  {
   "cell_type": "markdown",
   "metadata": {
    "colab_type": "text",
    "id": "nMLhISWiX-sS"
   },
   "source": [
    "Лев и кролик стали ближе друг к другу!"
   ]
  },
  {
   "cell_type": "code",
   "execution_count": 42,
   "metadata": {
    "colab": {
     "base_uri": "https://localhost:8080/",
     "height": 88
    },
    "colab_type": "code",
    "id": "4USaUjmzX-sS",
    "outputId": "5f20a83c-b50e-4ca3-bd28-ddb8e16e319e"
   },
   "outputs": [
    {
     "name": "stderr",
     "output_type": "stream",
     "text": [
      "/usr/local/lib/python3.5/dist-packages/gensim/matutils.py:737: FutureWarning: Conversion of the second argument of issubdtype from `int` to `np.signedinteger` is deprecated. In future, it will be treated as `np.int64 == np.dtype(int).type`.\n",
      "  if np.issubdtype(vec.dtype, np.int):\n"
     ]
    },
    {
     "data": {
      "text/plain": [
       "0.2968749"
      ]
     },
     "execution_count": 42,
     "metadata": {},
     "output_type": "execute_result"
    }
   ],
   "source": [
    "model.wv.similarity('lion', 'rabbit')"
   ]
  },
  {
   "cell_type": "markdown",
   "metadata": {
    "colab_type": "text",
    "id": "F5bYd1qmX-sT"
   },
   "source": [
    "Можно нормализовать вектора, тогда модель будет занимать меньше RAM. Однако после этого её нельзя дотренировывать. Здесь используется L2-нормализация: вектора нормализуются так, что если сложить квадраты всех элементов вектора, в сумме получится 1. \n",
    "\n",
    "Кроме того, сохраним не полные вектора, а `KeyedVectors`."
   ]
  },
  {
   "cell_type": "code",
   "execution_count": 41,
   "metadata": {
    "colab": {
     "base_uri": "https://localhost:8080/",
     "height": 88
    },
    "colab_type": "code",
    "id": "ZAVaTYvQX-sU",
    "outputId": "4c2ef602-996f-4ef0-9a77-55a53cabccb6"
   },
   "outputs": [
    {
     "name": "stdout",
     "output_type": "stream",
     "text": [
      "Saving model...\n"
     ]
    }
   ],
   "source": [
    "model.init_sims(replace=True)\n",
    "model_path = \"movies_alice.bin\"\n",
    "\n",
    "print(\"Saving model...\")\n",
    "model_en.wv.save_word2vec_format(model_path, binary=True)"
   ]
  },
  {
   "cell_type": "markdown",
   "metadata": {
    "colab_type": "text",
    "id": "CXKnPffPX-sY"
   },
   "source": [
    "## Оценка\n",
    "\n",
    "Это, конечно, хорошо, но как понять, какая модель лучше? Или вот, например, я сделал свою модель, а как понять, насколько она хорошая?\n",
    "\n",
    "Для этого существуют специальные датасеты для оценки качества дистрибутивных моделей. Основных два: один измеряет точность решения задач на аналогии (про Россию и пельмени), а второй используется для оценки коэффициента семантической близости. \n",
    "\n",
    "### Word Similarity\n",
    "\n",
    "Этот метод заключается в том, чтобы оценить, насколько представления о семантической близости слов в модели соотносятся с \"представлениями\" людей.\n",
    "\n",
    "| слово 1    | слово 2    | близость | \n",
    "|------------|------------|----------|\n",
    "| кошка      | собака     | 0.7      |  \n",
    "| чашка      | кружка     | 0.9      |       \n",
    "\n",
    "Для каждой пары слов из заранее заданного датасета мы можем посчитать косинусное расстояние, и получить список таких значений близости. При этом у нас уже есть список значений близостей, сделанный людьми. Мы можем сравнить эти два списка и понять, насколько они похожи (например, посчитав корреляцию). Эта мера схожести должна говорить о том, насколько модель хорошо моделирует расстояния до слова.\n",
    "\n",
    "### Аналогии\n",
    "\n",
    "Другая популярная задача для \"внутренней\" оценки называется задачей поиска аналогий. Как мы уже разбирали выше, с помощью простых арифметических операций мы можем модифицировать значение слова. Если заранее собрать набор слов-модификаторов, а также слов, которые мы хотим получить в результаты модификации, то на основе подсчёта количества \"попаданий\" в желаемое слово мы можем оценить, насколько хорошо работает модель.\n",
    "\n",
    "В качестве слов-модификаторов мы можем использовать семантические аналогии. Скажем, если у нас есть некоторое отношение \"страна-столица\", то для оценки модели мы можем использовать пары наподобие \"Россия-Москва\", \"Норвегия-Осло\", и т.д. Датасет будет выглядеть следующм образом:\n",
    "\n",
    "| слово 1    | слово 2    | отношение     | \n",
    "|------------|------------|---------------|\n",
    "| Россия     | Москва     | страна-столица|  \n",
    "| Норвегия   | Осло       | страна-столица|\n",
    "\n",
    "Рассматривая случайные две пары из этого набора, мы хотим, имея триплет (Россия, Москва, Норвегия) хотим получить слово \"Осло\", т.е. найти такое слово, которое будет находиться в том же отношении со словом \"Норвегия\", как \"Россия\" находится с Москвой. \n",
    "\n",
    "Датасеты для русского языка можно скачать на странице с моделями на RusVectores. Посчитаем качество нашей модели НКРЯ на датасете про аналогии:"
   ]
  },
  {
   "cell_type": "code",
   "execution_count": 43,
   "metadata": {
    "colab": {
     "base_uri": "https://localhost:8080/",
     "height": 204
    },
    "colab_type": "code",
    "id": "-YhZcONZX-sY",
    "outputId": "711d2d3c-6959-4d21-bfc6-eaa884fa6697"
   },
   "outputs": [
    {
     "name": "stdout",
     "output_type": "stream",
     "text": [
      "--2019-09-11 13:09:50--  https://raw.githubusercontent.com/ancatmara/data-science-nlp/master/data/w2v/evaluation/ru_analogy_tagged.txt\n",
      "Resolving raw.githubusercontent.com (raw.githubusercontent.com)... 151.101.0.133, 151.101.64.133, 151.101.128.133, ...\n",
      "Connecting to raw.githubusercontent.com (raw.githubusercontent.com)|151.101.0.133|:443... ^C\n"
     ]
    }
   ],
   "source": [
    "! wget https://raw.githubusercontent.com/ancatmara/data-science-nlp/master/data/w2v/evaluation/ru_analogy_tagged.txt"
   ]
  },
  {
   "cell_type": "code",
   "execution_count": 44,
   "metadata": {
    "colab": {
     "base_uri": "https://localhost:8080/",
     "height": 139
    },
    "colab_type": "code",
    "id": "z54TWXlcX-sb",
    "outputId": "8f0e238a-4944-4331-b68e-6535923f9a17"
   },
   "outputs": [
    {
     "name": "stderr",
     "output_type": "stream",
     "text": [
      "/usr/local/lib/python3.5/dist-packages/ipykernel_launcher.py:1: DeprecationWarning: Call to deprecated `accuracy` (Method will be removed in 4.0.0, use self.evaluate_word_analogies() instead).\n",
      "  \"\"\"Entry point for launching an IPython kernel.\n",
      "/usr/local/lib/python3.5/dist-packages/gensim/matutils.py:737: FutureWarning: Conversion of the second argument of issubdtype from `int` to `np.signedinteger` is deprecated. In future, it will be treated as `np.int64 == np.dtype(int).type`.\n",
      "  if np.issubdtype(vec.dtype, np.int):\n"
     ]
    }
   ],
   "source": [
    "res = model_ru.accuracy('ru_analogy_tagged.txt')"
   ]
  },
  {
   "cell_type": "code",
   "execution_count": 45,
   "metadata": {
    "colab": {
     "base_uri": "https://localhost:8080/",
     "height": 54
    },
    "colab_type": "code",
    "id": "tWNppFBeX-sd",
    "outputId": "8d2a2fdf-0d2d-4963-9d68-544caf08c773"
   },
   "outputs": [
    {
     "name": "stdout",
     "output_type": "stream",
     "text": [
      "[('МАЛЬЧИК_S', 'ДЕВОЧКА_S', 'ДЕД_S', 'БАБКА_S'), ('МАЛЬЧИК_S', 'ДЕВОЧКА_S', 'КОРОЛЬ_S', 'КОРОЛЕВА_S'), ('МАЛЬЧИК_S', 'ДЕВОЧКА_S', 'ПРИНЦ_S', 'ПРИНЦЕССА_S'), ('МАЛЬЧИК_S', 'ДЕВОЧКА_S', 'ОТЧИМ_S', 'МАЧЕХА_S'), ('МАЛЬЧИК_S', 'ДЕВОЧКА_S', 'ПАСЫНОК_S', 'ПАДЧЕРИЦА_S'), ('БРАТ_S', 'СЕСТРА_S', 'ДЕД_S', 'БАБКА_S'), ('БРАТ_S', 'СЕСТРА_S', 'ОТЧИМ_S', 'МАЧЕХА_S'), ('БРАТ_S', 'СЕСТРА_S', 'ПАСЫНОК_S', 'ПАДЧЕРИЦА_S'), ('ПАПА_S', 'МАМА_S', 'ДЕД_S', 'БАБКА_S'), ('ПАПА_S', 'МАМА_S', 'ОТЧИМ_S', 'МАЧЕХА_S')]\n"
     ]
    }
   ],
   "source": [
    "print(res[4]['incorrect'][:10])"
   ]
  },
  {
   "cell_type": "markdown",
   "metadata": {
    "colab_type": "text",
    "id": "Sv0wxUXIX-se"
   },
   "source": [
    "## Визуализация\n",
    "\n",
    "На полученную модель можно посмотреть, визуализировав ее, например, на плоскости.\n",
    "### t-SNE\n",
    "\n",
    "**t-SNE**  (*t-distributed Stochastic Neighbor Embedding*) — техника нелинейного снижения размерности и визуализации многомерных переменных. Она разработана специально для данных высокой размерности Л. ван дер Маатеном и Д. Хинтоном, [вот их статья](http://jmlr.org/papers/volume9/vandermaaten08a/vandermaaten08a.pdf). t-SNE — это итеративный алгоритм, основанный на вычислении попарных расстояний между всеми объектами (в том числе поэтому он довольно медленный).\n",
    "\n",
    "![tsne](https://raw.githubusercontent.com/maryszmary/nlp-netology/master/3/TSNE.jpg)\n",
    "\n",
    "\n",
    "Изобразим на плоскости 1000 самых частотных слов из коллекции текстов про кино:"
   ]
  },
  {
   "cell_type": "code",
   "execution_count": 51,
   "metadata": {
    "colab": {
     "base_uri": "https://localhost:8080/",
     "height": 105
    },
    "colab_type": "code",
    "id": "5UH91gFyX-sf",
    "outputId": "91b0537a-6e9b-47af-c462-9c09e7f8df4b"
   },
   "outputs": [
    {
     "data": {
      "application/vnd.jupyter.widget-view+json": {
       "model_id": "ccce6d99f27d49f9bab2aa2d6a0d63f5",
       "version_major": 2,
       "version_minor": 0
      },
      "text/plain": [
       "HBox(children=(IntProgress(value=0, max=528987), HTML(value='')))"
      ]
     },
     "metadata": {},
     "output_type": "display_data"
    },
    {
     "name": "stdout",
     "output_type": "stream",
     "text": [
      "\n",
      "['the', 'and', 'a', 'of', 'to', 'is', 'it', 'in', 'i', 'this', 'that', 's', 'was', 'as', 'with', 'for', 'movie', 'but', 'film', 'you', 't', 'on', 'not', 'he', 'are', 'his', 'have', 'be', 'one', 'all', 'they', 'at', 'by', 'who', 'an', 'from', 'so', 'like', 'there', 'or', 'her', 'just', 'about', 'out', 'has', 'if', 'what', 'some', 'good', 'can']\n"
     ]
    },
    {
     "name": "stderr",
     "output_type": "stream",
     "text": [
      "/usr/local/lib/python3.5/dist-packages/ipykernel_launcher.py:16: DeprecationWarning: Call to deprecated `__getitem__` (Method will be removed in 4.0.0, use self.wv.__getitem__() instead).\n",
      "  app.launch_new_instance()\n"
     ]
    }
   ],
   "source": [
    "from nltk import FreqDist\n",
    "from tqdm import tqdm_notebook as tqdm\n",
    "from sklearn.manifold import TSNE\n",
    "\n",
    "top_words = []\n",
    "\n",
    "\n",
    "fd = FreqDist()\n",
    "for s in tqdm(sentences):\n",
    "    fd.update(s)\n",
    "\n",
    "for w in fd.most_common(1000):\n",
    "    top_words.append(w[0])\n",
    "    \n",
    "print(top_words[:50:])\n",
    "top_words_vec = model[top_words]"
   ]
  },
  {
   "cell_type": "code",
   "execution_count": 61,
   "metadata": {},
   "outputs": [
    {
     "name": "stderr",
     "output_type": "stream",
     "text": [
      "/usr/local/lib/python3.5/dist-packages/ipykernel_launcher.py:1: DeprecationWarning: Call to deprecated `__getitem__` (Method will be removed in 4.0.0, use self.wv.__getitem__() instead).\n",
      "  \"\"\"Entry point for launching an IPython kernel.\n"
     ]
    }
   ],
   "source": [
    "top_words_vec = model[top_words]"
   ]
  },
  {
   "cell_type": "code",
   "execution_count": 62,
   "metadata": {
    "colab": {
     "base_uri": "https://localhost:8080/",
     "height": 51
    },
    "colab_type": "code",
    "id": "74FvTsuuX-sg",
    "outputId": "0f629f24-1cd1-471a-9f1f-129792c28e1f"
   },
   "outputs": [
    {
     "name": "stdout",
     "output_type": "stream",
     "text": [
      "CPU times: user 18.2 s, sys: 1.24 s, total: 19.5 s\n",
      "Wall time: 19.5 s\n"
     ]
    }
   ],
   "source": [
    "%%time\n",
    "tsne = TSNE(n_components=2, random_state=0)\n",
    "top_words_tsne = tsne.fit_transform(top_words_vec)"
   ]
  },
  {
   "cell_type": "code",
   "execution_count": 53,
   "metadata": {},
   "outputs": [
    {
     "name": "stdout",
     "output_type": "stream",
     "text": [
      "Traceback (most recent call last):\r\n",
      "  File \"/usr/local/bin/pip\", line 7, in <module>\r\n",
      "    from pip._internal import main\r\n",
      "ImportError: No module named 'pip._internal'\r\n"
     ]
    }
   ],
   "source": [
    "# !pip install bokeh"
   ]
  },
  {
   "cell_type": "code",
   "execution_count": 63,
   "metadata": {
    "colab": {
     "base_uri": "https://localhost:8080/",
     "height": 617
    },
    "colab_type": "code",
    "id": "R0A__XKwX-si",
    "outputId": "6e212d18-d4bd-4dce-fcf4-4ddf1e1627ec"
   },
   "outputs": [
    {
     "data": {
      "text/html": [
       "\n",
       "    <div class=\"bk-root\">\n",
       "        <a href=\"https://bokeh.pydata.org\" target=\"_blank\" class=\"bk-logo bk-logo-small bk-logo-notebook\"></a>\n",
       "        <span id=\"1286\">Loading BokehJS ...</span>\n",
       "    </div>"
      ]
     },
     "metadata": {},
     "output_type": "display_data"
    },
    {
     "data": {
      "application/javascript": [
       "\n",
       "(function(root) {\n",
       "  function now() {\n",
       "    return new Date();\n",
       "  }\n",
       "\n",
       "  var force = true;\n",
       "\n",
       "  if (typeof root._bokeh_onload_callbacks === \"undefined\" || force === true) {\n",
       "    root._bokeh_onload_callbacks = [];\n",
       "    root._bokeh_is_loading = undefined;\n",
       "  }\n",
       "\n",
       "  var JS_MIME_TYPE = 'application/javascript';\n",
       "  var HTML_MIME_TYPE = 'text/html';\n",
       "  var EXEC_MIME_TYPE = 'application/vnd.bokehjs_exec.v0+json';\n",
       "  var CLASS_NAME = 'output_bokeh rendered_html';\n",
       "\n",
       "  /**\n",
       "   * Render data to the DOM node\n",
       "   */\n",
       "  function render(props, node) {\n",
       "    var script = document.createElement(\"script\");\n",
       "    node.appendChild(script);\n",
       "  }\n",
       "\n",
       "  /**\n",
       "   * Handle when an output is cleared or removed\n",
       "   */\n",
       "  function handleClearOutput(event, handle) {\n",
       "    var cell = handle.cell;\n",
       "\n",
       "    var id = cell.output_area._bokeh_element_id;\n",
       "    var server_id = cell.output_area._bokeh_server_id;\n",
       "    // Clean up Bokeh references\n",
       "    if (id != null && id in Bokeh.index) {\n",
       "      Bokeh.index[id].model.document.clear();\n",
       "      delete Bokeh.index[id];\n",
       "    }\n",
       "\n",
       "    if (server_id !== undefined) {\n",
       "      // Clean up Bokeh references\n",
       "      var cmd = \"from bokeh.io.state import curstate; print(curstate().uuid_to_server['\" + server_id + \"'].get_sessions()[0].document.roots[0]._id)\";\n",
       "      cell.notebook.kernel.execute(cmd, {\n",
       "        iopub: {\n",
       "          output: function(msg) {\n",
       "            var id = msg.content.text.trim();\n",
       "            if (id in Bokeh.index) {\n",
       "              Bokeh.index[id].model.document.clear();\n",
       "              delete Bokeh.index[id];\n",
       "            }\n",
       "          }\n",
       "        }\n",
       "      });\n",
       "      // Destroy server and session\n",
       "      var cmd = \"import bokeh.io.notebook as ion; ion.destroy_server('\" + server_id + \"')\";\n",
       "      cell.notebook.kernel.execute(cmd);\n",
       "    }\n",
       "  }\n",
       "\n",
       "  /**\n",
       "   * Handle when a new output is added\n",
       "   */\n",
       "  function handleAddOutput(event, handle) {\n",
       "    var output_area = handle.output_area;\n",
       "    var output = handle.output;\n",
       "\n",
       "    // limit handleAddOutput to display_data with EXEC_MIME_TYPE content only\n",
       "    if ((output.output_type != \"display_data\") || (!output.data.hasOwnProperty(EXEC_MIME_TYPE))) {\n",
       "      return\n",
       "    }\n",
       "\n",
       "    var toinsert = output_area.element.find(\".\" + CLASS_NAME.split(' ')[0]);\n",
       "\n",
       "    if (output.metadata[EXEC_MIME_TYPE][\"id\"] !== undefined) {\n",
       "      toinsert[toinsert.length - 1].firstChild.textContent = output.data[JS_MIME_TYPE];\n",
       "      // store reference to embed id on output_area\n",
       "      output_area._bokeh_element_id = output.metadata[EXEC_MIME_TYPE][\"id\"];\n",
       "    }\n",
       "    if (output.metadata[EXEC_MIME_TYPE][\"server_id\"] !== undefined) {\n",
       "      var bk_div = document.createElement(\"div\");\n",
       "      bk_div.innerHTML = output.data[HTML_MIME_TYPE];\n",
       "      var script_attrs = bk_div.children[0].attributes;\n",
       "      for (var i = 0; i < script_attrs.length; i++) {\n",
       "        toinsert[toinsert.length - 1].firstChild.setAttribute(script_attrs[i].name, script_attrs[i].value);\n",
       "      }\n",
       "      // store reference to server id on output_area\n",
       "      output_area._bokeh_server_id = output.metadata[EXEC_MIME_TYPE][\"server_id\"];\n",
       "    }\n",
       "  }\n",
       "\n",
       "  function register_renderer(events, OutputArea) {\n",
       "\n",
       "    function append_mime(data, metadata, element) {\n",
       "      // create a DOM node to render to\n",
       "      var toinsert = this.create_output_subarea(\n",
       "        metadata,\n",
       "        CLASS_NAME,\n",
       "        EXEC_MIME_TYPE\n",
       "      );\n",
       "      this.keyboard_manager.register_events(toinsert);\n",
       "      // Render to node\n",
       "      var props = {data: data, metadata: metadata[EXEC_MIME_TYPE]};\n",
       "      render(props, toinsert[toinsert.length - 1]);\n",
       "      element.append(toinsert);\n",
       "      return toinsert\n",
       "    }\n",
       "\n",
       "    /* Handle when an output is cleared or removed */\n",
       "    events.on('clear_output.CodeCell', handleClearOutput);\n",
       "    events.on('delete.Cell', handleClearOutput);\n",
       "\n",
       "    /* Handle when a new output is added */\n",
       "    events.on('output_added.OutputArea', handleAddOutput);\n",
       "\n",
       "    /**\n",
       "     * Register the mime type and append_mime function with output_area\n",
       "     */\n",
       "    OutputArea.prototype.register_mime_type(EXEC_MIME_TYPE, append_mime, {\n",
       "      /* Is output safe? */\n",
       "      safe: true,\n",
       "      /* Index of renderer in `output_area.display_order` */\n",
       "      index: 0\n",
       "    });\n",
       "  }\n",
       "\n",
       "  // register the mime type if in Jupyter Notebook environment and previously unregistered\n",
       "  if (root.Jupyter !== undefined) {\n",
       "    var events = require('base/js/events');\n",
       "    var OutputArea = require('notebook/js/outputarea').OutputArea;\n",
       "\n",
       "    if (OutputArea.prototype.mime_types().indexOf(EXEC_MIME_TYPE) == -1) {\n",
       "      register_renderer(events, OutputArea);\n",
       "    }\n",
       "  }\n",
       "\n",
       "  \n",
       "  if (typeof (root._bokeh_timeout) === \"undefined\" || force === true) {\n",
       "    root._bokeh_timeout = Date.now() + 5000;\n",
       "    root._bokeh_failed_load = false;\n",
       "  }\n",
       "\n",
       "  var NB_LOAD_WARNING = {'data': {'text/html':\n",
       "     \"<div style='background-color: #fdd'>\\n\"+\n",
       "     \"<p>\\n\"+\n",
       "     \"BokehJS does not appear to have successfully loaded. If loading BokehJS from CDN, this \\n\"+\n",
       "     \"may be due to a slow or bad network connection. Possible fixes:\\n\"+\n",
       "     \"</p>\\n\"+\n",
       "     \"<ul>\\n\"+\n",
       "     \"<li>re-rerun `output_notebook()` to attempt to load from CDN again, or</li>\\n\"+\n",
       "     \"<li>use INLINE resources instead, as so:</li>\\n\"+\n",
       "     \"</ul>\\n\"+\n",
       "     \"<code>\\n\"+\n",
       "     \"from bokeh.resources import INLINE\\n\"+\n",
       "     \"output_notebook(resources=INLINE)\\n\"+\n",
       "     \"</code>\\n\"+\n",
       "     \"</div>\"}};\n",
       "\n",
       "  function display_loaded() {\n",
       "    var el = document.getElementById(\"1286\");\n",
       "    if (el != null) {\n",
       "      el.textContent = \"BokehJS is loading...\";\n",
       "    }\n",
       "    if (root.Bokeh !== undefined) {\n",
       "      if (el != null) {\n",
       "        el.textContent = \"BokehJS \" + root.Bokeh.version + \" successfully loaded.\";\n",
       "      }\n",
       "    } else if (Date.now() < root._bokeh_timeout) {\n",
       "      setTimeout(display_loaded, 100)\n",
       "    }\n",
       "  }\n",
       "\n",
       "\n",
       "  function run_callbacks() {\n",
       "    try {\n",
       "      root._bokeh_onload_callbacks.forEach(function(callback) {\n",
       "        if (callback != null)\n",
       "          callback();\n",
       "      });\n",
       "    } finally {\n",
       "      delete root._bokeh_onload_callbacks\n",
       "    }\n",
       "    console.debug(\"Bokeh: all callbacks have finished\");\n",
       "  }\n",
       "\n",
       "  function load_libs(css_urls, js_urls, callback) {\n",
       "    if (css_urls == null) css_urls = [];\n",
       "    if (js_urls == null) js_urls = [];\n",
       "\n",
       "    root._bokeh_onload_callbacks.push(callback);\n",
       "    if (root._bokeh_is_loading > 0) {\n",
       "      console.debug(\"Bokeh: BokehJS is being loaded, scheduling callback at\", now());\n",
       "      return null;\n",
       "    }\n",
       "    if (js_urls == null || js_urls.length === 0) {\n",
       "      run_callbacks();\n",
       "      return null;\n",
       "    }\n",
       "    console.debug(\"Bokeh: BokehJS not loaded, scheduling load and callback at\", now());\n",
       "    root._bokeh_is_loading = css_urls.length + js_urls.length;\n",
       "\n",
       "    function on_load() {\n",
       "      root._bokeh_is_loading--;\n",
       "      if (root._bokeh_is_loading === 0) {\n",
       "        console.debug(\"Bokeh: all BokehJS libraries/stylesheets loaded\");\n",
       "        run_callbacks()\n",
       "      }\n",
       "    }\n",
       "\n",
       "    function on_error() {\n",
       "      console.error(\"failed to load \" + url);\n",
       "    }\n",
       "\n",
       "    for (var i = 0; i < css_urls.length; i++) {\n",
       "      var url = css_urls[i];\n",
       "      const element = document.createElement(\"link\");\n",
       "      element.onload = on_load;\n",
       "      element.onerror = on_error;\n",
       "      element.rel = \"stylesheet\";\n",
       "      element.type = \"text/css\";\n",
       "      element.href = url;\n",
       "      console.debug(\"Bokeh: injecting link tag for BokehJS stylesheet: \", url);\n",
       "      document.body.appendChild(element);\n",
       "    }\n",
       "\n",
       "    for (var i = 0; i < js_urls.length; i++) {\n",
       "      var url = js_urls[i];\n",
       "      var element = document.createElement('script');\n",
       "      element.onload = on_load;\n",
       "      element.onerror = on_error;\n",
       "      element.async = false;\n",
       "      element.src = url;\n",
       "      console.debug(\"Bokeh: injecting script tag for BokehJS library: \", url);\n",
       "      document.head.appendChild(element);\n",
       "    }\n",
       "  };var element = document.getElementById(\"1286\");\n",
       "  if (element == null) {\n",
       "    console.error(\"Bokeh: ERROR: autoload.js configured with elementid '1286' but no matching script tag was found. \")\n",
       "    return false;\n",
       "  }\n",
       "\n",
       "  function inject_raw_css(css) {\n",
       "    const element = document.createElement(\"style\");\n",
       "    element.appendChild(document.createTextNode(css));\n",
       "    document.body.appendChild(element);\n",
       "  }\n",
       "\n",
       "  var js_urls = [\"https://cdn.pydata.org/bokeh/release/bokeh-1.3.4.min.js\", \"https://cdn.pydata.org/bokeh/release/bokeh-widgets-1.3.4.min.js\", \"https://cdn.pydata.org/bokeh/release/bokeh-tables-1.3.4.min.js\", \"https://cdn.pydata.org/bokeh/release/bokeh-gl-1.3.4.min.js\"];\n",
       "  var css_urls = [];\n",
       "\n",
       "  var inline_js = [\n",
       "    function(Bokeh) {\n",
       "      Bokeh.set_log_level(\"info\");\n",
       "    },\n",
       "    \n",
       "    function(Bokeh) {\n",
       "      \n",
       "    },\n",
       "    function(Bokeh) {} // ensure no trailing comma for IE\n",
       "  ];\n",
       "\n",
       "  function run_inline_js() {\n",
       "    \n",
       "    if ((root.Bokeh !== undefined) || (force === true)) {\n",
       "      for (var i = 0; i < inline_js.length; i++) {\n",
       "        inline_js[i].call(root, root.Bokeh);\n",
       "      }if (force === true) {\n",
       "        display_loaded();\n",
       "      }} else if (Date.now() < root._bokeh_timeout) {\n",
       "      setTimeout(run_inline_js, 100);\n",
       "    } else if (!root._bokeh_failed_load) {\n",
       "      console.log(\"Bokeh: BokehJS failed to load within specified timeout.\");\n",
       "      root._bokeh_failed_load = true;\n",
       "    } else if (force !== true) {\n",
       "      var cell = $(document.getElementById(\"1286\")).parents('.cell').data().cell;\n",
       "      cell.output_area.append_execute_result(NB_LOAD_WARNING)\n",
       "    }\n",
       "\n",
       "  }\n",
       "\n",
       "  if (root._bokeh_is_loading === 0) {\n",
       "    console.debug(\"Bokeh: BokehJS loaded, going straight to plotting\");\n",
       "    run_inline_js();\n",
       "  } else {\n",
       "    load_libs(css_urls, js_urls, function() {\n",
       "      console.debug(\"Bokeh: BokehJS plotting callback run at\", now());\n",
       "      run_inline_js();\n",
       "    });\n",
       "  }\n",
       "}(window));"
      ],
      "application/vnd.bokehjs_load.v0+json": "\n(function(root) {\n  function now() {\n    return new Date();\n  }\n\n  var force = true;\n\n  if (typeof root._bokeh_onload_callbacks === \"undefined\" || force === true) {\n    root._bokeh_onload_callbacks = [];\n    root._bokeh_is_loading = undefined;\n  }\n\n  \n\n  \n  if (typeof (root._bokeh_timeout) === \"undefined\" || force === true) {\n    root._bokeh_timeout = Date.now() + 5000;\n    root._bokeh_failed_load = false;\n  }\n\n  var NB_LOAD_WARNING = {'data': {'text/html':\n     \"<div style='background-color: #fdd'>\\n\"+\n     \"<p>\\n\"+\n     \"BokehJS does not appear to have successfully loaded. If loading BokehJS from CDN, this \\n\"+\n     \"may be due to a slow or bad network connection. Possible fixes:\\n\"+\n     \"</p>\\n\"+\n     \"<ul>\\n\"+\n     \"<li>re-rerun `output_notebook()` to attempt to load from CDN again, or</li>\\n\"+\n     \"<li>use INLINE resources instead, as so:</li>\\n\"+\n     \"</ul>\\n\"+\n     \"<code>\\n\"+\n     \"from bokeh.resources import INLINE\\n\"+\n     \"output_notebook(resources=INLINE)\\n\"+\n     \"</code>\\n\"+\n     \"</div>\"}};\n\n  function display_loaded() {\n    var el = document.getElementById(\"1286\");\n    if (el != null) {\n      el.textContent = \"BokehJS is loading...\";\n    }\n    if (root.Bokeh !== undefined) {\n      if (el != null) {\n        el.textContent = \"BokehJS \" + root.Bokeh.version + \" successfully loaded.\";\n      }\n    } else if (Date.now() < root._bokeh_timeout) {\n      setTimeout(display_loaded, 100)\n    }\n  }\n\n\n  function run_callbacks() {\n    try {\n      root._bokeh_onload_callbacks.forEach(function(callback) {\n        if (callback != null)\n          callback();\n      });\n    } finally {\n      delete root._bokeh_onload_callbacks\n    }\n    console.debug(\"Bokeh: all callbacks have finished\");\n  }\n\n  function load_libs(css_urls, js_urls, callback) {\n    if (css_urls == null) css_urls = [];\n    if (js_urls == null) js_urls = [];\n\n    root._bokeh_onload_callbacks.push(callback);\n    if (root._bokeh_is_loading > 0) {\n      console.debug(\"Bokeh: BokehJS is being loaded, scheduling callback at\", now());\n      return null;\n    }\n    if (js_urls == null || js_urls.length === 0) {\n      run_callbacks();\n      return null;\n    }\n    console.debug(\"Bokeh: BokehJS not loaded, scheduling load and callback at\", now());\n    root._bokeh_is_loading = css_urls.length + js_urls.length;\n\n    function on_load() {\n      root._bokeh_is_loading--;\n      if (root._bokeh_is_loading === 0) {\n        console.debug(\"Bokeh: all BokehJS libraries/stylesheets loaded\");\n        run_callbacks()\n      }\n    }\n\n    function on_error() {\n      console.error(\"failed to load \" + url);\n    }\n\n    for (var i = 0; i < css_urls.length; i++) {\n      var url = css_urls[i];\n      const element = document.createElement(\"link\");\n      element.onload = on_load;\n      element.onerror = on_error;\n      element.rel = \"stylesheet\";\n      element.type = \"text/css\";\n      element.href = url;\n      console.debug(\"Bokeh: injecting link tag for BokehJS stylesheet: \", url);\n      document.body.appendChild(element);\n    }\n\n    for (var i = 0; i < js_urls.length; i++) {\n      var url = js_urls[i];\n      var element = document.createElement('script');\n      element.onload = on_load;\n      element.onerror = on_error;\n      element.async = false;\n      element.src = url;\n      console.debug(\"Bokeh: injecting script tag for BokehJS library: \", url);\n      document.head.appendChild(element);\n    }\n  };var element = document.getElementById(\"1286\");\n  if (element == null) {\n    console.error(\"Bokeh: ERROR: autoload.js configured with elementid '1286' but no matching script tag was found. \")\n    return false;\n  }\n\n  function inject_raw_css(css) {\n    const element = document.createElement(\"style\");\n    element.appendChild(document.createTextNode(css));\n    document.body.appendChild(element);\n  }\n\n  var js_urls = [\"https://cdn.pydata.org/bokeh/release/bokeh-1.3.4.min.js\", \"https://cdn.pydata.org/bokeh/release/bokeh-widgets-1.3.4.min.js\", \"https://cdn.pydata.org/bokeh/release/bokeh-tables-1.3.4.min.js\", \"https://cdn.pydata.org/bokeh/release/bokeh-gl-1.3.4.min.js\"];\n  var css_urls = [];\n\n  var inline_js = [\n    function(Bokeh) {\n      Bokeh.set_log_level(\"info\");\n    },\n    \n    function(Bokeh) {\n      \n    },\n    function(Bokeh) {} // ensure no trailing comma for IE\n  ];\n\n  function run_inline_js() {\n    \n    if ((root.Bokeh !== undefined) || (force === true)) {\n      for (var i = 0; i < inline_js.length; i++) {\n        inline_js[i].call(root, root.Bokeh);\n      }if (force === true) {\n        display_loaded();\n      }} else if (Date.now() < root._bokeh_timeout) {\n      setTimeout(run_inline_js, 100);\n    } else if (!root._bokeh_failed_load) {\n      console.log(\"Bokeh: BokehJS failed to load within specified timeout.\");\n      root._bokeh_failed_load = true;\n    } else if (force !== true) {\n      var cell = $(document.getElementById(\"1286\")).parents('.cell').data().cell;\n      cell.output_area.append_execute_result(NB_LOAD_WARNING)\n    }\n\n  }\n\n  if (root._bokeh_is_loading === 0) {\n    console.debug(\"Bokeh: BokehJS loaded, going straight to plotting\");\n    run_inline_js();\n  } else {\n    load_libs(css_urls, js_urls, function() {\n      console.debug(\"Bokeh: BokehJS plotting callback run at\", now());\n      run_inline_js();\n    });\n  }\n}(window));"
     },
     "metadata": {},
     "output_type": "display_data"
    },
    {
     "data": {
      "text/html": [
       "\n",
       "\n",
       "\n",
       "\n",
       "\n",
       "\n",
       "  <div class=\"bk-root\" id=\"86e528e4-b6c7-43b1-a53e-e6f29b79a2f8\" data-root-id=\"1287\"></div>\n"
      ]
     },
     "metadata": {},
     "output_type": "display_data"
    },
    {
     "data": {
      "application/javascript": [
       "(function(root) {\n",
       "  function embed_document(root) {\n",
       "    \n",
       "  var docs_json = {\"a0a1139d-6176-4fd3-a0b0-c9f06cdae2ec\":{\"roots\":{\"references\":[{\"attributes\":{\"ticker\":{\"id\":\"1299\",\"type\":\"BasicTicker\"}},\"id\":\"1302\",\"type\":\"Grid\"},{\"attributes\":{\"data_source\":{\"id\":\"1317\",\"type\":\"ColumnDataSource\"},\"glyph\":{\"id\":\"1319\",\"type\":\"Scatter\"},\"hover_glyph\":null,\"muted_glyph\":null,\"nonselection_glyph\":{\"id\":\"1320\",\"type\":\"Scatter\"},\"selection_glyph\":null,\"view\":{\"id\":\"1322\",\"type\":\"CDSView\"}},\"id\":\"1321\",\"type\":\"GlyphRenderer\"},{\"attributes\":{\"below\":[{\"id\":\"1298\",\"type\":\"LinearAxis\"}],\"center\":[{\"id\":\"1302\",\"type\":\"Grid\"},{\"id\":\"1307\",\"type\":\"Grid\"},{\"id\":\"1323\",\"type\":\"LabelSet\"}],\"left\":[{\"id\":\"1303\",\"type\":\"LinearAxis\"}],\"renderers\":[{\"id\":\"1321\",\"type\":\"GlyphRenderer\"}],\"title\":{\"id\":\"1288\",\"type\":\"Title\"},\"toolbar\":{\"id\":\"1312\",\"type\":\"Toolbar\"},\"toolbar_location\":\"above\",\"x_range\":{\"id\":\"1290\",\"type\":\"DataRange1d\"},\"x_scale\":{\"id\":\"1294\",\"type\":\"LinearScale\"},\"y_range\":{\"id\":\"1292\",\"type\":\"DataRange1d\"},\"y_scale\":{\"id\":\"1296\",\"type\":\"LinearScale\"}},\"id\":\"1287\",\"subtype\":\"Figure\",\"type\":\"Plot\"},{\"attributes\":{\"fill_color\":{\"value\":\"#1f77b4\"},\"line_color\":{\"value\":\"#1f77b4\"},\"size\":{\"units\":\"screen\",\"value\":8},\"x\":{\"field\":\"x1\"},\"y\":{\"field\":\"x2\"}},\"id\":\"1319\",\"type\":\"Scatter\"},{\"attributes\":{},\"id\":\"1351\",\"type\":\"UnionRenderers\"},{\"attributes\":{},\"id\":\"1296\",\"type\":\"LinearScale\"},{\"attributes\":{},\"id\":\"1308\",\"type\":\"PanTool\"},{\"attributes\":{},\"id\":\"1304\",\"type\":\"BasicTicker\"},{\"attributes\":{\"callback\":null},\"id\":\"1292\",\"type\":\"DataRange1d\"},{\"attributes\":{\"fill_alpha\":{\"value\":0.1},\"fill_color\":{\"value\":\"#1f77b4\"},\"line_alpha\":{\"value\":0.1},\"line_color\":{\"value\":\"#1f77b4\"},\"size\":{\"units\":\"screen\",\"value\":8},\"x\":{\"field\":\"x1\"},\"y\":{\"field\":\"x2\"}},\"id\":\"1320\",\"type\":\"Scatter\"},{\"attributes\":{},\"id\":\"1352\",\"type\":\"Selection\"},{\"attributes\":{\"source\":{\"id\":\"1317\",\"type\":\"ColumnDataSource\"},\"text\":{\"field\":\"names\"},\"text_align\":\"center\",\"text_color\":{\"value\":\"#555555\"},\"text_font_size\":{\"value\":\"8pt\"},\"x\":{\"field\":\"x1\"},\"y\":{\"field\":\"x2\"},\"y_offset\":{\"value\":6}},\"id\":\"1323\",\"type\":\"LabelSet\"},{\"attributes\":{},\"id\":\"1348\",\"type\":\"BasicTickFormatter\"},{\"attributes\":{},\"id\":\"1309\",\"type\":\"WheelZoomTool\"},{\"attributes\":{\"text\":\"word2vec T-SNE (eng model, top1000 words)\"},\"id\":\"1288\",\"type\":\"Title\"},{\"attributes\":{\"active_drag\":\"auto\",\"active_inspect\":\"auto\",\"active_multi\":null,\"active_scroll\":\"auto\",\"active_tap\":\"auto\",\"tools\":[{\"id\":\"1308\",\"type\":\"PanTool\"},{\"id\":\"1309\",\"type\":\"WheelZoomTool\"},{\"id\":\"1310\",\"type\":\"ResetTool\"},{\"id\":\"1311\",\"type\":\"SaveTool\"}]},\"id\":\"1312\",\"type\":\"Toolbar\"},{\"attributes\":{},\"id\":\"1310\",\"type\":\"ResetTool\"},{\"attributes\":{\"dimension\":1,\"ticker\":{\"id\":\"1304\",\"type\":\"BasicTicker\"}},\"id\":\"1307\",\"type\":\"Grid\"},{\"attributes\":{},\"id\":\"1294\",\"type\":\"LinearScale\"},{\"attributes\":{\"callback\":null},\"id\":\"1290\",\"type\":\"DataRange1d\"},{\"attributes\":{},\"id\":\"1299\",\"type\":\"BasicTicker\"},{\"attributes\":{\"formatter\":{\"id\":\"1350\",\"type\":\"BasicTickFormatter\"},\"ticker\":{\"id\":\"1299\",\"type\":\"BasicTicker\"}},\"id\":\"1298\",\"type\":\"LinearAxis\"},{\"attributes\":{},\"id\":\"1350\",\"type\":\"BasicTickFormatter\"},{\"attributes\":{\"formatter\":{\"id\":\"1348\",\"type\":\"BasicTickFormatter\"},\"ticker\":{\"id\":\"1304\",\"type\":\"BasicTicker\"}},\"id\":\"1303\",\"type\":\"LinearAxis\"},{\"attributes\":{},\"id\":\"1311\",\"type\":\"SaveTool\"},{\"attributes\":{\"source\":{\"id\":\"1317\",\"type\":\"ColumnDataSource\"}},\"id\":\"1322\",\"type\":\"CDSView\"},{\"attributes\":{\"callback\":null,\"data\":{\"names\":[\"the\",\"and\",\"a\",\"of\",\"to\",\"is\",\"it\",\"in\",\"i\",\"this\",\"that\",\"s\",\"was\",\"as\",\"with\",\"for\",\"movie\",\"but\",\"film\",\"you\",\"t\",\"on\",\"not\",\"he\",\"are\",\"his\",\"have\",\"be\",\"one\",\"all\",\"they\",\"at\",\"by\",\"who\",\"an\",\"from\",\"so\",\"like\",\"there\",\"or\",\"her\",\"just\",\"about\",\"out\",\"has\",\"if\",\"what\",\"some\",\"good\",\"can\",\"when\",\"more\",\"very\",\"she\",\"up\",\"no\",\"time\",\"even\",\"would\",\"their\",\"my\",\"which\",\"story\",\"only\",\"really\",\"see\",\"had\",\"were\",\"well\",\"me\",\"we\",\"than\",\"much\",\"bad\",\"been\",\"get\",\"people\",\"great\",\"into\",\"also\",\"do\",\"other\",\"first\",\"will\",\"him\",\"because\",\"most\",\"how\",\"don\",\"them\",\"make\",\"its\",\"made\",\"way\",\"could\",\"then\",\"too\",\"movies\",\"after\",\"any\",\"characters\",\"character\",\"films\",\"two\",\"think\",\"watch\",\"being\",\"plot\",\"many\",\"where\",\"never\",\"love\",\"seen\",\"little\",\"life\",\"acting\",\"best\",\"did\",\"off\",\"know\",\"over\",\"ever\",\"does\",\"show\",\"better\",\"man\",\"your\",\"end\",\"here\",\"scene\",\"while\",\"these\",\"why\",\"still\",\"scenes\",\"something\",\"say\",\"go\",\"m\",\"ve\",\"should\",\"back\",\"such\",\"real\",\"through\",\"those\",\"now\",\"re\",\"doesn\",\"watching\",\"thing\",\"director\",\"funny\",\"though\",\"years\",\"didn\",\"another\",\"actors\",\"new\",\"going\",\"old\",\"makes\",\"nothing\",\"actually\",\"before\",\"work\",\"look\",\"same\",\"find\",\"lot\",\"part\",\"few\",\"every\",\"again\",\"world\",\"action\",\"cast\",\"horror\",\"things\",\"us\",\"quite\",\"want\",\"down\",\"pretty\",\"young\",\"fact\",\"around\",\"seems\",\"enough\",\"both\",\"take\",\"long\",\"however\",\"thought\",\"got\",\"own\",\"give\",\"comedy\",\"between\",\"big\",\"d\",\"must\",\"series\",\"right\",\"may\",\"without\",\"role\",\"guy\",\"original\",\"interesting\",\"whole\",\"come\",\"isn\",\"times\",\"always\",\"saw\",\"least\",\"bit\",\"gets\",\"almost\",\"script\",\"point\",\"last\",\"music\",\"done\",\"minutes\",\"feel\",\"far\",\"since\",\"girl\",\"ll\",\"yet\",\"might\",\"making\",\"performance\",\"away\",\"family\",\"anything\",\"am\",\"probably\",\"hard\",\"woman\",\"tv\",\"kind\",\"fun\",\"rather\",\"day\",\"played\",\"worst\",\"each\",\"found\",\"sure\",\"anyone\",\"especially\",\"trying\",\"having\",\"our\",\"screen\",\"looking\",\"different\",\"believe\",\"sense\",\"place\",\"american\",\"although\",\"ending\",\"goes\",\"worth\",\"course\",\"set\",\"shows\",\"maybe\",\"three\",\"comes\",\"dvd\",\"money\",\"once\",\"everything\",\"plays\",\"effects\",\"put\",\"john\",\"looks\",\"actor\",\"main\",\"together\",\"during\",\"someone\",\"let\",\"wasn\",\"instead\",\"everyone\",\"war\",\"year\",\"reason\",\"takes\",\"special\",\"said\",\"high\",\"true\",\"night\",\"book\",\"seem\",\"job\",\"play\",\"watched\",\"audience\",\"later\",\"wife\",\"black\",\"death\",\"himself\",\"star\",\"half\",\"seeing\",\"used\",\"idea\",\"dead\",\"second\",\"men\",\"left\",\"excellent\",\"simply\",\"shot\",\"else\",\"beautiful\",\"sex\",\"completely\",\"budget\",\"father\",\"women\",\"mind\",\"house\",\"hollywood\",\"poor\",\"less\",\"fan\",\"along\",\"boring\",\"performances\",\"home\",\"line\",\"help\",\"nice\",\"try\",\"couple\",\"top\",\"version\",\"until\",\"either\",\"low\",\"camera\",\"next\",\"use\",\"friends\",\"short\",\"wrong\",\"start\",\"kids\",\"given\",\"mother\",\"read\",\"need\",\"full\",\"enjoy\",\"production\",\"classic\",\"perhaps\",\"school\",\"moments\",\"truly\",\"stupid\",\"keep\",\"awful\",\"getting\",\"rest\",\"video\",\"face\",\"tell\",\"mean\",\"others\",\"itself\",\"understand\",\"boy\",\"terrible\",\"small\",\"name\",\"style\",\"came\",\"won\",\"playing\",\"recommend\",\"doing\",\"lost\",\"definitely\",\"person\",\"dialogue\",\"gives\",\"entertaining\",\"wonderful\",\"often\",\"live\",\"lines\",\"hope\",\"went\",\"stars\",\"case\",\"remember\",\"written\",\"head\",\"couldn\",\"early\",\"title\",\"yes\",\"human\",\"perfect\",\"become\",\"based\",\"friend\",\"children\",\"certainly\",\"liked\",\"problem\",\"drama\",\"son\",\"picture\",\"fans\",\"several\",\"under\",\"lead\",\"laugh\",\"oh\",\"humor\",\"guys\",\"supposed\",\"direction\",\"against\",\"absolutely\",\"overall\",\"sort\",\"piece\",\"episode\",\"finally\",\"game\",\"lives\",\"called\",\"entire\",\"evil\",\"cinema\",\"worse\",\"care\",\"waste\",\"killer\",\"dark\",\"beginning\",\"felt\",\"despite\",\"seemed\",\"genre\",\"final\",\"b\",\"totally\",\"history\",\"wanted\",\"unfortunately\",\"town\",\"throughout\",\"white\",\"becomes\",\"city\",\"able\",\"days\",\"already\",\"turn\",\"guess\",\"run\",\"loved\",\"fine\",\"act\",\"mr\",\"flick\",\"today\",\"horrible\",\"heart\",\"side\",\"hand\",\"kill\",\"tries\",\"wants\",\"starts\",\"quality\",\"killed\",\"past\",\"themselves\",\"child\",\"close\",\"matter\",\"group\",\"sound\",\"turns\",\"parts\",\"daughter\",\"viewer\",\"etc\",\"expect\",\"fight\",\"car\",\"enjoyed\",\"directed\",\"writing\",\"decent\",\"type\",\"violence\",\"stop\",\"example\",\"stuff\",\"self\",\"kid\",\"amazing\",\"behind\",\"soon\",\"blood\",\"favorite\",\"works\",\"known\",\"thinking\",\"gave\",\"obviously\",\"sometimes\",\"hero\",\"eyes\",\"actress\",\"girls\",\"michael\",\"happened\",\"brilliant\",\"stories\",\"except\",\"myself\",\"coming\",\"hour\",\"says\",\"writer\",\"late\",\"husband\",\"extremely\",\"experience\",\"hell\",\"happens\",\"art\",\"heard\",\"police\",\"took\",\"roles\",\"feeling\",\"leave\",\"highly\",\"attempt\",\"taken\",\"interest\",\"wouldn\",\"murder\",\"moment\",\"slow\",\"score\",\"god\",\"including\",\"looked\",\"obvious\",\"involved\",\"living\",\"anyway\",\"robert\",\"david\",\"cool\",\"hours\",\"save\",\"ok\",\"age\",\"voice\",\"o\",\"told\",\"career\",\"across\",\"wonder\",\"none\",\"strong\",\"cut\",\"happen\",\"please\",\"gore\",\"simple\",\"hilarious\",\"brother\",\"exactly\",\"important\",\"power\",\"chance\",\"ago\",\"james\",\"particularly\",\"relationship\",\"documentary\",\"level\",\"complete\",\"female\",\"light\",\"annoying\",\"possible\",\"serious\",\"cannot\",\"hit\",\"crap\",\"sad\",\"running\",\"lack\",\"sequel\",\"talent\",\"usually\",\"whose\",\"reality\",\"basically\",\"ends\",\"seriously\",\"strange\",\"order\",\"finds\",\"call\",\"taking\",\"somewhat\",\"room\",\"happy\",\"silly\",\"scary\",\"middle\",\"turned\",\"alone\",\"apparently\",\"ridiculous\",\"change\",\"clich\",\"country\",\"mostly\",\"attention\",\"miss\",\"usual\",\"four\",\"shown\",\"body\",\"song\",\"wish\",\"jokes\",\"opening\",\"number\",\"released\",\"disappointed\",\"word\",\"jack\",\"thriller\",\"single\",\"opinion\",\"straight\",\"future\",\"english\",\"words\",\"parents\",\"novel\",\"saying\",\"yourself\",\"cinematography\",\"view\",\"cheap\",\"started\",\"french\",\"beyond\",\"huge\",\"talking\",\"non\",\"clearly\",\"sets\",\"talk\",\"major\",\"die\",\"shots\",\"rating\",\"knew\",\"problems\",\"knows\",\"gay\",\"modern\",\"fast\",\"british\",\"due\",\"events\",\"tells\",\"add\",\"comic\",\"bring\",\"clear\",\"ones\",\"hate\",\"above\",\"storyline\",\"york\",\"easy\",\"typical\",\"entertainment\",\"aren\",\"haven\",\"easily\",\"within\",\"local\",\"upon\",\"general\",\"dialog\",\"crime\",\"ten\",\"giving\",\"george\",\"lots\",\"sequence\",\"america\",\"ways\",\"falls\",\"similar\",\"begins\",\"class\",\"appears\",\"near\",\"named\",\"mystery\",\"bunch\",\"king\",\"filmed\",\"elements\",\"romantic\",\"certain\",\"team\",\"review\",\"predictable\",\"working\",\"avoid\",\"stand\",\"de\",\"earth\",\"e\",\"sorry\",\"th\",\"television\",\"mention\",\"enjoyable\",\"supporting\",\"tale\",\"theme\",\"message\",\"points\",\"cop\",\"gone\",\"among\",\"fall\",\"space\",\"tom\",\"viewers\",\"eye\",\"red\",\"truth\",\"leads\",\"surprised\",\"stay\",\"release\",\"kept\",\"minute\",\"richard\",\"five\",\"dull\",\"killing\",\"using\",\"effort\",\"monster\",\"third\",\"brought\",\"feels\",\"musical\",\"suspense\",\"tried\",\"means\",\"whether\",\"comments\",\"sequences\",\"dog\",\"moving\",\"peter\",\"period\",\"lee\",\"needs\",\"doubt\",\"fi\",\"showing\",\"buy\",\"okay\",\"sci\",\"somehow\",\"soundtrack\",\"viewing\",\"herself\",\"rent\",\"average\",\"nearly\",\"songs\",\"theater\",\"reviews\",\"episodes\",\"follow\",\"whatever\",\"surprise\",\"feature\",\"form\",\"move\",\"forget\",\"realistic\",\"believable\",\"free\",\"premise\",\"material\",\"sister\",\"editing\",\"deep\",\"brothers\",\"gun\",\"imagine\",\"forced\",\"famous\",\"poorly\",\"deal\",\"crew\",\"western\",\"indeed\",\"check\",\"expected\",\"possibly\",\"fantastic\",\"figure\",\"lame\",\"society\",\"dr\",\"otherwise\",\"learn\",\"open\",\"paul\",\"eventually\",\"plus\",\"lady\",\"weak\",\"hear\",\"stage\",\"sexual\",\"leaves\",\"question\",\"note\",\"difficult\",\"sit\",\"towards\",\"box\",\"romance\",\"situation\",\"begin\",\"earlier\",\"personal\",\"atmosphere\",\"reading\",\"male\",\"screenplay\",\"wait\",\"joe\",\"decided\",\"battle\",\"interested\",\"previous\",\"powerful\",\"business\",\"greatest\",\"actual\",\"hot\",\"nor\",\"became\",\"cheesy\",\"acted\",\"worked\",\"animation\",\"subject\",\"island\",\"effect\",\"footage\",\"era\",\"result\",\"mess\",\"oscar\",\"meet\",\"rock\",\"credits\",\"features\",\"particular\",\"whom\",\"memorable\",\"boys\",\"air\",\"setting\",\"perfectly\",\"writers\",\"laughs\",\"street\",\"shame\",\"quickly\",\"older\",\"rich\",\"hands\",\"background\",\"keeps\",\"twist\",\"dramatic\",\"bill\",\"present\",\"total\",\"various\",\"pay\",\"appear\",\"telling\",\"directing\",\"party\",\"william\",\"alien\",\"unless\",\"harry\",\"mark\",\"crazy\",\"realize\",\"badly\",\"front\",\"forward\",\"girlfriend\",\"needed\",\"comment\",\"emotional\",\"imdb\",\"development\",\"fighting\",\"break\",\"secret\",\"fairly\",\"unique\",\"c\",\"baby\",\"outside\",\"manages\",\"married\",\"plenty\",\"villain\",\"apart\",\"missing\",\"masterpiece\",\"nature\",\"brings\",\"remake\",\"write\",\"former\",\"superb\",\"weird\",\"doctor\",\"clever\",\"list\",\"escape\",\"incredibly\",\"meets\",\"hold\",\"reasons\",\"created\",\"sounds\",\"sam\",\"inside\",\"unlike\",\"leading\",\"laughing\",\"ideas\",\"japanese\",\"season\",\"prison\",\"directors\",\"copy\",\"cute\",\"return\",\"public\",\"violent\",\"political\",\"success\",\"force\",\"create\",\"caught\",\"admit\",\"meant\",\"water\"],\"x1\":{\"__ndarray__\":\"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\",\"dtype\":\"float32\",\"shape\":[1000]},\"x2\":{\"__ndarray__\":\"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\",\"dtype\":\"float32\",\"shape\":[1000]}},\"selected\":{\"id\":\"1352\",\"type\":\"Selection\"},\"selection_policy\":{\"id\":\"1351\",\"type\":\"UnionRenderers\"}},\"id\":\"1317\",\"type\":\"ColumnDataSource\"}],\"root_ids\":[\"1287\"]},\"title\":\"Bokeh Application\",\"version\":\"1.3.4\"}};\n",
       "  var render_items = [{\"docid\":\"a0a1139d-6176-4fd3-a0b0-c9f06cdae2ec\",\"roots\":{\"1287\":\"86e528e4-b6c7-43b1-a53e-e6f29b79a2f8\"}}];\n",
       "  root.Bokeh.embed.embed_items_notebook(docs_json, render_items);\n",
       "\n",
       "  }\n",
       "  if (root.Bokeh !== undefined) {\n",
       "    embed_document(root);\n",
       "  } else {\n",
       "    var attempts = 0;\n",
       "    var timer = setInterval(function(root) {\n",
       "      if (root.Bokeh !== undefined) {\n",
       "        embed_document(root);\n",
       "        clearInterval(timer);\n",
       "      }\n",
       "      attempts++;\n",
       "      if (attempts > 100) {\n",
       "        console.log(\"Bokeh: ERROR: Unable to run BokehJS code because BokehJS library is missing\");\n",
       "        clearInterval(timer);\n",
       "      }\n",
       "    }, 10, root)\n",
       "  }\n",
       "})(window);"
      ],
      "application/vnd.bokehjs_exec.v0+json": ""
     },
     "metadata": {
      "application/vnd.bokehjs_exec.v0+json": {
       "id": "1287"
      }
     },
     "output_type": "display_data"
    }
   ],
   "source": [
    "from bokeh.models import ColumnDataSource, LabelSet\n",
    "from bokeh.plotting import figure, show, output_file\n",
    "from bokeh.io import output_notebook\n",
    "output_notebook()\n",
    "\n",
    "p = figure(tools=\"pan,wheel_zoom,reset,save\",\n",
    "           toolbar_location=\"above\",\n",
    "           title=\"word2vec T-SNE (eng model, top1000 words)\")\n",
    "\n",
    "source = ColumnDataSource(data=dict(x1=top_words_tsne[:,0],\n",
    "                                    x2=top_words_tsne[:,1],\n",
    "                                    names=top_words))\n",
    "\n",
    "p.scatter(x=\"x1\", y=\"x2\", size=8, source=source)\n",
    "\n",
    "labels = LabelSet(x=\"x1\", y=\"x2\", text=\"names\", y_offset=6,\n",
    "                  text_font_size=\"8pt\", text_color=\"#555555\",\n",
    "                  source=source, text_align='center')\n",
    "p.add_layout(labels)\n",
    "\n",
    "show(p)"
   ]
  },
  {
   "cell_type": "markdown",
   "metadata": {
    "colab_type": "text",
    "id": "2Szes63RX-sl"
   },
   "source": [
    "Чтобы вычислить преобразование t-SNE быстрее (и иногда еще и эффективнее), можно сперва снизить размерность исходных данных с помощью, например, SVD, и потом применять t-SNE:"
   ]
  },
  {
   "cell_type": "code",
   "execution_count": 64,
   "metadata": {
    "colab": {},
    "colab_type": "code",
    "id": "p0R7hvIfX-sm"
   },
   "outputs": [],
   "source": [
    "from sklearn.decomposition import TruncatedSVD\n",
    "\n",
    "svd_50 = TruncatedSVD(n_components=50)\n",
    "top_words_vec_50 = svd_50.fit_transform(top_words_vec)\n",
    "top_words_tsne2 = TSNE(n_components=2, random_state=0).fit_transform(top_words_vec_50)"
   ]
  },
  {
   "cell_type": "code",
   "execution_count": 65,
   "metadata": {
    "colab": {
     "base_uri": "https://localhost:8080/",
     "height": 617
    },
    "colab_type": "code",
    "id": "zpUJyJibX-sn",
    "outputId": "1c577f96-6f95-4bae-c327-98966e2e9a52"
   },
   "outputs": [
    {
     "data": {
      "text/html": [
       "\n",
       "    <div class=\"bk-root\">\n",
       "        <a href=\"https://bokeh.pydata.org\" target=\"_blank\" class=\"bk-logo bk-logo-small bk-logo-notebook\"></a>\n",
       "        <span id=\"1395\">Loading BokehJS ...</span>\n",
       "    </div>"
      ]
     },
     "metadata": {},
     "output_type": "display_data"
    },
    {
     "data": {
      "application/javascript": [
       "\n",
       "(function(root) {\n",
       "  function now() {\n",
       "    return new Date();\n",
       "  }\n",
       "\n",
       "  var force = true;\n",
       "\n",
       "  if (typeof root._bokeh_onload_callbacks === \"undefined\" || force === true) {\n",
       "    root._bokeh_onload_callbacks = [];\n",
       "    root._bokeh_is_loading = undefined;\n",
       "  }\n",
       "\n",
       "  var JS_MIME_TYPE = 'application/javascript';\n",
       "  var HTML_MIME_TYPE = 'text/html';\n",
       "  var EXEC_MIME_TYPE = 'application/vnd.bokehjs_exec.v0+json';\n",
       "  var CLASS_NAME = 'output_bokeh rendered_html';\n",
       "\n",
       "  /**\n",
       "   * Render data to the DOM node\n",
       "   */\n",
       "  function render(props, node) {\n",
       "    var script = document.createElement(\"script\");\n",
       "    node.appendChild(script);\n",
       "  }\n",
       "\n",
       "  /**\n",
       "   * Handle when an output is cleared or removed\n",
       "   */\n",
       "  function handleClearOutput(event, handle) {\n",
       "    var cell = handle.cell;\n",
       "\n",
       "    var id = cell.output_area._bokeh_element_id;\n",
       "    var server_id = cell.output_area._bokeh_server_id;\n",
       "    // Clean up Bokeh references\n",
       "    if (id != null && id in Bokeh.index) {\n",
       "      Bokeh.index[id].model.document.clear();\n",
       "      delete Bokeh.index[id];\n",
       "    }\n",
       "\n",
       "    if (server_id !== undefined) {\n",
       "      // Clean up Bokeh references\n",
       "      var cmd = \"from bokeh.io.state import curstate; print(curstate().uuid_to_server['\" + server_id + \"'].get_sessions()[0].document.roots[0]._id)\";\n",
       "      cell.notebook.kernel.execute(cmd, {\n",
       "        iopub: {\n",
       "          output: function(msg) {\n",
       "            var id = msg.content.text.trim();\n",
       "            if (id in Bokeh.index) {\n",
       "              Bokeh.index[id].model.document.clear();\n",
       "              delete Bokeh.index[id];\n",
       "            }\n",
       "          }\n",
       "        }\n",
       "      });\n",
       "      // Destroy server and session\n",
       "      var cmd = \"import bokeh.io.notebook as ion; ion.destroy_server('\" + server_id + \"')\";\n",
       "      cell.notebook.kernel.execute(cmd);\n",
       "    }\n",
       "  }\n",
       "\n",
       "  /**\n",
       "   * Handle when a new output is added\n",
       "   */\n",
       "  function handleAddOutput(event, handle) {\n",
       "    var output_area = handle.output_area;\n",
       "    var output = handle.output;\n",
       "\n",
       "    // limit handleAddOutput to display_data with EXEC_MIME_TYPE content only\n",
       "    if ((output.output_type != \"display_data\") || (!output.data.hasOwnProperty(EXEC_MIME_TYPE))) {\n",
       "      return\n",
       "    }\n",
       "\n",
       "    var toinsert = output_area.element.find(\".\" + CLASS_NAME.split(' ')[0]);\n",
       "\n",
       "    if (output.metadata[EXEC_MIME_TYPE][\"id\"] !== undefined) {\n",
       "      toinsert[toinsert.length - 1].firstChild.textContent = output.data[JS_MIME_TYPE];\n",
       "      // store reference to embed id on output_area\n",
       "      output_area._bokeh_element_id = output.metadata[EXEC_MIME_TYPE][\"id\"];\n",
       "    }\n",
       "    if (output.metadata[EXEC_MIME_TYPE][\"server_id\"] !== undefined) {\n",
       "      var bk_div = document.createElement(\"div\");\n",
       "      bk_div.innerHTML = output.data[HTML_MIME_TYPE];\n",
       "      var script_attrs = bk_div.children[0].attributes;\n",
       "      for (var i = 0; i < script_attrs.length; i++) {\n",
       "        toinsert[toinsert.length - 1].firstChild.setAttribute(script_attrs[i].name, script_attrs[i].value);\n",
       "      }\n",
       "      // store reference to server id on output_area\n",
       "      output_area._bokeh_server_id = output.metadata[EXEC_MIME_TYPE][\"server_id\"];\n",
       "    }\n",
       "  }\n",
       "\n",
       "  function register_renderer(events, OutputArea) {\n",
       "\n",
       "    function append_mime(data, metadata, element) {\n",
       "      // create a DOM node to render to\n",
       "      var toinsert = this.create_output_subarea(\n",
       "        metadata,\n",
       "        CLASS_NAME,\n",
       "        EXEC_MIME_TYPE\n",
       "      );\n",
       "      this.keyboard_manager.register_events(toinsert);\n",
       "      // Render to node\n",
       "      var props = {data: data, metadata: metadata[EXEC_MIME_TYPE]};\n",
       "      render(props, toinsert[toinsert.length - 1]);\n",
       "      element.append(toinsert);\n",
       "      return toinsert\n",
       "    }\n",
       "\n",
       "    /* Handle when an output is cleared or removed */\n",
       "    events.on('clear_output.CodeCell', handleClearOutput);\n",
       "    events.on('delete.Cell', handleClearOutput);\n",
       "\n",
       "    /* Handle when a new output is added */\n",
       "    events.on('output_added.OutputArea', handleAddOutput);\n",
       "\n",
       "    /**\n",
       "     * Register the mime type and append_mime function with output_area\n",
       "     */\n",
       "    OutputArea.prototype.register_mime_type(EXEC_MIME_TYPE, append_mime, {\n",
       "      /* Is output safe? */\n",
       "      safe: true,\n",
       "      /* Index of renderer in `output_area.display_order` */\n",
       "      index: 0\n",
       "    });\n",
       "  }\n",
       "\n",
       "  // register the mime type if in Jupyter Notebook environment and previously unregistered\n",
       "  if (root.Jupyter !== undefined) {\n",
       "    var events = require('base/js/events');\n",
       "    var OutputArea = require('notebook/js/outputarea').OutputArea;\n",
       "\n",
       "    if (OutputArea.prototype.mime_types().indexOf(EXEC_MIME_TYPE) == -1) {\n",
       "      register_renderer(events, OutputArea);\n",
       "    }\n",
       "  }\n",
       "\n",
       "  \n",
       "  if (typeof (root._bokeh_timeout) === \"undefined\" || force === true) {\n",
       "    root._bokeh_timeout = Date.now() + 5000;\n",
       "    root._bokeh_failed_load = false;\n",
       "  }\n",
       "\n",
       "  var NB_LOAD_WARNING = {'data': {'text/html':\n",
       "     \"<div style='background-color: #fdd'>\\n\"+\n",
       "     \"<p>\\n\"+\n",
       "     \"BokehJS does not appear to have successfully loaded. If loading BokehJS from CDN, this \\n\"+\n",
       "     \"may be due to a slow or bad network connection. Possible fixes:\\n\"+\n",
       "     \"</p>\\n\"+\n",
       "     \"<ul>\\n\"+\n",
       "     \"<li>re-rerun `output_notebook()` to attempt to load from CDN again, or</li>\\n\"+\n",
       "     \"<li>use INLINE resources instead, as so:</li>\\n\"+\n",
       "     \"</ul>\\n\"+\n",
       "     \"<code>\\n\"+\n",
       "     \"from bokeh.resources import INLINE\\n\"+\n",
       "     \"output_notebook(resources=INLINE)\\n\"+\n",
       "     \"</code>\\n\"+\n",
       "     \"</div>\"}};\n",
       "\n",
       "  function display_loaded() {\n",
       "    var el = document.getElementById(\"1395\");\n",
       "    if (el != null) {\n",
       "      el.textContent = \"BokehJS is loading...\";\n",
       "    }\n",
       "    if (root.Bokeh !== undefined) {\n",
       "      if (el != null) {\n",
       "        el.textContent = \"BokehJS \" + root.Bokeh.version + \" successfully loaded.\";\n",
       "      }\n",
       "    } else if (Date.now() < root._bokeh_timeout) {\n",
       "      setTimeout(display_loaded, 100)\n",
       "    }\n",
       "  }\n",
       "\n",
       "\n",
       "  function run_callbacks() {\n",
       "    try {\n",
       "      root._bokeh_onload_callbacks.forEach(function(callback) {\n",
       "        if (callback != null)\n",
       "          callback();\n",
       "      });\n",
       "    } finally {\n",
       "      delete root._bokeh_onload_callbacks\n",
       "    }\n",
       "    console.debug(\"Bokeh: all callbacks have finished\");\n",
       "  }\n",
       "\n",
       "  function load_libs(css_urls, js_urls, callback) {\n",
       "    if (css_urls == null) css_urls = [];\n",
       "    if (js_urls == null) js_urls = [];\n",
       "\n",
       "    root._bokeh_onload_callbacks.push(callback);\n",
       "    if (root._bokeh_is_loading > 0) {\n",
       "      console.debug(\"Bokeh: BokehJS is being loaded, scheduling callback at\", now());\n",
       "      return null;\n",
       "    }\n",
       "    if (js_urls == null || js_urls.length === 0) {\n",
       "      run_callbacks();\n",
       "      return null;\n",
       "    }\n",
       "    console.debug(\"Bokeh: BokehJS not loaded, scheduling load and callback at\", now());\n",
       "    root._bokeh_is_loading = css_urls.length + js_urls.length;\n",
       "\n",
       "    function on_load() {\n",
       "      root._bokeh_is_loading--;\n",
       "      if (root._bokeh_is_loading === 0) {\n",
       "        console.debug(\"Bokeh: all BokehJS libraries/stylesheets loaded\");\n",
       "        run_callbacks()\n",
       "      }\n",
       "    }\n",
       "\n",
       "    function on_error() {\n",
       "      console.error(\"failed to load \" + url);\n",
       "    }\n",
       "\n",
       "    for (var i = 0; i < css_urls.length; i++) {\n",
       "      var url = css_urls[i];\n",
       "      const element = document.createElement(\"link\");\n",
       "      element.onload = on_load;\n",
       "      element.onerror = on_error;\n",
       "      element.rel = \"stylesheet\";\n",
       "      element.type = \"text/css\";\n",
       "      element.href = url;\n",
       "      console.debug(\"Bokeh: injecting link tag for BokehJS stylesheet: \", url);\n",
       "      document.body.appendChild(element);\n",
       "    }\n",
       "\n",
       "    for (var i = 0; i < js_urls.length; i++) {\n",
       "      var url = js_urls[i];\n",
       "      var element = document.createElement('script');\n",
       "      element.onload = on_load;\n",
       "      element.onerror = on_error;\n",
       "      element.async = false;\n",
       "      element.src = url;\n",
       "      console.debug(\"Bokeh: injecting script tag for BokehJS library: \", url);\n",
       "      document.head.appendChild(element);\n",
       "    }\n",
       "  };var element = document.getElementById(\"1395\");\n",
       "  if (element == null) {\n",
       "    console.error(\"Bokeh: ERROR: autoload.js configured with elementid '1395' but no matching script tag was found. \")\n",
       "    return false;\n",
       "  }\n",
       "\n",
       "  function inject_raw_css(css) {\n",
       "    const element = document.createElement(\"style\");\n",
       "    element.appendChild(document.createTextNode(css));\n",
       "    document.body.appendChild(element);\n",
       "  }\n",
       "\n",
       "  var js_urls = [\"https://cdn.pydata.org/bokeh/release/bokeh-1.3.4.min.js\", \"https://cdn.pydata.org/bokeh/release/bokeh-widgets-1.3.4.min.js\", \"https://cdn.pydata.org/bokeh/release/bokeh-tables-1.3.4.min.js\", \"https://cdn.pydata.org/bokeh/release/bokeh-gl-1.3.4.min.js\"];\n",
       "  var css_urls = [];\n",
       "\n",
       "  var inline_js = [\n",
       "    function(Bokeh) {\n",
       "      Bokeh.set_log_level(\"info\");\n",
       "    },\n",
       "    \n",
       "    function(Bokeh) {\n",
       "      \n",
       "    },\n",
       "    function(Bokeh) {} // ensure no trailing comma for IE\n",
       "  ];\n",
       "\n",
       "  function run_inline_js() {\n",
       "    \n",
       "    if ((root.Bokeh !== undefined) || (force === true)) {\n",
       "      for (var i = 0; i < inline_js.length; i++) {\n",
       "        inline_js[i].call(root, root.Bokeh);\n",
       "      }if (force === true) {\n",
       "        display_loaded();\n",
       "      }} else if (Date.now() < root._bokeh_timeout) {\n",
       "      setTimeout(run_inline_js, 100);\n",
       "    } else if (!root._bokeh_failed_load) {\n",
       "      console.log(\"Bokeh: BokehJS failed to load within specified timeout.\");\n",
       "      root._bokeh_failed_load = true;\n",
       "    } else if (force !== true) {\n",
       "      var cell = $(document.getElementById(\"1395\")).parents('.cell').data().cell;\n",
       "      cell.output_area.append_execute_result(NB_LOAD_WARNING)\n",
       "    }\n",
       "\n",
       "  }\n",
       "\n",
       "  if (root._bokeh_is_loading === 0) {\n",
       "    console.debug(\"Bokeh: BokehJS loaded, going straight to plotting\");\n",
       "    run_inline_js();\n",
       "  } else {\n",
       "    load_libs(css_urls, js_urls, function() {\n",
       "      console.debug(\"Bokeh: BokehJS plotting callback run at\", now());\n",
       "      run_inline_js();\n",
       "    });\n",
       "  }\n",
       "}(window));"
      ],
      "application/vnd.bokehjs_load.v0+json": "\n(function(root) {\n  function now() {\n    return new Date();\n  }\n\n  var force = true;\n\n  if (typeof root._bokeh_onload_callbacks === \"undefined\" || force === true) {\n    root._bokeh_onload_callbacks = [];\n    root._bokeh_is_loading = undefined;\n  }\n\n  \n\n  \n  if (typeof (root._bokeh_timeout) === \"undefined\" || force === true) {\n    root._bokeh_timeout = Date.now() + 5000;\n    root._bokeh_failed_load = false;\n  }\n\n  var NB_LOAD_WARNING = {'data': {'text/html':\n     \"<div style='background-color: #fdd'>\\n\"+\n     \"<p>\\n\"+\n     \"BokehJS does not appear to have successfully loaded. If loading BokehJS from CDN, this \\n\"+\n     \"may be due to a slow or bad network connection. Possible fixes:\\n\"+\n     \"</p>\\n\"+\n     \"<ul>\\n\"+\n     \"<li>re-rerun `output_notebook()` to attempt to load from CDN again, or</li>\\n\"+\n     \"<li>use INLINE resources instead, as so:</li>\\n\"+\n     \"</ul>\\n\"+\n     \"<code>\\n\"+\n     \"from bokeh.resources import INLINE\\n\"+\n     \"output_notebook(resources=INLINE)\\n\"+\n     \"</code>\\n\"+\n     \"</div>\"}};\n\n  function display_loaded() {\n    var el = document.getElementById(\"1395\");\n    if (el != null) {\n      el.textContent = \"BokehJS is loading...\";\n    }\n    if (root.Bokeh !== undefined) {\n      if (el != null) {\n        el.textContent = \"BokehJS \" + root.Bokeh.version + \" successfully loaded.\";\n      }\n    } else if (Date.now() < root._bokeh_timeout) {\n      setTimeout(display_loaded, 100)\n    }\n  }\n\n\n  function run_callbacks() {\n    try {\n      root._bokeh_onload_callbacks.forEach(function(callback) {\n        if (callback != null)\n          callback();\n      });\n    } finally {\n      delete root._bokeh_onload_callbacks\n    }\n    console.debug(\"Bokeh: all callbacks have finished\");\n  }\n\n  function load_libs(css_urls, js_urls, callback) {\n    if (css_urls == null) css_urls = [];\n    if (js_urls == null) js_urls = [];\n\n    root._bokeh_onload_callbacks.push(callback);\n    if (root._bokeh_is_loading > 0) {\n      console.debug(\"Bokeh: BokehJS is being loaded, scheduling callback at\", now());\n      return null;\n    }\n    if (js_urls == null || js_urls.length === 0) {\n      run_callbacks();\n      return null;\n    }\n    console.debug(\"Bokeh: BokehJS not loaded, scheduling load and callback at\", now());\n    root._bokeh_is_loading = css_urls.length + js_urls.length;\n\n    function on_load() {\n      root._bokeh_is_loading--;\n      if (root._bokeh_is_loading === 0) {\n        console.debug(\"Bokeh: all BokehJS libraries/stylesheets loaded\");\n        run_callbacks()\n      }\n    }\n\n    function on_error() {\n      console.error(\"failed to load \" + url);\n    }\n\n    for (var i = 0; i < css_urls.length; i++) {\n      var url = css_urls[i];\n      const element = document.createElement(\"link\");\n      element.onload = on_load;\n      element.onerror = on_error;\n      element.rel = \"stylesheet\";\n      element.type = \"text/css\";\n      element.href = url;\n      console.debug(\"Bokeh: injecting link tag for BokehJS stylesheet: \", url);\n      document.body.appendChild(element);\n    }\n\n    for (var i = 0; i < js_urls.length; i++) {\n      var url = js_urls[i];\n      var element = document.createElement('script');\n      element.onload = on_load;\n      element.onerror = on_error;\n      element.async = false;\n      element.src = url;\n      console.debug(\"Bokeh: injecting script tag for BokehJS library: \", url);\n      document.head.appendChild(element);\n    }\n  };var element = document.getElementById(\"1395\");\n  if (element == null) {\n    console.error(\"Bokeh: ERROR: autoload.js configured with elementid '1395' but no matching script tag was found. \")\n    return false;\n  }\n\n  function inject_raw_css(css) {\n    const element = document.createElement(\"style\");\n    element.appendChild(document.createTextNode(css));\n    document.body.appendChild(element);\n  }\n\n  var js_urls = [\"https://cdn.pydata.org/bokeh/release/bokeh-1.3.4.min.js\", \"https://cdn.pydata.org/bokeh/release/bokeh-widgets-1.3.4.min.js\", \"https://cdn.pydata.org/bokeh/release/bokeh-tables-1.3.4.min.js\", \"https://cdn.pydata.org/bokeh/release/bokeh-gl-1.3.4.min.js\"];\n  var css_urls = [];\n\n  var inline_js = [\n    function(Bokeh) {\n      Bokeh.set_log_level(\"info\");\n    },\n    \n    function(Bokeh) {\n      \n    },\n    function(Bokeh) {} // ensure no trailing comma for IE\n  ];\n\n  function run_inline_js() {\n    \n    if ((root.Bokeh !== undefined) || (force === true)) {\n      for (var i = 0; i < inline_js.length; i++) {\n        inline_js[i].call(root, root.Bokeh);\n      }if (force === true) {\n        display_loaded();\n      }} else if (Date.now() < root._bokeh_timeout) {\n      setTimeout(run_inline_js, 100);\n    } else if (!root._bokeh_failed_load) {\n      console.log(\"Bokeh: BokehJS failed to load within specified timeout.\");\n      root._bokeh_failed_load = true;\n    } else if (force !== true) {\n      var cell = $(document.getElementById(\"1395\")).parents('.cell').data().cell;\n      cell.output_area.append_execute_result(NB_LOAD_WARNING)\n    }\n\n  }\n\n  if (root._bokeh_is_loading === 0) {\n    console.debug(\"Bokeh: BokehJS loaded, going straight to plotting\");\n    run_inline_js();\n  } else {\n    load_libs(css_urls, js_urls, function() {\n      console.debug(\"Bokeh: BokehJS plotting callback run at\", now());\n      run_inline_js();\n    });\n  }\n}(window));"
     },
     "metadata": {},
     "output_type": "display_data"
    },
    {
     "data": {
      "text/html": [
       "\n",
       "\n",
       "\n",
       "\n",
       "\n",
       "\n",
       "  <div class=\"bk-root\" id=\"7cc4db70-8630-4522-a67e-a99f4bd9002f\" data-root-id=\"1396\"></div>\n"
      ]
     },
     "metadata": {},
     "output_type": "display_data"
    },
    {
     "data": {
      "application/javascript": [
       "(function(root) {\n",
       "  function embed_document(root) {\n",
       "    \n",
       "  var docs_json = {\"7a352117-ad77-4db0-907a-0c9e3f095856\":{\"roots\":{\"references\":[{\"attributes\":{},\"id\":\"1420\",\"type\":\"SaveTool\"},{\"attributes\":{},\"id\":\"1464\",\"type\":\"BasicTickFormatter\"},{\"attributes\":{},\"id\":\"1467\",\"type\":\"UnionRenderers\"},{\"attributes\":{},\"id\":\"1405\",\"type\":\"LinearScale\"},{\"attributes\":{},\"id\":\"1403\",\"type\":\"LinearScale\"},{\"attributes\":{\"callback\":null,\"data\":{\"names\":[\"the\",\"and\",\"a\",\"of\",\"to\",\"is\",\"it\",\"in\",\"i\",\"this\",\"that\",\"s\",\"was\",\"as\",\"with\",\"for\",\"movie\",\"but\",\"film\",\"you\",\"t\",\"on\",\"not\",\"he\",\"are\",\"his\",\"have\",\"be\",\"one\",\"all\",\"they\",\"at\",\"by\",\"who\",\"an\",\"from\",\"so\",\"like\",\"there\",\"or\",\"her\",\"just\",\"about\",\"out\",\"has\",\"if\",\"what\",\"some\",\"good\",\"can\",\"when\",\"more\",\"very\",\"she\",\"up\",\"no\",\"time\",\"even\",\"would\",\"their\",\"my\",\"which\",\"story\",\"only\",\"really\",\"see\",\"had\",\"were\",\"well\",\"me\",\"we\",\"than\",\"much\",\"bad\",\"been\",\"get\",\"people\",\"great\",\"into\",\"also\",\"do\",\"other\",\"first\",\"will\",\"him\",\"because\",\"most\",\"how\",\"don\",\"them\",\"make\",\"its\",\"made\",\"way\",\"could\",\"then\",\"too\",\"movies\",\"after\",\"any\",\"characters\",\"character\",\"films\",\"two\",\"think\",\"watch\",\"being\",\"plot\",\"many\",\"where\",\"never\",\"love\",\"seen\",\"little\",\"life\",\"acting\",\"best\",\"did\",\"off\",\"know\",\"over\",\"ever\",\"does\",\"show\",\"better\",\"man\",\"your\",\"end\",\"here\",\"scene\",\"while\",\"these\",\"why\",\"still\",\"scenes\",\"something\",\"say\",\"go\",\"m\",\"ve\",\"should\",\"back\",\"such\",\"real\",\"through\",\"those\",\"now\",\"re\",\"doesn\",\"watching\",\"thing\",\"director\",\"funny\",\"though\",\"years\",\"didn\",\"another\",\"actors\",\"new\",\"going\",\"old\",\"makes\",\"nothing\",\"actually\",\"before\",\"work\",\"look\",\"same\",\"find\",\"lot\",\"part\",\"few\",\"every\",\"again\",\"world\",\"action\",\"cast\",\"horror\",\"things\",\"us\",\"quite\",\"want\",\"down\",\"pretty\",\"young\",\"fact\",\"around\",\"seems\",\"enough\",\"both\",\"take\",\"long\",\"however\",\"thought\",\"got\",\"own\",\"give\",\"comedy\",\"between\",\"big\",\"d\",\"must\",\"series\",\"right\",\"may\",\"without\",\"role\",\"guy\",\"original\",\"interesting\",\"whole\",\"come\",\"isn\",\"times\",\"always\",\"saw\",\"least\",\"bit\",\"gets\",\"almost\",\"script\",\"point\",\"last\",\"music\",\"done\",\"minutes\",\"feel\",\"far\",\"since\",\"girl\",\"ll\",\"yet\",\"might\",\"making\",\"performance\",\"away\",\"family\",\"anything\",\"am\",\"probably\",\"hard\",\"woman\",\"tv\",\"kind\",\"fun\",\"rather\",\"day\",\"played\",\"worst\",\"each\",\"found\",\"sure\",\"anyone\",\"especially\",\"trying\",\"having\",\"our\",\"screen\",\"looking\",\"different\",\"believe\",\"sense\",\"place\",\"american\",\"although\",\"ending\",\"goes\",\"worth\",\"course\",\"set\",\"shows\",\"maybe\",\"three\",\"comes\",\"dvd\",\"money\",\"once\",\"everything\",\"plays\",\"effects\",\"put\",\"john\",\"looks\",\"actor\",\"main\",\"together\",\"during\",\"someone\",\"let\",\"wasn\",\"instead\",\"everyone\",\"war\",\"year\",\"reason\",\"takes\",\"special\",\"said\",\"high\",\"true\",\"night\",\"book\",\"seem\",\"job\",\"play\",\"watched\",\"audience\",\"later\",\"wife\",\"black\",\"death\",\"himself\",\"star\",\"half\",\"seeing\",\"used\",\"idea\",\"dead\",\"second\",\"men\",\"left\",\"excellent\",\"simply\",\"shot\",\"else\",\"beautiful\",\"sex\",\"completely\",\"budget\",\"father\",\"women\",\"mind\",\"house\",\"hollywood\",\"poor\",\"less\",\"fan\",\"along\",\"boring\",\"performances\",\"home\",\"line\",\"help\",\"nice\",\"try\",\"couple\",\"top\",\"version\",\"until\",\"either\",\"low\",\"camera\",\"next\",\"use\",\"friends\",\"short\",\"wrong\",\"start\",\"kids\",\"given\",\"mother\",\"read\",\"need\",\"full\",\"enjoy\",\"production\",\"classic\",\"perhaps\",\"school\",\"moments\",\"truly\",\"stupid\",\"keep\",\"awful\",\"getting\",\"rest\",\"video\",\"face\",\"tell\",\"mean\",\"others\",\"itself\",\"understand\",\"boy\",\"terrible\",\"small\",\"name\",\"style\",\"came\",\"won\",\"playing\",\"recommend\",\"doing\",\"lost\",\"definitely\",\"person\",\"dialogue\",\"gives\",\"entertaining\",\"wonderful\",\"often\",\"live\",\"lines\",\"hope\",\"went\",\"stars\",\"case\",\"remember\",\"written\",\"head\",\"couldn\",\"early\",\"title\",\"yes\",\"human\",\"perfect\",\"become\",\"based\",\"friend\",\"children\",\"certainly\",\"liked\",\"problem\",\"drama\",\"son\",\"picture\",\"fans\",\"several\",\"under\",\"lead\",\"laugh\",\"oh\",\"humor\",\"guys\",\"supposed\",\"direction\",\"against\",\"absolutely\",\"overall\",\"sort\",\"piece\",\"episode\",\"finally\",\"game\",\"lives\",\"called\",\"entire\",\"evil\",\"cinema\",\"worse\",\"care\",\"waste\",\"killer\",\"dark\",\"beginning\",\"felt\",\"despite\",\"seemed\",\"genre\",\"final\",\"b\",\"totally\",\"history\",\"wanted\",\"unfortunately\",\"town\",\"throughout\",\"white\",\"becomes\",\"city\",\"able\",\"days\",\"already\",\"turn\",\"guess\",\"run\",\"loved\",\"fine\",\"act\",\"mr\",\"flick\",\"today\",\"horrible\",\"heart\",\"side\",\"hand\",\"kill\",\"tries\",\"wants\",\"starts\",\"quality\",\"killed\",\"past\",\"themselves\",\"child\",\"close\",\"matter\",\"group\",\"sound\",\"turns\",\"parts\",\"daughter\",\"viewer\",\"etc\",\"expect\",\"fight\",\"car\",\"enjoyed\",\"directed\",\"writing\",\"decent\",\"type\",\"violence\",\"stop\",\"example\",\"stuff\",\"self\",\"kid\",\"amazing\",\"behind\",\"soon\",\"blood\",\"favorite\",\"works\",\"known\",\"thinking\",\"gave\",\"obviously\",\"sometimes\",\"hero\",\"eyes\",\"actress\",\"girls\",\"michael\",\"happened\",\"brilliant\",\"stories\",\"except\",\"myself\",\"coming\",\"hour\",\"says\",\"writer\",\"late\",\"husband\",\"extremely\",\"experience\",\"hell\",\"happens\",\"art\",\"heard\",\"police\",\"took\",\"roles\",\"feeling\",\"leave\",\"highly\",\"attempt\",\"taken\",\"interest\",\"wouldn\",\"murder\",\"moment\",\"slow\",\"score\",\"god\",\"including\",\"looked\",\"obvious\",\"involved\",\"living\",\"anyway\",\"robert\",\"david\",\"cool\",\"hours\",\"save\",\"ok\",\"age\",\"voice\",\"o\",\"told\",\"career\",\"across\",\"wonder\",\"none\",\"strong\",\"cut\",\"happen\",\"please\",\"gore\",\"simple\",\"hilarious\",\"brother\",\"exactly\",\"important\",\"power\",\"chance\",\"ago\",\"james\",\"particularly\",\"relationship\",\"documentary\",\"level\",\"complete\",\"female\",\"light\",\"annoying\",\"possible\",\"serious\",\"cannot\",\"hit\",\"crap\",\"sad\",\"running\",\"lack\",\"sequel\",\"talent\",\"usually\",\"whose\",\"reality\",\"basically\",\"ends\",\"seriously\",\"strange\",\"order\",\"finds\",\"call\",\"taking\",\"somewhat\",\"room\",\"happy\",\"silly\",\"scary\",\"middle\",\"turned\",\"alone\",\"apparently\",\"ridiculous\",\"change\",\"clich\",\"country\",\"mostly\",\"attention\",\"miss\",\"usual\",\"four\",\"shown\",\"body\",\"song\",\"wish\",\"jokes\",\"opening\",\"number\",\"released\",\"disappointed\",\"word\",\"jack\",\"thriller\",\"single\",\"opinion\",\"straight\",\"future\",\"english\",\"words\",\"parents\",\"novel\",\"saying\",\"yourself\",\"cinematography\",\"view\",\"cheap\",\"started\",\"french\",\"beyond\",\"huge\",\"talking\",\"non\",\"clearly\",\"sets\",\"talk\",\"major\",\"die\",\"shots\",\"rating\",\"knew\",\"problems\",\"knows\",\"gay\",\"modern\",\"fast\",\"british\",\"due\",\"events\",\"tells\",\"add\",\"comic\",\"bring\",\"clear\",\"ones\",\"hate\",\"above\",\"storyline\",\"york\",\"easy\",\"typical\",\"entertainment\",\"aren\",\"haven\",\"easily\",\"within\",\"local\",\"upon\",\"general\",\"dialog\",\"crime\",\"ten\",\"giving\",\"george\",\"lots\",\"sequence\",\"america\",\"ways\",\"falls\",\"similar\",\"begins\",\"class\",\"appears\",\"near\",\"named\",\"mystery\",\"bunch\",\"king\",\"filmed\",\"elements\",\"romantic\",\"certain\",\"team\",\"review\",\"predictable\",\"working\",\"avoid\",\"stand\",\"de\",\"earth\",\"e\",\"sorry\",\"th\",\"television\",\"mention\",\"enjoyable\",\"supporting\",\"tale\",\"theme\",\"message\",\"points\",\"cop\",\"gone\",\"among\",\"fall\",\"space\",\"tom\",\"viewers\",\"eye\",\"red\",\"truth\",\"leads\",\"surprised\",\"stay\",\"release\",\"kept\",\"minute\",\"richard\",\"five\",\"dull\",\"killing\",\"using\",\"effort\",\"monster\",\"third\",\"brought\",\"feels\",\"musical\",\"suspense\",\"tried\",\"means\",\"whether\",\"comments\",\"sequences\",\"dog\",\"moving\",\"peter\",\"period\",\"lee\",\"needs\",\"doubt\",\"fi\",\"showing\",\"buy\",\"okay\",\"sci\",\"somehow\",\"soundtrack\",\"viewing\",\"herself\",\"rent\",\"average\",\"nearly\",\"songs\",\"theater\",\"reviews\",\"episodes\",\"follow\",\"whatever\",\"surprise\",\"feature\",\"form\",\"move\",\"forget\",\"realistic\",\"believable\",\"free\",\"premise\",\"material\",\"sister\",\"editing\",\"deep\",\"brothers\",\"gun\",\"imagine\",\"forced\",\"famous\",\"poorly\",\"deal\",\"crew\",\"western\",\"indeed\",\"check\",\"expected\",\"possibly\",\"fantastic\",\"figure\",\"lame\",\"society\",\"dr\",\"otherwise\",\"learn\",\"open\",\"paul\",\"eventually\",\"plus\",\"lady\",\"weak\",\"hear\",\"stage\",\"sexual\",\"leaves\",\"question\",\"note\",\"difficult\",\"sit\",\"towards\",\"box\",\"romance\",\"situation\",\"begin\",\"earlier\",\"personal\",\"atmosphere\",\"reading\",\"male\",\"screenplay\",\"wait\",\"joe\",\"decided\",\"battle\",\"interested\",\"previous\",\"powerful\",\"business\",\"greatest\",\"actual\",\"hot\",\"nor\",\"became\",\"cheesy\",\"acted\",\"worked\",\"animation\",\"subject\",\"island\",\"effect\",\"footage\",\"era\",\"result\",\"mess\",\"oscar\",\"meet\",\"rock\",\"credits\",\"features\",\"particular\",\"whom\",\"memorable\",\"boys\",\"air\",\"setting\",\"perfectly\",\"writers\",\"laughs\",\"street\",\"shame\",\"quickly\",\"older\",\"rich\",\"hands\",\"background\",\"keeps\",\"twist\",\"dramatic\",\"bill\",\"present\",\"total\",\"various\",\"pay\",\"appear\",\"telling\",\"directing\",\"party\",\"william\",\"alien\",\"unless\",\"harry\",\"mark\",\"crazy\",\"realize\",\"badly\",\"front\",\"forward\",\"girlfriend\",\"needed\",\"comment\",\"emotional\",\"imdb\",\"development\",\"fighting\",\"break\",\"secret\",\"fairly\",\"unique\",\"c\",\"baby\",\"outside\",\"manages\",\"married\",\"plenty\",\"villain\",\"apart\",\"missing\",\"masterpiece\",\"nature\",\"brings\",\"remake\",\"write\",\"former\",\"superb\",\"weird\",\"doctor\",\"clever\",\"list\",\"escape\",\"incredibly\",\"meets\",\"hold\",\"reasons\",\"created\",\"sounds\",\"sam\",\"inside\",\"unlike\",\"leading\",\"laughing\",\"ideas\",\"japanese\",\"season\",\"prison\",\"directors\",\"copy\",\"cute\",\"return\",\"public\",\"violent\",\"political\",\"success\",\"force\",\"create\",\"caught\",\"admit\",\"meant\",\"water\"],\"x1\":{\"__ndarray__\":\"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\",\"dtype\":\"float32\",\"shape\":[1000]},\"x2\":{\"__ndarray__\":\"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\",\"dtype\":\"float32\",\"shape\":[1000]}},\"selected\":{\"id\":\"1468\",\"type\":\"Selection\"},\"selection_policy\":{\"id\":\"1467\",\"type\":\"UnionRenderers\"}},\"id\":\"1426\",\"type\":\"ColumnDataSource\"},{\"attributes\":{\"text\":\"word2vec T-SNE (eng model, top1000 words, +SVD)\"},\"id\":\"1397\",\"type\":\"Title\"},{\"attributes\":{\"below\":[{\"id\":\"1407\",\"type\":\"LinearAxis\"}],\"center\":[{\"id\":\"1411\",\"type\":\"Grid\"},{\"id\":\"1416\",\"type\":\"Grid\"},{\"id\":\"1432\",\"type\":\"LabelSet\"}],\"left\":[{\"id\":\"1412\",\"type\":\"LinearAxis\"}],\"renderers\":[{\"id\":\"1430\",\"type\":\"GlyphRenderer\"}],\"title\":{\"id\":\"1397\",\"type\":\"Title\"},\"toolbar\":{\"id\":\"1421\",\"type\":\"Toolbar\"},\"toolbar_location\":\"above\",\"x_range\":{\"id\":\"1399\",\"type\":\"DataRange1d\"},\"x_scale\":{\"id\":\"1403\",\"type\":\"LinearScale\"},\"y_range\":{\"id\":\"1401\",\"type\":\"DataRange1d\"},\"y_scale\":{\"id\":\"1405\",\"type\":\"LinearScale\"}},\"id\":\"1396\",\"subtype\":\"Figure\",\"type\":\"Plot\"},{\"attributes\":{\"active_drag\":\"auto\",\"active_inspect\":\"auto\",\"active_multi\":null,\"active_scroll\":\"auto\",\"active_tap\":\"auto\",\"tools\":[{\"id\":\"1417\",\"type\":\"PanTool\"},{\"id\":\"1418\",\"type\":\"WheelZoomTool\"},{\"id\":\"1419\",\"type\":\"ResetTool\"},{\"id\":\"1420\",\"type\":\"SaveTool\"}]},\"id\":\"1421\",\"type\":\"Toolbar\"},{\"attributes\":{},\"id\":\"1413\",\"type\":\"BasicTicker\"},{\"attributes\":{\"dimension\":1,\"ticker\":{\"id\":\"1413\",\"type\":\"BasicTicker\"}},\"id\":\"1416\",\"type\":\"Grid\"},{\"attributes\":{},\"id\":\"1418\",\"type\":\"WheelZoomTool\"},{\"attributes\":{\"fill_alpha\":{\"value\":0.1},\"fill_color\":{\"value\":\"#1f77b4\"},\"line_alpha\":{\"value\":0.1},\"line_color\":{\"value\":\"#1f77b4\"},\"size\":{\"units\":\"screen\",\"value\":8},\"x\":{\"field\":\"x1\"},\"y\":{\"field\":\"x2\"}},\"id\":\"1429\",\"type\":\"Scatter\"},{\"attributes\":{},\"id\":\"1419\",\"type\":\"ResetTool\"},{\"attributes\":{},\"id\":\"1408\",\"type\":\"BasicTicker\"},{\"attributes\":{\"formatter\":{\"id\":\"1464\",\"type\":\"BasicTickFormatter\"},\"ticker\":{\"id\":\"1413\",\"type\":\"BasicTicker\"}},\"id\":\"1412\",\"type\":\"LinearAxis\"},{\"attributes\":{},\"id\":\"1417\",\"type\":\"PanTool\"},{\"attributes\":{\"data_source\":{\"id\":\"1426\",\"type\":\"ColumnDataSource\"},\"glyph\":{\"id\":\"1428\",\"type\":\"Scatter\"},\"hover_glyph\":null,\"muted_glyph\":null,\"nonselection_glyph\":{\"id\":\"1429\",\"type\":\"Scatter\"},\"selection_glyph\":null,\"view\":{\"id\":\"1431\",\"type\":\"CDSView\"}},\"id\":\"1430\",\"type\":\"GlyphRenderer\"},{\"attributes\":{},\"id\":\"1466\",\"type\":\"BasicTickFormatter\"},{\"attributes\":{\"callback\":null},\"id\":\"1401\",\"type\":\"DataRange1d\"},{\"attributes\":{\"formatter\":{\"id\":\"1466\",\"type\":\"BasicTickFormatter\"},\"ticker\":{\"id\":\"1408\",\"type\":\"BasicTicker\"}},\"id\":\"1407\",\"type\":\"LinearAxis\"},{\"attributes\":{\"ticker\":{\"id\":\"1408\",\"type\":\"BasicTicker\"}},\"id\":\"1411\",\"type\":\"Grid\"},{\"attributes\":{\"source\":{\"id\":\"1426\",\"type\":\"ColumnDataSource\"}},\"id\":\"1431\",\"type\":\"CDSView\"},{\"attributes\":{\"source\":{\"id\":\"1426\",\"type\":\"ColumnDataSource\"},\"text\":{\"field\":\"names\"},\"text_align\":\"center\",\"text_color\":{\"value\":\"#555555\"},\"text_font_size\":{\"value\":\"8pt\"},\"x\":{\"field\":\"x1\"},\"y\":{\"field\":\"x2\"},\"y_offset\":{\"value\":6}},\"id\":\"1432\",\"type\":\"LabelSet\"},{\"attributes\":{},\"id\":\"1468\",\"type\":\"Selection\"},{\"attributes\":{\"fill_color\":{\"value\":\"#1f77b4\"},\"line_color\":{\"value\":\"#1f77b4\"},\"size\":{\"units\":\"screen\",\"value\":8},\"x\":{\"field\":\"x1\"},\"y\":{\"field\":\"x2\"}},\"id\":\"1428\",\"type\":\"Scatter\"},{\"attributes\":{\"callback\":null},\"id\":\"1399\",\"type\":\"DataRange1d\"}],\"root_ids\":[\"1396\"]},\"title\":\"Bokeh Application\",\"version\":\"1.3.4\"}};\n",
       "  var render_items = [{\"docid\":\"7a352117-ad77-4db0-907a-0c9e3f095856\",\"roots\":{\"1396\":\"7cc4db70-8630-4522-a67e-a99f4bd9002f\"}}];\n",
       "  root.Bokeh.embed.embed_items_notebook(docs_json, render_items);\n",
       "\n",
       "  }\n",
       "  if (root.Bokeh !== undefined) {\n",
       "    embed_document(root);\n",
       "  } else {\n",
       "    var attempts = 0;\n",
       "    var timer = setInterval(function(root) {\n",
       "      if (root.Bokeh !== undefined) {\n",
       "        embed_document(root);\n",
       "        clearInterval(timer);\n",
       "      }\n",
       "      attempts++;\n",
       "      if (attempts > 100) {\n",
       "        console.log(\"Bokeh: ERROR: Unable to run BokehJS code because BokehJS library is missing\");\n",
       "        clearInterval(timer);\n",
       "      }\n",
       "    }, 10, root)\n",
       "  }\n",
       "})(window);"
      ],
      "application/vnd.bokehjs_exec.v0+json": ""
     },
     "metadata": {
      "application/vnd.bokehjs_exec.v0+json": {
       "id": "1396"
      }
     },
     "output_type": "display_data"
    }
   ],
   "source": [
    "output_notebook()\n",
    "\n",
    "p = figure(tools=\"pan,wheel_zoom,reset,save\",\n",
    "           toolbar_location=\"above\",\n",
    "           title=\"word2vec T-SNE (eng model, top1000 words, +SVD)\")\n",
    "\n",
    "source = ColumnDataSource(data=dict(x1=top_words_tsne2[:,0],\n",
    "                                    x2=top_words_tsne2[:,1],\n",
    "                                    names=top_words))\n",
    "\n",
    "p.scatter(x=\"x1\", y=\"x2\", size=8, source=source)\n",
    "\n",
    "labels = LabelSet(x=\"x1\", y=\"x2\", text=\"names\", y_offset=6,\n",
    "                  text_font_size=\"8pt\", text_color=\"#555555\",\n",
    "                  source=source, text_align='center')\n",
    "p.add_layout(labels)\n",
    "\n",
    "show(p)"
   ]
  },
  {
   "cell_type": "markdown",
   "metadata": {
    "colab_type": "text",
    "id": "9qZcF3nGX-sp"
   },
   "source": [
    "## FastText\n",
    "\n",
    "FastText использует не только эмбеддинги слов, но и эмбеддинги n-грам. В корпусе каждое слово автоматически представляется в виде набора символьных n-грамм. Скажем, если мы установим n=3, то вектор для слова \"where\" будет представлен суммой векторов следующих триграм: \"<wh\", \"whe\", \"her\", \"ere\", \"re>\" (где \"<\" и \">\" символы, обозначающие начало и конец слова). Благодаря этому мы можем также получать вектора для слов, отсутствуюших в словаре, а также эффективно работать с текстами, содержащими ошибки и опечатки.\n",
    "\n",
    "* [Статья](https://aclweb.org/anthology/Q17-1010)\n",
    "* [Сайт](https://fasttext.cc/)\n",
    "* [Тьюториал](https://fasttext.cc/docs/en/support.html)\n",
    "* [Вектора для 157 языков](https://fasttext.cc/docs/en/crawl-vectors.html)\n",
    "* [Вектора, обученные на википедии](https://fasttext.cc/docs/en/pretrained-vectors.html) (отдельно для 294 разных языков)\n",
    "* [Репозиторий](https://github.com/facebookresearch/fasttext)\n",
    "\n",
    "Есть библиотека `fasttext` для питона (с готовыми моделями можно работать и через `gensim`)."
   ]
  },
  {
   "cell_type": "code",
   "execution_count": null,
   "metadata": {
    "colab": {
     "base_uri": "https://localhost:8080/",
     "height": 343
    },
    "colab_type": "code",
    "id": "NvzM2AL7Z8gl",
    "outputId": "a93516dc-c859-41f7-e922-2ebd06eadd6a"
   },
   "outputs": [],
   "source": [
    "! git clone https://github.com/facebookresearch/fastText.git\n",
    "! pip3 install fastText/."
   ]
  },
  {
   "cell_type": "code",
   "execution_count": 1,
   "metadata": {
    "colab": {},
    "colab_type": "code",
    "id": "s-IW_cBDX-sp"
   },
   "outputs": [],
   "source": [
    "import fasttext\n",
    "\n",
    "# так можно обучить свою модель \n",
    "ft_model = fasttext.train_unsupervised('clean_text.txt', minn=3, maxn=4, dim=300)"
   ]
  },
  {
   "cell_type": "code",
   "execution_count": 2,
   "metadata": {
    "colab": {
     "base_uri": "https://localhost:8080/",
     "height": 1000
    },
    "colab_type": "code",
    "id": "NNiuzf4DX-sr",
    "outputId": "944550f0-33d5-498b-f16d-7b9872667338"
   },
   "outputs": [
    {
     "data": {
      "text/plain": [
       "array([-6.73057232e-03,  2.08648682e-01, -1.88893840e-01, -4.85788099e-02,\n",
       "        6.45734444e-02,  1.29233301e-02, -2.47105390e-01, -6.73017651e-03,\n",
       "       -8.79168790e-03,  8.76431391e-02,  1.43808842e-01,  8.35265443e-02,\n",
       "       -1.74307749e-02,  3.79030369e-02,  3.74617018e-02, -9.29040164e-02,\n",
       "       -5.69233031e-04, -9.27814022e-02,  1.15031146e-01,  1.22447662e-01,\n",
       "        5.78474961e-02, -3.64004560e-02,  9.89502743e-02, -7.79608786e-02,\n",
       "        9.53299105e-02,  2.64451802e-02,  1.28836200e-01,  9.55208484e-03,\n",
       "       -9.69734341e-02, -1.23743024e-02,  7.17910826e-02,  3.13416235e-02,\n",
       "       -2.42757481e-02, -3.46199162e-02, -1.83102563e-02, -2.79114731e-02,\n",
       "        9.18026268e-02, -3.58579867e-02, -7.19081089e-02, -1.66802078e-01,\n",
       "        7.83748850e-02,  9.05971229e-02, -9.21034664e-02, -3.60868834e-02,\n",
       "        9.05119032e-02, -5.10555767e-02,  7.91546479e-02,  1.12251854e-02,\n",
       "       -2.90307347e-02, -5.20794950e-02,  1.09920003e-01, -4.71951626e-02,\n",
       "        6.38564071e-03, -2.92278230e-02,  4.58015911e-02, -1.74349900e-02,\n",
       "        5.80420792e-02, -1.08026862e-01,  3.48103605e-02, -3.52448449e-02,\n",
       "        7.65781999e-02, -4.75281589e-02, -1.29574239e-02, -1.14582062e-01,\n",
       "        1.97508961e-01, -1.14500642e-01, -6.65084049e-02, -7.93738365e-02,\n",
       "        4.83999737e-02,  7.12817535e-02,  7.12594315e-02,  1.73043669e-03,\n",
       "       -6.09841347e-02, -9.15494841e-03,  9.45168734e-02,  7.66791850e-02,\n",
       "        5.05943857e-02,  2.00729240e-02,  3.10069509e-02,  9.58603397e-02,\n",
       "        1.74640447e-01,  1.27250507e-01,  1.00349844e-01,  8.63285363e-02,\n",
       "        2.86556575e-02, -3.34363878e-02,  9.90145430e-02,  1.04766406e-01,\n",
       "        1.38402404e-02, -1.71960801e-01, -2.67057549e-02, -3.07223238e-02,\n",
       "        1.12617210e-01, -6.26395866e-02,  1.11327149e-01, -1.94193438e-01,\n",
       "       -2.12324616e-02, -9.39345062e-02,  1.26984552e-01,  5.56384446e-03,\n",
       "       -5.12073524e-02, -3.47465952e-03, -5.25037237e-02, -8.57318267e-02,\n",
       "       -1.01087891e-01,  1.05771394e-02, -2.34351847e-02, -1.24176823e-01,\n",
       "        1.80971369e-01,  9.82101932e-02,  8.45972449e-02, -9.13974922e-03,\n",
       "       -6.33839294e-02,  5.16885407e-02,  6.15494549e-02, -7.66910438e-04,\n",
       "        1.52386323e-01, -1.62615459e-02, -1.70393094e-01,  9.69758630e-02,\n",
       "        3.02382465e-02, -1.94976535e-02,  3.25018130e-02, -7.82473199e-03,\n",
       "       -8.66744071e-02,  5.89388572e-02,  7.70059600e-02, -2.92308461e-02,\n",
       "       -4.78230342e-02,  8.69427100e-02,  1.47246188e-02, -1.10437728e-01,\n",
       "       -1.81830321e-02,  2.80288444e-03, -1.35073096e-01,  4.27607149e-02,\n",
       "        1.21712163e-01,  4.26514745e-02,  1.02130674e-01,  1.09387875e-01,\n",
       "       -6.76314458e-02, -2.19736397e-02, -1.42590078e-02,  1.51833981e-01,\n",
       "       -3.55542004e-02, -1.01965843e-02,  8.61478671e-02,  1.21171199e-01,\n",
       "        4.35103662e-02, -1.27148136e-01,  2.86786089e-04, -1.12724781e-01,\n",
       "       -1.32377734e-02, -5.58827780e-02,  1.23534635e-01, -1.87501460e-02,\n",
       "        1.35282971e-04,  1.16088308e-01, -6.09284155e-02, -1.13174748e-02,\n",
       "       -5.27572865e-03,  5.73337451e-02, -9.00535937e-03,  1.29378289e-02,\n",
       "       -1.14077944e-02, -8.20353180e-02,  6.69338927e-02, -2.50906833e-02,\n",
       "       -1.24342680e-01,  5.50372899e-02,  2.33027525e-02, -3.28692198e-02,\n",
       "       -6.47275150e-02,  4.17298488e-02, -6.70882761e-02, -1.30674869e-01,\n",
       "       -6.24547899e-02, -8.21606081e-04,  3.66681293e-02, -1.34866223e-01,\n",
       "       -1.02896653e-01, -7.67763108e-02, -6.47001639e-02, -4.36929986e-05,\n",
       "       -3.36703397e-02,  1.19572580e-01,  7.04517141e-02,  2.48805910e-01,\n",
       "       -1.60038099e-01,  9.63262916e-02, -2.48033013e-02, -1.68569740e-02,\n",
       "       -5.78747094e-02, -4.94221784e-02,  3.92674208e-02, -1.39876530e-01,\n",
       "       -1.72083899e-01,  3.47250029e-02,  5.60017303e-02, -7.47162029e-02,\n",
       "       -1.11758430e-02,  7.31188655e-02,  1.80794954e-01, -6.33453876e-02,\n",
       "        1.11406483e-01,  1.26648873e-01,  2.96433605e-02,  1.64118111e-01,\n",
       "       -1.25010997e-01, -1.13190405e-01, -1.58566728e-01,  1.72512129e-01,\n",
       "       -1.91388682e-01,  3.05648502e-02, -1.34458512e-01, -1.27813905e-01,\n",
       "       -4.29371670e-02, -1.39266178e-01,  2.14433596e-01, -1.15436554e-01,\n",
       "        7.04686120e-02,  2.10322127e-01,  8.59176069e-02, -9.71172899e-02,\n",
       "       -9.73367412e-03, -3.62418927e-02, -7.64029771e-02, -1.01196863e-01,\n",
       "       -2.87693366e-03,  7.45899603e-02, -5.78885190e-02,  1.21475153e-01,\n",
       "        7.30733424e-02, -9.50976238e-02, -1.33782178e-02,  1.82839960e-01,\n",
       "        5.90445511e-02, -1.93317339e-01,  4.13423292e-02, -3.97534743e-02,\n",
       "       -1.28284931e-01, -2.08069483e-04, -9.44554806e-02,  3.68063785e-02,\n",
       "        1.72261387e-01, -1.40317410e-01,  1.56511888e-01, -1.51956920e-02,\n",
       "       -8.98872614e-02,  1.14330649e-01, -1.61125120e-02, -6.90137446e-02,\n",
       "        1.20110596e-02, -1.37515916e-02,  2.71513518e-02, -1.92957800e-02,\n",
       "        1.98021457e-01,  1.88903794e-01, -3.37114860e-03, -4.81841266e-02,\n",
       "        1.38535365e-01, -9.85890403e-02,  4.71324436e-02,  2.77469009e-01,\n",
       "       -3.47855799e-02,  1.26417994e-01, -6.35265931e-02, -5.32135442e-02,\n",
       "       -4.52228785e-02, -6.00751005e-02, -1.12910740e-01, -2.88624596e-02,\n",
       "        1.67978451e-01, -2.31560674e-02,  7.10342824e-02, -2.15270612e-02,\n",
       "        9.32300016e-02, -6.40697926e-02,  3.74698117e-02,  9.56636071e-02,\n",
       "        2.00087786e-01,  1.15956977e-01, -1.89885348e-02,  2.21588947e-02,\n",
       "        2.72990733e-01, -4.70504398e-03,  1.64043494e-02,  1.60106763e-01,\n",
       "        5.43075874e-02, -4.76532876e-02,  6.92079365e-02,  8.00466072e-03,\n",
       "        1.04811443e-02,  4.18723710e-02, -7.83682521e-03,  1.27002001e-01,\n",
       "        9.41319093e-02,  3.92656662e-02,  9.86318514e-02, -1.20437346e-01],\n",
       "      dtype=float32)"
      ]
     },
     "execution_count": 2,
     "metadata": {},
     "output_type": "execute_result"
    }
   ],
   "source": [
    "ft_model.get_word_vector(\"movie\")"
   ]
  },
  {
   "cell_type": "code",
   "execution_count": 3,
   "metadata": {
    "colab": {
     "base_uri": "https://localhost:8080/",
     "height": 187
    },
    "colab_type": "code",
    "id": "TsZnXqH8X-st",
    "outputId": "983fcc63-9a13-43fb-a4be-3dfd55d70863"
   },
   "outputs": [
    {
     "data": {
      "text/plain": [
       "[(0.999921977519989, 'actors'),\n",
       " (0.9998977780342102, 'director'),\n",
       " (0.9998862743377686, 'directors'),\n",
       " (0.9998846650123596, 'perfectly'),\n",
       " (0.9998726844787598, 'predator'),\n",
       " (0.9998723268508911, 'utterly'),\n",
       " (0.9998608827590942, 'dialog'),\n",
       " (0.9998583793640137, 'actual'),\n",
       " (0.9998502135276794, 'attractive'),\n",
       " (0.9998490810394287, 'dialogue')]"
      ]
     },
     "execution_count": 3,
     "metadata": {},
     "output_type": "execute_result"
    }
   ],
   "source": [
    "ft_model.get_nearest_neighbors('actor')"
   ]
  },
  {
   "cell_type": "code",
   "execution_count": 4,
   "metadata": {
    "colab": {
     "base_uri": "https://localhost:8080/",
     "height": 187
    },
    "colab_type": "code",
    "id": "iKR3FzCFX-sv",
    "outputId": "a673203f-8cd8-4dc1-b4fd-79b8f8fe83cb"
   },
   "outputs": [
    {
     "data": {
      "text/plain": [
       "[(0.9998149275779724, 'act'),\n",
       " (0.9998092651367188, 'badly'),\n",
       " (0.9998079538345337, 'actually'),\n",
       " (0.9997990131378174, 'poorly'),\n",
       " (0.999788761138916, 'fly'),\n",
       " (0.999783992767334, 'write'),\n",
       " (0.9997831583023071, 'absolutely'),\n",
       " (0.9997802972793579, 'simply'),\n",
       " (0.9997757077217102, 'silly'),\n",
       " (0.9997753500938416, 'enjoyable')]"
      ]
     },
     "execution_count": 4,
     "metadata": {},
     "output_type": "execute_result"
    }
   ],
   "source": [
    "ft_model.get_analogies(\"woman\", \"man\", \"actor\")"
   ]
  },
  {
   "cell_type": "code",
   "execution_count": 6,
   "metadata": {
    "colab": {
     "base_uri": "https://localhost:8080/",
     "height": 187
    },
    "colab_type": "code",
    "id": "ttAgMPC_X-sx",
    "outputId": "9bbec1ad-d83a-4e75-df98-94356598a671"
   },
   "outputs": [
    {
     "data": {
      "text/plain": [
       "[(0.9999391436576843, 'act'),\n",
       " (0.9998903274536133, 'actors'),\n",
       " (0.9998863339424133, 'actor'),\n",
       " (0.9998792409896851, 'actress'),\n",
       " (0.9998623728752136, 'single'),\n",
       " (0.9998517632484436, 'actual'),\n",
       " (0.9998226761817932, 'terrible'),\n",
       " (0.9998196363449097, 'exact'),\n",
       " (0.9998190402984619, 'plot'),\n",
       " (0.9998172521591187, 'wrong')]"
      ]
     },
     "execution_count": 6,
     "metadata": {
      "tags": []
     },
     "output_type": "execute_result"
    }
   ],
   "source": [
    "# проблема с опечатками решена\n",
    "\n",
    "ft_model.get_nearest_neighbors('actr')"
   ]
  },
  {
   "cell_type": "code",
   "execution_count": 7,
   "metadata": {
    "colab": {
     "base_uri": "https://localhost:8080/",
     "height": 187
    },
    "colab_type": "code",
    "id": "V9alEdz0X-s0",
    "outputId": "1126182a-8abd-471c-9346-59e852625c22"
   },
   "outputs": [
    {
     "data": {
      "text/plain": [
       "[(0.9999324679374695, 'reviews'),\n",
       " (0.9999246597290039, 'review'),\n",
       " (0.9999151825904846, 'recommended'),\n",
       " (0.9999132752418518, 'rented'),\n",
       " (0.9998916387557983, 'waste'),\n",
       " (0.999889075756073, 'movie'),\n",
       " (0.9998835921287537, 'thank'),\n",
       " (0.9998812079429626, 'not'),\n",
       " (0.9998751878738403, 'watchable'),\n",
       " (0.9998645782470703, 'only')]"
      ]
     },
     "execution_count": 7,
     "metadata": {
      "tags": []
     },
     "output_type": "execute_result"
    }
   ],
   "source": [
    "# проблема с out of vocabulary словами - тоже\n",
    "\n",
    "ft_model.get_nearest_neighbors('moviegeek')"
   ]
  },
  {
   "cell_type": "markdown",
   "metadata": {
    "colab_type": "raw",
    "id": "0f5FRfEMX-s3"
   },
   "source": [
    "Кроме этого, fastText можно использовать для классификации, для этого нужен следующий формат размеченных данных:\n",
    "\n",
    "__label_1__  text_1\n",
    "\n",
    "__label_2__  text_2\n",
    "\n",
    "..."
   ]
  }
 ],
 "metadata": {
  "colab": {
   "name": "2_embeddings.ipynb",
   "provenance": [],
   "version": "0.3.2"
  },
  "kernelspec": {
   "display_name": "Python 3",
   "language": "python",
   "name": "python3"
  },
  "language_info": {
   "codemirror_mode": {
    "name": "ipython",
    "version": 3
   },
   "file_extension": ".py",
   "mimetype": "text/x-python",
   "name": "python",
   "nbconvert_exporter": "python",
   "pygments_lexer": "ipython3",
   "version": "3.7.3"
  }
 },
 "nbformat": 4,
 "nbformat_minor": 1
}
